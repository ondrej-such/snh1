{
 "cells": [
  {
   "cell_type": "markdown",
   "id": "43bae315-e02c-4990-a9b2-8bac9fc91a5b",
   "metadata": {},
   "source": [
    "# Analysis of dna dataset"
   ]
  },
  {
   "cell_type": "code",
   "execution_count": 58,
   "id": "e2038667-6ffd-422e-b3fd-cba554bd8fec",
   "metadata": {},
   "outputs": [],
   "source": [
    "library(entropy)\n",
    "source(\"lda.R\")"
   ]
  },
  {
   "cell_type": "markdown",
   "id": "8d22afd4-fc66-4e4d-b53a-fb936592438e",
   "metadata": {},
   "source": [
    "### How close is distribution of classes between the training and testing datasets?"
   ]
  },
  {
   "cell_type": "code",
   "execution_count": 59,
   "id": "57ef9238-0294-4bd6-a7fb-fad207541238",
   "metadata": {},
   "outputs": [
    {
     "name": "stdout",
     "output_type": "stream",
     "text": [
      "[1] \"unzips/n800/waveform.scale-0\"\n",
      "[1] 0\n",
      "[1] 0\n",
      "[1] \"unzips/n800/waveform.scale-1\"\n",
      "[1] 0\n",
      "[1] 0\n",
      "[1] \"unzips/n800/waveform.scale-2\"\n",
      "[1] 0\n",
      "[1] 0\n",
      "[1] \"unzips/n800/waveform.scale-3\"\n",
      "[1] 0\n",
      "[1] 0\n",
      "[1] \"unzips/n800/waveform.scale-4\"\n",
      "[1] 0\n",
      "[1] 0\n",
      "[1] \"unzips/n800/waveform.scale-5\"\n",
      "[1] 0\n",
      "[1] 0\n",
      "[1] \"unzips/n800/waveform.scale-6\"\n",
      "[1] 0\n",
      "[1] 0\n",
      "[1] \"unzips/n800/waveform.scale-7\"\n",
      "[1] 0\n",
      "[1] 0\n",
      "[1] \"unzips/n800/waveform.scale-8\"\n",
      "[1] 0\n",
      "[1] 0\n",
      "[1] \"unzips/n800/waveform.scale-9\"\n",
      "[1] 0\n",
      "[1] 0\n",
      "[1] \"unzips/n800/waveform.scale-10\"\n",
      "[1] 0\n",
      "[1] 0\n",
      "[1] \"unzips/n800/waveform.scale-11\"\n",
      "[1] 0\n",
      "[1] 0\n",
      "[1] \"unzips/n800/waveform.scale-12\"\n",
      "[1] 0\n",
      "[1] 0\n",
      "[1] \"unzips/n800/waveform.scale-13\"\n",
      "[1] 0\n",
      "[1] 0\n",
      "[1] \"unzips/n800/waveform.scale-14\"\n",
      "[1] 0\n",
      "[1] 0\n",
      "[1] \"unzips/n800/waveform.scale-15\"\n",
      "[1] 0\n",
      "[1] 0\n",
      "[1] \"unzips/n800/waveform.scale-16\"\n",
      "[1] 0\n",
      "[1] 0\n",
      "[1] \"unzips/n800/waveform.scale-17\"\n",
      "[1] 0\n",
      "[1] 0\n",
      "[1] \"unzips/n800/waveform.scale-18\"\n",
      "[1] 0\n",
      "[1] 0\n",
      "[1] \"unzips/n800/waveform.scale-19\"\n",
      "[1] 0\n",
      "[1] 0\n"
     ]
    }
   ],
   "source": [
    "library(dplyr)\n",
    "for (i in 0:19) {\n",
    " dfs <- read_wlws(800, \"waveform\", i)\n",
    " v1 <- table(filter(dfs$train, class_id %in% c(2,4,7))$class_id)\n",
    " v2 <- table(dplyr::filter(dfs$test, class_id %in% c(2,4,7) )$class_id)\n",
    " v <- as.matrix(v1/sum(v1) - v2/sum(v2) )\n",
    " print(norm(v, \"F\"))\n",
    " print(KL.plugin(v1, v2))\n",
    "}"
   ]
  },
  {
   "cell_type": "code",
   "execution_count": 60,
   "id": "e2acae31-f9b5-4b62-96ca-c95ddcee12ae",
   "metadata": {},
   "outputs": [
    {
     "name": "stdout",
     "output_type": "stream",
     "text": [
      "[1] \"unzips/n800/segment.scale-7\"\n"
     ]
    }
   ],
   "source": [
    "dfs <- read_wlws(800, \"segment\", 7)"
   ]
  },
  {
   "cell_type": "code",
   "execution_count": 61,
   "id": "714ebde4-7072-4e6a-a7ad-834999b0ffff",
   "metadata": {
    "scrolled": true
   },
   "outputs": [
    {
     "name": "stdout",
     "output_type": "stream",
     "text": [
      "[1]   1   2 Inf\n"
     ]
    },
    {
     "name": "stderr",
     "output_type": "stream",
     "text": [
      "Warning message in lda.default(x, grouping, ...):\n",
      "“variables are collinear”\n",
      "Warning message in lda.default(x, grouping, ...):\n",
      "“variables are collinear”\n",
      "Warning message in lda.default(x, grouping, ...):\n",
      "“variables are collinear”\n"
     ]
    },
    {
     "name": "stdout",
     "output_type": "stream",
     "text": [
      "[1]   2   5 Inf\n",
      "[1]   2   6 Inf\n",
      "[1]   5   6 Inf\n",
      "[1]   2   7 Inf\n"
     ]
    },
    {
     "name": "stderr",
     "output_type": "stream",
     "text": [
      "Warning message in lda.default(x, grouping, ...):\n",
      "“variables are collinear”\n",
      "Warning message in lda.default(x, grouping, ...):\n",
      "“variables are collinear”\n"
     ]
    },
    {
     "name": "stdout",
     "output_type": "stream",
     "text": [
      "[1]   6   7 Inf\n"
     ]
    },
    {
     "name": "stderr",
     "output_type": "stream",
     "text": [
      "Warning message in fn(r[, , k]):\n",
      "“stratified() : Maximum number of iterations reached without convergence \n",
      " delta =1.02822e-39\n",
      " delta1= 1.02768e-39”\n"
     ]
    },
    {
     "data": {
      "text/html": [
       "<table class=\"dataframe\">\n",
       "<caption>A data.frame: 4 × 6</caption>\n",
       "<thead>\n",
       "\t<tr><th scope=col>n</th><th scope=col>K</th><th scope=col>method</th><th scope=col>correct</th><th scope=col>dataset</th><th scope=col>run</th></tr>\n",
       "\t<tr><th scope=col>&lt;dbl&gt;</th><th scope=col>&lt;int&gt;</th><th scope=col>&lt;chr&gt;</th><th scope=col>&lt;int&gt;</th><th scope=col>&lt;chr&gt;</th><th scope=col>&lt;dbl&gt;</th></tr>\n",
       "</thead>\n",
       "<tbody>\n",
       "\t<tr><td>800</td><td>7</td><td>normal</td><td>561</td><td>segment</td><td>7</td></tr>\n",
       "\t<tr><td>800</td><td>7</td><td>radial</td><td>933</td><td>segment</td><td>7</td></tr>\n",
       "\t<tr><td>800</td><td>7</td><td>wlw2  </td><td>936</td><td>segment</td><td>7</td></tr>\n",
       "\t<tr><td>800</td><td>7</td><td>oracle</td><td>932</td><td>segment</td><td>7</td></tr>\n",
       "</tbody>\n",
       "</table>\n"
      ],
      "text/latex": [
       "A data.frame: 4 × 6\n",
       "\\begin{tabular}{llllll}\n",
       " n & K & method & correct & dataset & run\\\\\n",
       " <dbl> & <int> & <chr> & <int> & <chr> & <dbl>\\\\\n",
       "\\hline\n",
       "\t 800 & 7 & normal & 561 & segment & 7\\\\\n",
       "\t 800 & 7 & radial & 933 & segment & 7\\\\\n",
       "\t 800 & 7 & wlw2   & 936 & segment & 7\\\\\n",
       "\t 800 & 7 & oracle & 932 & segment & 7\\\\\n",
       "\\end{tabular}\n"
      ],
      "text/markdown": [
       "\n",
       "A data.frame: 4 × 6\n",
       "\n",
       "| n &lt;dbl&gt; | K &lt;int&gt; | method &lt;chr&gt; | correct &lt;int&gt; | dataset &lt;chr&gt; | run &lt;dbl&gt; |\n",
       "|---|---|---|---|---|---|\n",
       "| 800 | 7 | normal | 561 | segment | 7 |\n",
       "| 800 | 7 | radial | 933 | segment | 7 |\n",
       "| 800 | 7 | wlw2   | 936 | segment | 7 |\n",
       "| 800 | 7 | oracle | 932 | segment | 7 |\n",
       "\n"
      ],
      "text/plain": [
       "  n   K method correct dataset run\n",
       "1 800 7 normal 561     segment 7  \n",
       "2 800 7 radial 933     segment 7  \n",
       "3 800 7 wlw2   936     segment 7  \n",
       "4 800 7 oracle 932     segment 7  "
      ]
     },
     "metadata": {},
     "output_type": "display_data"
    }
   ],
   "source": [
    "lda_multi(dfs)$multi"
   ]
  },
  {
   "cell_type": "code",
   "execution_count": 62,
   "id": "444c8469-de2f-4399-9d03-8a6f049e0d3e",
   "metadata": {},
   "outputs": [
    {
     "name": "stdout",
     "output_type": "stream",
     "text": [
      "[1]   1   2 Inf\n"
     ]
    },
    {
     "name": "stderr",
     "output_type": "stream",
     "text": [
      "Warning message in lda.default(x, grouping, ...):\n",
      "“variables are collinear”\n",
      "Warning message in lda.default(x, grouping, ...):\n",
      "“variables are collinear”\n",
      "Warning message in lda.default(x, grouping, ...):\n",
      "“variables are collinear”\n"
     ]
    },
    {
     "name": "stdout",
     "output_type": "stream",
     "text": [
      "[1]   2   5 Inf\n",
      "[1]   2   6 Inf\n",
      "[1]   5   6 Inf\n",
      "[1]   2   7 Inf\n"
     ]
    },
    {
     "name": "stderr",
     "output_type": "stream",
     "text": [
      "Warning message in lda.default(x, grouping, ...):\n",
      "“variables are collinear”\n",
      "Warning message in lda.default(x, grouping, ...):\n",
      "“variables are collinear”\n"
     ]
    },
    {
     "name": "stdout",
     "output_type": "stream",
     "text": [
      "[1]   6   7 Inf\n",
      "[1] 7\n",
      "\u001b[90m# A tibble: 35 × 10\u001b[39m\n",
      "      i     j     k normal radial  wlw2 omit12 omit13 omit23    imp\n",
      "  \u001b[3m\u001b[90m<int>\u001b[39m\u001b[23m \u001b[3m\u001b[90m<int>\u001b[39m\u001b[23m \u001b[3m\u001b[90m<int>\u001b[39m\u001b[23m  \u001b[3m\u001b[90m<dbl>\u001b[39m\u001b[23m  \u001b[3m\u001b[90m<dbl>\u001b[39m\u001b[23m \u001b[3m\u001b[90m<dbl>\u001b[39m\u001b[23m  \u001b[3m\u001b[90m<dbl>\u001b[39m\u001b[23m  \u001b[3m\u001b[90m<dbl>\u001b[39m\u001b[23m  \u001b[3m\u001b[90m<dbl>\u001b[39m\u001b[23m  \u001b[3m\u001b[90m<dbl>\u001b[39m\u001b[23m\n",
      "\u001b[90m1\u001b[39m     2     4     7  0.775  0.995 0.995  0.850  0.674  0.836 0.146 \n",
      "\u001b[90m2\u001b[39m     2     6     7  0.876  0.995 0.995  0.809  0.911  0.937 0.058\u001b[4m3\u001b[24m\n",
      "\u001b[90m3\u001b[39m     1     3     4  0.940  0.968 0.968  0.826  0.800  0.915 0.052\u001b[4m8\u001b[24m\n",
      "\u001b[90m4\u001b[39m     1     2     4  0.745  0.995 0.995  0.893  0.718  0.977 0.018\u001b[4m2\u001b[24m\n",
      "\u001b[90m5\u001b[39m     2     4     5  0.810  0.951 0.951  0.937  0.878  0.782 0.014\u001b[4m1\u001b[24m\n",
      "\u001b[90m6\u001b[39m     1     4     5  0.865  0.947 0.944  0.930  0.840  0.867 0.014\u001b[4m0\u001b[24m\n",
      "\u001b[90m7\u001b[39m     2     5     6  0.766  0.991 0.991  0.953  0.979  0.702 0.011\u001b[4m8\u001b[24m\n",
      "\u001b[90m# ℹ 28 more rows\u001b[39m\n"
     ]
    }
   ],
   "source": [
    "t1 <- lda_triples(dfs)\n",
    "t2 <- t1 |> pivot_wider(names_from = \"method\", values_from = \"acc\") |> \n",
    "  mutate(imp = wlw2 - pmax(omit12, omit13, omit23)) |> arrange(desc(imp)) \n",
    "t2 |> print(n =7)"
   ]
  },
  {
   "cell_type": "code",
   "execution_count": 63,
   "id": "eb943772-bbf5-4176-aaff-2acf5444dd2a",
   "metadata": {},
   "outputs": [],
   "source": [
    "W <- gen_W(qL = 3, n = 1000)"
   ]
  },
  {
   "cell_type": "code",
   "execution_count": 64,
   "id": "a1b20156-5847-45b3-b2fd-2658ea997e9c",
   "metadata": {},
   "outputs": [
    {
     "name": "stderr",
     "output_type": "stream",
     "text": [
      "Warning message in lda.default(x, grouping, ...):\n",
      "“variables are collinear”\n"
     ]
    },
    {
     "name": "stdout",
     "output_type": "stream",
     "text": [
      "[1]   2   7 Inf\n"
     ]
    },
    {
     "name": "stderr",
     "output_type": "stream",
     "text": [
      "Warning message in lda.default(x, grouping, ...):\n",
      "“variables are collinear”\n"
     ]
    }
   ],
   "source": [
    "bcp <- get_bcp(dfs = dfs, i = 2, j = 4, k = 7)"
   ]
  },
  {
   "cell_type": "markdown",
   "id": "80174618-86d5-4ee3-bd64-d371bd9caaed",
   "metadata": {},
   "source": [
    "### Crossvalidation of best ensemble (1,2,3)"
   ]
  },
  {
   "cell_type": "code",
   "execution_count": 65,
   "id": "5e282711-f2f1-4347-91c6-a90f476a7b07",
   "metadata": {},
   "outputs": [
    {
     "name": "stdout",
     "output_type": "stream",
     "text": [
      "[1]  432 1000\n"
     ]
    },
    {
     "data": {
      "text/html": [
       "<table class=\"dataframe\">\n",
       "<caption>A tibble: 1 × 1</caption>\n",
       "<thead>\n",
       "\t<tr><th scope=col>mean(m)</th></tr>\n",
       "\t<tr><th scope=col>&lt;dbl&gt;</th></tr>\n",
       "</thead>\n",
       "<tbody>\n",
       "\t<tr><td>378.2</td></tr>\n",
       "</tbody>\n",
       "</table>\n"
      ],
      "text/latex": [
       "A tibble: 1 × 1\n",
       "\\begin{tabular}{l}\n",
       " mean(m)\\\\\n",
       " <dbl>\\\\\n",
       "\\hline\n",
       "\t 378.2\\\\\n",
       "\\end{tabular}\n"
      ],
      "text/markdown": [
       "\n",
       "A tibble: 1 × 1\n",
       "\n",
       "| mean(m) &lt;dbl&gt; |\n",
       "|---|\n",
       "| 378.2 |\n",
       "\n"
      ],
      "text/plain": [
       "  mean(m)\n",
       "1 378.2  "
      ]
     },
     "metadata": {},
     "output_type": "display_data"
    }
   ],
   "source": [
    "r1 <- cv_stack(bcp = select_bcp(bcp, 1:3), W = W, score = \"acc\")\n",
    "r1 |> group_by(rep) |> summarize(m = sum(correct2)) |> summarize(mean(m))"
   ]
  },
  {
   "cell_type": "code",
   "execution_count": 66,
   "id": "74f29352-8c03-4cc6-b44e-bd09ccb38ac8",
   "metadata": {},
   "outputs": [
    {
     "name": "stdout",
     "output_type": "stream",
     "text": [
      "[1]  432 1000\n"
     ]
    },
    {
     "data": {
      "text/html": [
       "<table class=\"dataframe\">\n",
       "<caption>A tibble: 1 × 1</caption>\n",
       "<thead>\n",
       "\t<tr><th scope=col>mean(m)</th></tr>\n",
       "\t<tr><th scope=col>&lt;dbl&gt;</th></tr>\n",
       "</thead>\n",
       "<tbody>\n",
       "\t<tr><td>346.6</td></tr>\n",
       "</tbody>\n",
       "</table>\n"
      ],
      "text/latex": [
       "A tibble: 1 × 1\n",
       "\\begin{tabular}{l}\n",
       " mean(m)\\\\\n",
       " <dbl>\\\\\n",
       "\\hline\n",
       "\t 346.6\\\\\n",
       "\\end{tabular}\n"
      ],
      "text/markdown": [
       "\n",
       "A tibble: 1 × 1\n",
       "\n",
       "| mean(m) &lt;dbl&gt; |\n",
       "|---|\n",
       "| 346.6 |\n",
       "\n"
      ],
      "text/plain": [
       "  mean(m)\n",
       "1 346.6  "
      ]
     },
     "metadata": {},
     "output_type": "display_data"
    }
   ],
   "source": [
    "r2 <- cv_stack(bcp = select_bcp(bcp, 1:3), W = W, score = \"brier\")\n",
    "r2 |> group_by(rep) |> summarize(m = sum(correct2)) |> summarize(mean(m))"
   ]
  },
  {
   "cell_type": "code",
   "execution_count": 67,
   "id": "47205877-14cd-4fdc-aab4-da207ebb3b16",
   "metadata": {},
   "outputs": [
    {
     "name": "stdout",
     "output_type": "stream",
     "text": [
      "[1]  432 1000\n"
     ]
    },
    {
     "data": {
      "text/html": [
       "<table class=\"dataframe\">\n",
       "<caption>A tibble: 1 × 1</caption>\n",
       "<thead>\n",
       "\t<tr><th scope=col>mean(m)</th></tr>\n",
       "\t<tr><th scope=col>&lt;dbl&gt;</th></tr>\n",
       "</thead>\n",
       "<tbody>\n",
       "\t<tr><td>352.85</td></tr>\n",
       "</tbody>\n",
       "</table>\n"
      ],
      "text/latex": [
       "A tibble: 1 × 1\n",
       "\\begin{tabular}{l}\n",
       " mean(m)\\\\\n",
       " <dbl>\\\\\n",
       "\\hline\n",
       "\t 352.85\\\\\n",
       "\\end{tabular}\n"
      ],
      "text/markdown": [
       "\n",
       "A tibble: 1 × 1\n",
       "\n",
       "| mean(m) &lt;dbl&gt; |\n",
       "|---|\n",
       "| 352.85 |\n",
       "\n"
      ],
      "text/plain": [
       "  mean(m)\n",
       "1 352.85 "
      ]
     },
     "metadata": {},
     "output_type": "display_data"
    }
   ],
   "source": [
    "r3 <- cv_stack(bcp = select_bcp(bcp, 1:3), W = W, score = \"log\")\n",
    "r3 |> group_by(rep) |> summarize(m = sum(correct2)) |> summarize(mean(m))"
   ]
  },
  {
   "cell_type": "code",
   "execution_count": 68,
   "id": "d8bdf169-03b6-4015-bdb9-1a8da89dee50",
   "metadata": {},
   "outputs": [
    {
     "data": {
      "text/html": [
       "<table class=\"dataframe\">\n",
       "<caption>A tibble: 61 × 2</caption>\n",
       "<thead>\n",
       "\t<tr><th scope=col>best_w</th><th scope=col>m</th></tr>\n",
       "\t<tr><th scope=col>&lt;int&gt;</th><th scope=col>&lt;int&gt;</th></tr>\n",
       "</thead>\n",
       "<tbody>\n",
       "\t<tr><td>208</td><td>4</td></tr>\n",
       "\t<tr><td>476</td><td>4</td></tr>\n",
       "\t<tr><td>760</td><td>4</td></tr>\n",
       "\t<tr><td> 99</td><td>3</td></tr>\n",
       "\t<tr><td>243</td><td>3</td></tr>\n",
       "\t<tr><td>339</td><td>3</td></tr>\n",
       "\t<tr><td>497</td><td>3</td></tr>\n",
       "\t<tr><td>536</td><td>3</td></tr>\n",
       "\t<tr><td>649</td><td>3</td></tr>\n",
       "\t<tr><td>666</td><td>3</td></tr>\n",
       "\t<tr><td> 11</td><td>2</td></tr>\n",
       "\t<tr><td> 50</td><td>2</td></tr>\n",
       "\t<tr><td>115</td><td>2</td></tr>\n",
       "\t<tr><td>165</td><td>2</td></tr>\n",
       "\t<tr><td>182</td><td>2</td></tr>\n",
       "\t<tr><td>205</td><td>2</td></tr>\n",
       "\t<tr><td>251</td><td>2</td></tr>\n",
       "\t<tr><td>296</td><td>2</td></tr>\n",
       "\t<tr><td>556</td><td>2</td></tr>\n",
       "\t<tr><td>614</td><td>2</td></tr>\n",
       "\t<tr><td>714</td><td>2</td></tr>\n",
       "\t<tr><td>762</td><td>2</td></tr>\n",
       "\t<tr><td>810</td><td>2</td></tr>\n",
       "\t<tr><td>844</td><td>2</td></tr>\n",
       "\t<tr><td>851</td><td>2</td></tr>\n",
       "\t<tr><td>881</td><td>2</td></tr>\n",
       "\t<tr><td> 61</td><td>1</td></tr>\n",
       "\t<tr><td> 67</td><td>1</td></tr>\n",
       "\t<tr><td> 72</td><td>1</td></tr>\n",
       "\t<tr><td>118</td><td>1</td></tr>\n",
       "\t<tr><td>⋮</td><td>⋮</td></tr>\n",
       "\t<tr><td>230</td><td>1</td></tr>\n",
       "\t<tr><td>237</td><td>1</td></tr>\n",
       "\t<tr><td>254</td><td>1</td></tr>\n",
       "\t<tr><td>256</td><td>1</td></tr>\n",
       "\t<tr><td>276</td><td>1</td></tr>\n",
       "\t<tr><td>284</td><td>1</td></tr>\n",
       "\t<tr><td>287</td><td>1</td></tr>\n",
       "\t<tr><td>313</td><td>1</td></tr>\n",
       "\t<tr><td>318</td><td>1</td></tr>\n",
       "\t<tr><td>324</td><td>1</td></tr>\n",
       "\t<tr><td>382</td><td>1</td></tr>\n",
       "\t<tr><td>392</td><td>1</td></tr>\n",
       "\t<tr><td>439</td><td>1</td></tr>\n",
       "\t<tr><td>483</td><td>1</td></tr>\n",
       "\t<tr><td>574</td><td>1</td></tr>\n",
       "\t<tr><td>584</td><td>1</td></tr>\n",
       "\t<tr><td>587</td><td>1</td></tr>\n",
       "\t<tr><td>596</td><td>1</td></tr>\n",
       "\t<tr><td>615</td><td>1</td></tr>\n",
       "\t<tr><td>650</td><td>1</td></tr>\n",
       "\t<tr><td>707</td><td>1</td></tr>\n",
       "\t<tr><td>783</td><td>1</td></tr>\n",
       "\t<tr><td>790</td><td>1</td></tr>\n",
       "\t<tr><td>854</td><td>1</td></tr>\n",
       "\t<tr><td>867</td><td>1</td></tr>\n",
       "\t<tr><td>875</td><td>1</td></tr>\n",
       "\t<tr><td>902</td><td>1</td></tr>\n",
       "\t<tr><td>919</td><td>1</td></tr>\n",
       "\t<tr><td>949</td><td>1</td></tr>\n",
       "\t<tr><td>990</td><td>1</td></tr>\n",
       "</tbody>\n",
       "</table>\n"
      ],
      "text/latex": [
       "A tibble: 61 × 2\n",
       "\\begin{tabular}{ll}\n",
       " best\\_w & m\\\\\n",
       " <int> & <int>\\\\\n",
       "\\hline\n",
       "\t 208 & 4\\\\\n",
       "\t 476 & 4\\\\\n",
       "\t 760 & 4\\\\\n",
       "\t  99 & 3\\\\\n",
       "\t 243 & 3\\\\\n",
       "\t 339 & 3\\\\\n",
       "\t 497 & 3\\\\\n",
       "\t 536 & 3\\\\\n",
       "\t 649 & 3\\\\\n",
       "\t 666 & 3\\\\\n",
       "\t  11 & 2\\\\\n",
       "\t  50 & 2\\\\\n",
       "\t 115 & 2\\\\\n",
       "\t 165 & 2\\\\\n",
       "\t 182 & 2\\\\\n",
       "\t 205 & 2\\\\\n",
       "\t 251 & 2\\\\\n",
       "\t 296 & 2\\\\\n",
       "\t 556 & 2\\\\\n",
       "\t 614 & 2\\\\\n",
       "\t 714 & 2\\\\\n",
       "\t 762 & 2\\\\\n",
       "\t 810 & 2\\\\\n",
       "\t 844 & 2\\\\\n",
       "\t 851 & 2\\\\\n",
       "\t 881 & 2\\\\\n",
       "\t  61 & 1\\\\\n",
       "\t  67 & 1\\\\\n",
       "\t  72 & 1\\\\\n",
       "\t 118 & 1\\\\\n",
       "\t ⋮ & ⋮\\\\\n",
       "\t 230 & 1\\\\\n",
       "\t 237 & 1\\\\\n",
       "\t 254 & 1\\\\\n",
       "\t 256 & 1\\\\\n",
       "\t 276 & 1\\\\\n",
       "\t 284 & 1\\\\\n",
       "\t 287 & 1\\\\\n",
       "\t 313 & 1\\\\\n",
       "\t 318 & 1\\\\\n",
       "\t 324 & 1\\\\\n",
       "\t 382 & 1\\\\\n",
       "\t 392 & 1\\\\\n",
       "\t 439 & 1\\\\\n",
       "\t 483 & 1\\\\\n",
       "\t 574 & 1\\\\\n",
       "\t 584 & 1\\\\\n",
       "\t 587 & 1\\\\\n",
       "\t 596 & 1\\\\\n",
       "\t 615 & 1\\\\\n",
       "\t 650 & 1\\\\\n",
       "\t 707 & 1\\\\\n",
       "\t 783 & 1\\\\\n",
       "\t 790 & 1\\\\\n",
       "\t 854 & 1\\\\\n",
       "\t 867 & 1\\\\\n",
       "\t 875 & 1\\\\\n",
       "\t 902 & 1\\\\\n",
       "\t 919 & 1\\\\\n",
       "\t 949 & 1\\\\\n",
       "\t 990 & 1\\\\\n",
       "\\end{tabular}\n"
      ],
      "text/markdown": [
       "\n",
       "A tibble: 61 × 2\n",
       "\n",
       "| best_w &lt;int&gt; | m &lt;int&gt; |\n",
       "|---|---|\n",
       "| 208 | 4 |\n",
       "| 476 | 4 |\n",
       "| 760 | 4 |\n",
       "|  99 | 3 |\n",
       "| 243 | 3 |\n",
       "| 339 | 3 |\n",
       "| 497 | 3 |\n",
       "| 536 | 3 |\n",
       "| 649 | 3 |\n",
       "| 666 | 3 |\n",
       "|  11 | 2 |\n",
       "|  50 | 2 |\n",
       "| 115 | 2 |\n",
       "| 165 | 2 |\n",
       "| 182 | 2 |\n",
       "| 205 | 2 |\n",
       "| 251 | 2 |\n",
       "| 296 | 2 |\n",
       "| 556 | 2 |\n",
       "| 614 | 2 |\n",
       "| 714 | 2 |\n",
       "| 762 | 2 |\n",
       "| 810 | 2 |\n",
       "| 844 | 2 |\n",
       "| 851 | 2 |\n",
       "| 881 | 2 |\n",
       "|  61 | 1 |\n",
       "|  67 | 1 |\n",
       "|  72 | 1 |\n",
       "| 118 | 1 |\n",
       "| ⋮ | ⋮ |\n",
       "| 230 | 1 |\n",
       "| 237 | 1 |\n",
       "| 254 | 1 |\n",
       "| 256 | 1 |\n",
       "| 276 | 1 |\n",
       "| 284 | 1 |\n",
       "| 287 | 1 |\n",
       "| 313 | 1 |\n",
       "| 318 | 1 |\n",
       "| 324 | 1 |\n",
       "| 382 | 1 |\n",
       "| 392 | 1 |\n",
       "| 439 | 1 |\n",
       "| 483 | 1 |\n",
       "| 574 | 1 |\n",
       "| 584 | 1 |\n",
       "| 587 | 1 |\n",
       "| 596 | 1 |\n",
       "| 615 | 1 |\n",
       "| 650 | 1 |\n",
       "| 707 | 1 |\n",
       "| 783 | 1 |\n",
       "| 790 | 1 |\n",
       "| 854 | 1 |\n",
       "| 867 | 1 |\n",
       "| 875 | 1 |\n",
       "| 902 | 1 |\n",
       "| 919 | 1 |\n",
       "| 949 | 1 |\n",
       "| 990 | 1 |\n",
       "\n"
      ],
      "text/plain": [
       "   best_w m\n",
       "1  208    4\n",
       "2  476    4\n",
       "3  760    4\n",
       "4   99    3\n",
       "5  243    3\n",
       "6  339    3\n",
       "7  497    3\n",
       "8  536    3\n",
       "9  649    3\n",
       "10 666    3\n",
       "11  11    2\n",
       "12  50    2\n",
       "13 115    2\n",
       "14 165    2\n",
       "15 182    2\n",
       "16 205    2\n",
       "17 251    2\n",
       "18 296    2\n",
       "19 556    2\n",
       "20 614    2\n",
       "21 714    2\n",
       "22 762    2\n",
       "23 810    2\n",
       "24 844    2\n",
       "25 851    2\n",
       "26 881    2\n",
       "27  61    1\n",
       "28  67    1\n",
       "29  72    1\n",
       "30 118    1\n",
       "⋮  ⋮      ⋮\n",
       "32 230    1\n",
       "33 237    1\n",
       "34 254    1\n",
       "35 256    1\n",
       "36 276    1\n",
       "37 284    1\n",
       "38 287    1\n",
       "39 313    1\n",
       "40 318    1\n",
       "41 324    1\n",
       "42 382    1\n",
       "43 392    1\n",
       "44 439    1\n",
       "45 483    1\n",
       "46 574    1\n",
       "47 584    1\n",
       "48 587    1\n",
       "49 596    1\n",
       "50 615    1\n",
       "51 650    1\n",
       "52 707    1\n",
       "53 783    1\n",
       "54 790    1\n",
       "55 854    1\n",
       "56 867    1\n",
       "57 875    1\n",
       "58 902    1\n",
       "59 919    1\n",
       "60 949    1\n",
       "61 990    1"
      ]
     },
     "metadata": {},
     "output_type": "display_data"
    }
   ],
   "source": [
    "r1 |> group_by(best_w) |> summarize(m = n())  |> arrange(desc(m))"
   ]
  },
  {
   "cell_type": "code",
   "execution_count": 69,
   "id": "d8aa3de4-d78f-4c46-8481-fc5921fd836c",
   "metadata": {},
   "outputs": [],
   "source": [
    "ac <- apply(eval_scores(select_bcp(bcp, 1:3), W = W, score = \"acc\")$scores, 2, mean)"
   ]
  },
  {
   "cell_type": "code",
   "execution_count": 70,
   "id": "55b2f9db-b681-467a-ac9e-82135d05f494",
   "metadata": {},
   "outputs": [
    {
     "data": {
      "text/html": [
       "0.877314814814815"
      ],
      "text/latex": [
       "0.877314814814815"
      ],
      "text/markdown": [
       "0.877314814814815"
      ],
      "text/plain": [
       "[1] 0.8773148"
      ]
     },
     "metadata": {},
     "output_type": "display_data"
    }
   ],
   "source": [
    "max(ac)"
   ]
  },
  {
   "cell_type": "code",
   "execution_count": 71,
   "id": "63390ffc-0e78-4b6a-b5c6-d141958c247e",
   "metadata": {},
   "outputs": [
    {
     "data": {
      "text/html": [
       "<style>\n",
       ".list-inline {list-style: none; margin:0; padding: 0}\n",
       ".list-inline>li {display: inline-block}\n",
       ".list-inline>li:not(:last-child)::after {content: \"\\00b7\"; padding: 0 .5ex}\n",
       "</style>\n",
       "<ol class=list-inline><li>0.877314814814815</li><li>0.875</li><li>0.851851851851852</li><li>0.775462962962963</li><li>0.849537037037037</li><li>0.875</li><li>0.673611111111111</li></ol>\n"
      ],
      "text/latex": [
       "\\begin{enumerate*}\n",
       "\\item 0.877314814814815\n",
       "\\item 0.875\n",
       "\\item 0.851851851851852\n",
       "\\item 0.775462962962963\n",
       "\\item 0.849537037037037\n",
       "\\item 0.875\n",
       "\\item 0.673611111111111\n",
       "\\end{enumerate*}\n"
      ],
      "text/markdown": [
       "1. 0.877314814814815\n",
       "2. 0.875\n",
       "3. 0.851851851851852\n",
       "4. 0.775462962962963\n",
       "5. 0.849537037037037\n",
       "6. 0.875\n",
       "7. 0.673611111111111\n",
       "\n",
       "\n"
      ],
      "text/plain": [
       "[1] 0.8773148 0.8750000 0.8518519 0.7754630 0.8495370 0.8750000 0.6736111"
      ]
     },
     "metadata": {},
     "output_type": "display_data"
    }
   ],
   "source": [
    "ac[c(810, 902, 897, 625, 373, 72, 123)]"
   ]
  },
  {
   "cell_type": "code",
   "execution_count": 72,
   "id": "ab197455-91c7-443a-a0b4-98d5d1bd66e4",
   "metadata": {},
   "outputs": [
    {
     "data": {
      "text/html": [
       "11"
      ],
      "text/latex": [
       "11"
      ],
      "text/markdown": [
       "11"
      ],
      "text/plain": [
       "[1] 11"
      ]
     },
     "metadata": {},
     "output_type": "display_data"
    }
   ],
   "source": [
    "which.max(ac)"
   ]
  },
  {
   "cell_type": "code",
   "execution_count": 73,
   "id": "8478bb51-5e8f-4de9-83fd-952eab3ba784",
   "metadata": {},
   "outputs": [
    {
     "data": {
      "text/html": [
       "<style>\n",
       ".list-inline {list-style: none; margin:0; padding: 0}\n",
       ".list-inline>li {display: inline-block}\n",
       ".list-inline>li:not(:last-child)::after {content: \"\\00b7\"; padding: 0 .5ex}\n",
       "</style>\n",
       "<ol class=list-inline><li>0.24</li><li>0.29</li><li>0.47</li></ol>\n"
      ],
      "text/latex": [
       "\\begin{enumerate*}\n",
       "\\item 0.24\n",
       "\\item 0.29\n",
       "\\item 0.47\n",
       "\\end{enumerate*}\n"
      ],
      "text/markdown": [
       "1. 0.24\n",
       "2. 0.29\n",
       "3. 0.47\n",
       "\n",
       "\n"
      ],
      "text/plain": [
       "[1] 0.24 0.29 0.47"
      ]
     },
     "metadata": {},
     "output_type": "display_data"
    }
   ],
   "source": [
    "W[810,]"
   ]
  },
  {
   "cell_type": "code",
   "execution_count": 74,
   "id": "803c8ce5-f1e0-4da1-a813-900eb80898b6",
   "metadata": {},
   "outputs": [
    {
     "data": {
      "text/html": [
       "<table class=\"dataframe\">\n",
       "<caption>A tibble: 72 × 2</caption>\n",
       "<thead>\n",
       "\t<tr><th scope=col>best_w</th><th scope=col>m</th></tr>\n",
       "\t<tr><th scope=col>&lt;int&gt;</th><th scope=col>&lt;int&gt;</th></tr>\n",
       "</thead>\n",
       "<tbody>\n",
       "\t<tr><td>626</td><td>12</td></tr>\n",
       "\t<tr><td>409</td><td> 7</td></tr>\n",
       "\t<tr><td>638</td><td> 3</td></tr>\n",
       "\t<tr><td> 37</td><td> 2</td></tr>\n",
       "\t<tr><td> 44</td><td> 2</td></tr>\n",
       "\t<tr><td>103</td><td> 2</td></tr>\n",
       "\t<tr><td>234</td><td> 2</td></tr>\n",
       "\t<tr><td>295</td><td> 2</td></tr>\n",
       "\t<tr><td>310</td><td> 2</td></tr>\n",
       "\t<tr><td>321</td><td> 2</td></tr>\n",
       "\t<tr><td>537</td><td> 2</td></tr>\n",
       "\t<tr><td>963</td><td> 2</td></tr>\n",
       "\t<tr><td>  2</td><td> 1</td></tr>\n",
       "\t<tr><td>  4</td><td> 1</td></tr>\n",
       "\t<tr><td>  8</td><td> 1</td></tr>\n",
       "\t<tr><td> 10</td><td> 1</td></tr>\n",
       "\t<tr><td> 15</td><td> 1</td></tr>\n",
       "\t<tr><td> 18</td><td> 1</td></tr>\n",
       "\t<tr><td> 20</td><td> 1</td></tr>\n",
       "\t<tr><td> 24</td><td> 1</td></tr>\n",
       "\t<tr><td> 43</td><td> 1</td></tr>\n",
       "\t<tr><td> 48</td><td> 1</td></tr>\n",
       "\t<tr><td> 50</td><td> 1</td></tr>\n",
       "\t<tr><td> 62</td><td> 1</td></tr>\n",
       "\t<tr><td> 67</td><td> 1</td></tr>\n",
       "\t<tr><td> 68</td><td> 1</td></tr>\n",
       "\t<tr><td> 72</td><td> 1</td></tr>\n",
       "\t<tr><td> 75</td><td> 1</td></tr>\n",
       "\t<tr><td> 77</td><td> 1</td></tr>\n",
       "\t<tr><td>109</td><td> 1</td></tr>\n",
       "\t<tr><td>⋮</td><td>⋮</td></tr>\n",
       "\t<tr><td>153</td><td>1</td></tr>\n",
       "\t<tr><td>166</td><td>1</td></tr>\n",
       "\t<tr><td>170</td><td>1</td></tr>\n",
       "\t<tr><td>181</td><td>1</td></tr>\n",
       "\t<tr><td>202</td><td>1</td></tr>\n",
       "\t<tr><td>240</td><td>1</td></tr>\n",
       "\t<tr><td>248</td><td>1</td></tr>\n",
       "\t<tr><td>251</td><td>1</td></tr>\n",
       "\t<tr><td>255</td><td>1</td></tr>\n",
       "\t<tr><td>274</td><td>1</td></tr>\n",
       "\t<tr><td>284</td><td>1</td></tr>\n",
       "\t<tr><td>291</td><td>1</td></tr>\n",
       "\t<tr><td>302</td><td>1</td></tr>\n",
       "\t<tr><td>306</td><td>1</td></tr>\n",
       "\t<tr><td>334</td><td>1</td></tr>\n",
       "\t<tr><td>343</td><td>1</td></tr>\n",
       "\t<tr><td>355</td><td>1</td></tr>\n",
       "\t<tr><td>373</td><td>1</td></tr>\n",
       "\t<tr><td>383</td><td>1</td></tr>\n",
       "\t<tr><td>389</td><td>1</td></tr>\n",
       "\t<tr><td>515</td><td>1</td></tr>\n",
       "\t<tr><td>568</td><td>1</td></tr>\n",
       "\t<tr><td>587</td><td>1</td></tr>\n",
       "\t<tr><td>720</td><td>1</td></tr>\n",
       "\t<tr><td>723</td><td>1</td></tr>\n",
       "\t<tr><td>738</td><td>1</td></tr>\n",
       "\t<tr><td>775</td><td>1</td></tr>\n",
       "\t<tr><td>821</td><td>1</td></tr>\n",
       "\t<tr><td>825</td><td>1</td></tr>\n",
       "\t<tr><td>937</td><td>1</td></tr>\n",
       "</tbody>\n",
       "</table>\n"
      ],
      "text/latex": [
       "A tibble: 72 × 2\n",
       "\\begin{tabular}{ll}\n",
       " best\\_w & m\\\\\n",
       " <int> & <int>\\\\\n",
       "\\hline\n",
       "\t 626 & 12\\\\\n",
       "\t 409 &  7\\\\\n",
       "\t 638 &  3\\\\\n",
       "\t  37 &  2\\\\\n",
       "\t  44 &  2\\\\\n",
       "\t 103 &  2\\\\\n",
       "\t 234 &  2\\\\\n",
       "\t 295 &  2\\\\\n",
       "\t 310 &  2\\\\\n",
       "\t 321 &  2\\\\\n",
       "\t 537 &  2\\\\\n",
       "\t 963 &  2\\\\\n",
       "\t   2 &  1\\\\\n",
       "\t   4 &  1\\\\\n",
       "\t   8 &  1\\\\\n",
       "\t  10 &  1\\\\\n",
       "\t  15 &  1\\\\\n",
       "\t  18 &  1\\\\\n",
       "\t  20 &  1\\\\\n",
       "\t  24 &  1\\\\\n",
       "\t  43 &  1\\\\\n",
       "\t  48 &  1\\\\\n",
       "\t  50 &  1\\\\\n",
       "\t  62 &  1\\\\\n",
       "\t  67 &  1\\\\\n",
       "\t  68 &  1\\\\\n",
       "\t  72 &  1\\\\\n",
       "\t  75 &  1\\\\\n",
       "\t  77 &  1\\\\\n",
       "\t 109 &  1\\\\\n",
       "\t ⋮ & ⋮\\\\\n",
       "\t 153 & 1\\\\\n",
       "\t 166 & 1\\\\\n",
       "\t 170 & 1\\\\\n",
       "\t 181 & 1\\\\\n",
       "\t 202 & 1\\\\\n",
       "\t 240 & 1\\\\\n",
       "\t 248 & 1\\\\\n",
       "\t 251 & 1\\\\\n",
       "\t 255 & 1\\\\\n",
       "\t 274 & 1\\\\\n",
       "\t 284 & 1\\\\\n",
       "\t 291 & 1\\\\\n",
       "\t 302 & 1\\\\\n",
       "\t 306 & 1\\\\\n",
       "\t 334 & 1\\\\\n",
       "\t 343 & 1\\\\\n",
       "\t 355 & 1\\\\\n",
       "\t 373 & 1\\\\\n",
       "\t 383 & 1\\\\\n",
       "\t 389 & 1\\\\\n",
       "\t 515 & 1\\\\\n",
       "\t 568 & 1\\\\\n",
       "\t 587 & 1\\\\\n",
       "\t 720 & 1\\\\\n",
       "\t 723 & 1\\\\\n",
       "\t 738 & 1\\\\\n",
       "\t 775 & 1\\\\\n",
       "\t 821 & 1\\\\\n",
       "\t 825 & 1\\\\\n",
       "\t 937 & 1\\\\\n",
       "\\end{tabular}\n"
      ],
      "text/markdown": [
       "\n",
       "A tibble: 72 × 2\n",
       "\n",
       "| best_w &lt;int&gt; | m &lt;int&gt; |\n",
       "|---|---|\n",
       "| 626 | 12 |\n",
       "| 409 |  7 |\n",
       "| 638 |  3 |\n",
       "|  37 |  2 |\n",
       "|  44 |  2 |\n",
       "| 103 |  2 |\n",
       "| 234 |  2 |\n",
       "| 295 |  2 |\n",
       "| 310 |  2 |\n",
       "| 321 |  2 |\n",
       "| 537 |  2 |\n",
       "| 963 |  2 |\n",
       "|   2 |  1 |\n",
       "|   4 |  1 |\n",
       "|   8 |  1 |\n",
       "|  10 |  1 |\n",
       "|  15 |  1 |\n",
       "|  18 |  1 |\n",
       "|  20 |  1 |\n",
       "|  24 |  1 |\n",
       "|  43 |  1 |\n",
       "|  48 |  1 |\n",
       "|  50 |  1 |\n",
       "|  62 |  1 |\n",
       "|  67 |  1 |\n",
       "|  68 |  1 |\n",
       "|  72 |  1 |\n",
       "|  75 |  1 |\n",
       "|  77 |  1 |\n",
       "| 109 |  1 |\n",
       "| ⋮ | ⋮ |\n",
       "| 153 | 1 |\n",
       "| 166 | 1 |\n",
       "| 170 | 1 |\n",
       "| 181 | 1 |\n",
       "| 202 | 1 |\n",
       "| 240 | 1 |\n",
       "| 248 | 1 |\n",
       "| 251 | 1 |\n",
       "| 255 | 1 |\n",
       "| 274 | 1 |\n",
       "| 284 | 1 |\n",
       "| 291 | 1 |\n",
       "| 302 | 1 |\n",
       "| 306 | 1 |\n",
       "| 334 | 1 |\n",
       "| 343 | 1 |\n",
       "| 355 | 1 |\n",
       "| 373 | 1 |\n",
       "| 383 | 1 |\n",
       "| 389 | 1 |\n",
       "| 515 | 1 |\n",
       "| 568 | 1 |\n",
       "| 587 | 1 |\n",
       "| 720 | 1 |\n",
       "| 723 | 1 |\n",
       "| 738 | 1 |\n",
       "| 775 | 1 |\n",
       "| 821 | 1 |\n",
       "| 825 | 1 |\n",
       "| 937 | 1 |\n",
       "\n"
      ],
      "text/plain": [
       "   best_w m \n",
       "1  626    12\n",
       "2  409     7\n",
       "3  638     3\n",
       "4   37     2\n",
       "5   44     2\n",
       "6  103     2\n",
       "7  234     2\n",
       "8  295     2\n",
       "9  310     2\n",
       "10 321     2\n",
       "11 537     2\n",
       "12 963     2\n",
       "13   2     1\n",
       "14   4     1\n",
       "15   8     1\n",
       "16  10     1\n",
       "17  15     1\n",
       "18  18     1\n",
       "19  20     1\n",
       "20  24     1\n",
       "21  43     1\n",
       "22  48     1\n",
       "23  50     1\n",
       "24  62     1\n",
       "25  67     1\n",
       "26  68     1\n",
       "27  72     1\n",
       "28  75     1\n",
       "29  77     1\n",
       "30 109     1\n",
       "⋮  ⋮      ⋮ \n",
       "43 153    1 \n",
       "44 166    1 \n",
       "45 170    1 \n",
       "46 181    1 \n",
       "47 202    1 \n",
       "48 240    1 \n",
       "49 248    1 \n",
       "50 251    1 \n",
       "51 255    1 \n",
       "52 274    1 \n",
       "53 284    1 \n",
       "54 291    1 \n",
       "55 302    1 \n",
       "56 306    1 \n",
       "57 334    1 \n",
       "58 343    1 \n",
       "59 355    1 \n",
       "60 373    1 \n",
       "61 383    1 \n",
       "62 389    1 \n",
       "63 515    1 \n",
       "64 568    1 \n",
       "65 587    1 \n",
       "66 720    1 \n",
       "67 723    1 \n",
       "68 738    1 \n",
       "69 775    1 \n",
       "70 821    1 \n",
       "71 825    1 \n",
       "72 937    1 "
      ]
     },
     "metadata": {},
     "output_type": "display_data"
    }
   ],
   "source": [
    "r3 |> group_by(best_w) |> summarize(m = n())  |> arrange(desc(m))"
   ]
  },
  {
   "cell_type": "code",
   "execution_count": 75,
   "id": "5072b0ec-5739-408e-b543-97ddb524b5d1",
   "metadata": {},
   "outputs": [
    {
     "data": {
      "text/html": [
       "<style>\n",
       ".list-inline {list-style: none; margin:0; padding: 0}\n",
       ".list-inline>li {display: inline-block}\n",
       ".list-inline>li:not(:last-child)::after {content: \"\\00b7\"; padding: 0 .5ex}\n",
       "</style>\n",
       "<ol class=list-inline><li>0.849537037037037</li><li>0.777777777777778</li><li>0.775462962962963</li><li>0.875</li><li>0.875</li><li>0.777777777777778</li><li>0.875</li></ol>\n"
      ],
      "text/latex": [
       "\\begin{enumerate*}\n",
       "\\item 0.849537037037037\n",
       "\\item 0.777777777777778\n",
       "\\item 0.775462962962963\n",
       "\\item 0.875\n",
       "\\item 0.875\n",
       "\\item 0.777777777777778\n",
       "\\item 0.875\n",
       "\\end{enumerate*}\n"
      ],
      "text/markdown": [
       "1. 0.849537037037037\n",
       "2. 0.777777777777778\n",
       "3. 0.775462962962963\n",
       "4. 0.875\n",
       "5. 0.875\n",
       "6. 0.777777777777778\n",
       "7. 0.875\n",
       "\n",
       "\n"
      ],
      "text/plain": [
       "[1] 0.8495370 0.7777778 0.7754630 0.8750000 0.8750000 0.7777778 0.8750000"
      ]
     },
     "metadata": {},
     "output_type": "display_data"
    }
   ],
   "source": [
    "ac[c(112,960,585, 353,58,7,8)]"
   ]
  },
  {
   "cell_type": "markdown",
   "id": "9ecae8a3-a6bf-4ff1-aeb9-5e67dad276cb",
   "metadata": {},
   "source": [
    "### Crossvalidation of best ensemble (1,2,4)"
   ]
  },
  {
   "cell_type": "code",
   "execution_count": 76,
   "id": "302a95e2-4e48-49a0-8328-1e10e6cea1a5",
   "metadata": {},
   "outputs": [
    {
     "name": "stdout",
     "output_type": "stream",
     "text": [
      "[1]  432 1000\n"
     ]
    },
    {
     "data": {
      "text/html": [
       "<table class=\"dataframe\">\n",
       "<caption>A tibble: 1 × 1</caption>\n",
       "<thead>\n",
       "\t<tr><th scope=col>mean(m)</th></tr>\n",
       "\t<tr><th scope=col>&lt;dbl&gt;</th></tr>\n",
       "</thead>\n",
       "<tbody>\n",
       "\t<tr><td>370.25</td></tr>\n",
       "</tbody>\n",
       "</table>\n"
      ],
      "text/latex": [
       "A tibble: 1 × 1\n",
       "\\begin{tabular}{l}\n",
       " mean(m)\\\\\n",
       " <dbl>\\\\\n",
       "\\hline\n",
       "\t 370.25\\\\\n",
       "\\end{tabular}\n"
      ],
      "text/markdown": [
       "\n",
       "A tibble: 1 × 1\n",
       "\n",
       "| mean(m) &lt;dbl&gt; |\n",
       "|---|\n",
       "| 370.25 |\n",
       "\n"
      ],
      "text/plain": [
       "  mean(m)\n",
       "1 370.25 "
      ]
     },
     "metadata": {},
     "output_type": "display_data"
    }
   ],
   "source": [
    "r4 <- cv_stack(bcp = select_bcp(bcp, c(1,2,4)), W = W, score = \"acc\")\n",
    "r4 |> group_by(rep) |> summarize(m = sum(correct2)) |> summarize(mean(m))"
   ]
  },
  {
   "cell_type": "markdown",
   "id": "abe1be14-f8d5-4d56-97ea-4a018d3c68b2",
   "metadata": {},
   "source": [
    "### Crossvalidation of best ensemble (1,3,4)"
   ]
  },
  {
   "cell_type": "code",
   "execution_count": 77,
   "id": "1195d886-4279-4fb4-b315-2df6179a4c8d",
   "metadata": {},
   "outputs": [
    {
     "name": "stdout",
     "output_type": "stream",
     "text": [
      "[1]  432 1000\n"
     ]
    },
    {
     "data": {
      "text/html": [
       "<table class=\"dataframe\">\n",
       "<caption>A tibble: 1 × 1</caption>\n",
       "<thead>\n",
       "\t<tr><th scope=col>mean(m)</th></tr>\n",
       "\t<tr><th scope=col>&lt;dbl&gt;</th></tr>\n",
       "</thead>\n",
       "<tbody>\n",
       "\t<tr><td>387.05</td></tr>\n",
       "</tbody>\n",
       "</table>\n"
      ],
      "text/latex": [
       "A tibble: 1 × 1\n",
       "\\begin{tabular}{l}\n",
       " mean(m)\\\\\n",
       " <dbl>\\\\\n",
       "\\hline\n",
       "\t 387.05\\\\\n",
       "\\end{tabular}\n"
      ],
      "text/markdown": [
       "\n",
       "A tibble: 1 × 1\n",
       "\n",
       "| mean(m) &lt;dbl&gt; |\n",
       "|---|\n",
       "| 387.05 |\n",
       "\n"
      ],
      "text/plain": [
       "  mean(m)\n",
       "1 387.05 "
      ]
     },
     "metadata": {},
     "output_type": "display_data"
    }
   ],
   "source": [
    "r5 <- cv_stack(bcp = select_bcp(bcp, c(1,3,4)), W = W, score = \"acc\")\n",
    "r5 |> group_by(rep) |> summarize(m = sum(correct2)) |> summarize(mean(m))"
   ]
  },
  {
   "cell_type": "code",
   "execution_count": 78,
   "id": "4b0b25df-1518-4d25-9653-ad741dd8451b",
   "metadata": {},
   "outputs": [
    {
     "name": "stdout",
     "output_type": "stream",
     "text": [
      "[1]  432 1000\n"
     ]
    },
    {
     "data": {
      "text/html": [
       "<table class=\"dataframe\">\n",
       "<caption>A tibble: 1 × 1</caption>\n",
       "<thead>\n",
       "\t<tr><th scope=col>mean(m)</th></tr>\n",
       "\t<tr><th scope=col>&lt;dbl&gt;</th></tr>\n",
       "</thead>\n",
       "<tbody>\n",
       "\t<tr><td>387.1</td></tr>\n",
       "</tbody>\n",
       "</table>\n"
      ],
      "text/latex": [
       "A tibble: 1 × 1\n",
       "\\begin{tabular}{l}\n",
       " mean(m)\\\\\n",
       " <dbl>\\\\\n",
       "\\hline\n",
       "\t 387.1\\\\\n",
       "\\end{tabular}\n"
      ],
      "text/markdown": [
       "\n",
       "A tibble: 1 × 1\n",
       "\n",
       "| mean(m) &lt;dbl&gt; |\n",
       "|---|\n",
       "| 387.1 |\n",
       "\n"
      ],
      "text/plain": [
       "  mean(m)\n",
       "1 387.1  "
      ]
     },
     "metadata": {},
     "output_type": "display_data"
    }
   ],
   "source": [
    "r6 <- cv_stack(bcp = select_bcp(bcp, c(1,3,4)), W = W, score = \"acc\")\n",
    "r6 |> group_by(rep) |> summarize(m = sum(correct2)) |> summarize(mean(m))"
   ]
  },
  {
   "cell_type": "markdown",
   "id": "905eea85-9d19-41f6-8e9d-6b0037c01b14",
   "metadata": {},
   "source": [
    "### Crossvalidation of best ensemble (2,3,4)"
   ]
  },
  {
   "cell_type": "code",
   "execution_count": 134,
   "id": "e2a4a906-4931-4091-a1ca-8fac4ba5d096",
   "metadata": {},
   "outputs": [
    {
     "name": "stdout",
     "output_type": "stream",
     "text": [
      "[1]  432 1000\n"
     ]
    },
    {
     "data": {
      "text/html": [
       "<table class=\"dataframe\">\n",
       "<caption>A tibble: 1 × 1</caption>\n",
       "<thead>\n",
       "\t<tr><th scope=col>mean(m)</th></tr>\n",
       "\t<tr><th scope=col>&lt;dbl&gt;</th></tr>\n",
       "</thead>\n",
       "<tbody>\n",
       "\t<tr><td>430</td></tr>\n",
       "</tbody>\n",
       "</table>\n"
      ],
      "text/latex": [
       "A tibble: 1 × 1\n",
       "\\begin{tabular}{l}\n",
       " mean(m)\\\\\n",
       " <dbl>\\\\\n",
       "\\hline\n",
       "\t 430\\\\\n",
       "\\end{tabular}\n"
      ],
      "text/markdown": [
       "\n",
       "A tibble: 1 × 1\n",
       "\n",
       "| mean(m) &lt;dbl&gt; |\n",
       "|---|\n",
       "| 430 |\n",
       "\n"
      ],
      "text/plain": [
       "  mean(m)\n",
       "1 430    "
      ]
     },
     "metadata": {},
     "output_type": "display_data"
    }
   ],
   "source": [
    "r7 <- cv_stack(bcp = select_bcp(bcp, c(2,3,4)), W = W, score = \"acc\")\n",
    "r7 |> group_by(rep) |> summarize(m = sum(correct2)) |> summarize(mean(m))"
   ]
  },
  {
   "cell_type": "code",
   "execution_count": 133,
   "id": "a77205ae-d165-4004-81a0-73e90c5956fe",
   "metadata": {},
   "outputs": [
    {
     "name": "stdout",
     "output_type": "stream",
     "text": [
      "[1]  432 1000\n"
     ]
    },
    {
     "data": {
      "text/html": [
       "<table class=\"dataframe\">\n",
       "<caption>A tibble: 1 × 1</caption>\n",
       "<thead>\n",
       "\t<tr><th scope=col>mean(m)</th></tr>\n",
       "\t<tr><th scope=col>&lt;dbl&gt;</th></tr>\n",
       "</thead>\n",
       "<tbody>\n",
       "\t<tr><td>381.1</td></tr>\n",
       "</tbody>\n",
       "</table>\n"
      ],
      "text/latex": [
       "A tibble: 1 × 1\n",
       "\\begin{tabular}{l}\n",
       " mean(m)\\\\\n",
       " <dbl>\\\\\n",
       "\\hline\n",
       "\t 381.1\\\\\n",
       "\\end{tabular}\n"
      ],
      "text/markdown": [
       "\n",
       "A tibble: 1 × 1\n",
       "\n",
       "| mean(m) &lt;dbl&gt; |\n",
       "|---|\n",
       "| 381.1 |\n",
       "\n"
      ],
      "text/plain": [
       "  mean(m)\n",
       "1 381.1  "
      ]
     },
     "metadata": {},
     "output_type": "display_data"
    }
   ],
   "source": [
    "r17 <- cv_stack(bcp = select_bcp(bcp, c(2,3,4)), W = W, score = \"brier\")\n",
    "r17 |> group_by(rep) |> summarize(m = sum(correct2)) |> summarize(mean(m))"
   ]
  },
  {
   "cell_type": "code",
   "execution_count": 135,
   "id": "b5f6cce4-a686-4b0a-9701-cc5178221a38",
   "metadata": {},
   "outputs": [
    {
     "name": "stdout",
     "output_type": "stream",
     "text": [
      "[1]  432 1000\n"
     ]
    },
    {
     "data": {
      "text/html": [
       "<table class=\"dataframe\">\n",
       "<caption>A tibble: 1 × 1</caption>\n",
       "<thead>\n",
       "\t<tr><th scope=col>mean(m)</th></tr>\n",
       "\t<tr><th scope=col>&lt;dbl&gt;</th></tr>\n",
       "</thead>\n",
       "<tbody>\n",
       "\t<tr><td>365.5</td></tr>\n",
       "</tbody>\n",
       "</table>\n"
      ],
      "text/latex": [
       "A tibble: 1 × 1\n",
       "\\begin{tabular}{l}\n",
       " mean(m)\\\\\n",
       " <dbl>\\\\\n",
       "\\hline\n",
       "\t 365.5\\\\\n",
       "\\end{tabular}\n"
      ],
      "text/markdown": [
       "\n",
       "A tibble: 1 × 1\n",
       "\n",
       "| mean(m) &lt;dbl&gt; |\n",
       "|---|\n",
       "| 365.5 |\n",
       "\n"
      ],
      "text/plain": [
       "  mean(m)\n",
       "1 365.5  "
      ]
     },
     "metadata": {},
     "output_type": "display_data"
    }
   ],
   "source": [
    "r27 <- cv_stack(bcp = select_bcp(bcp, c(2,3,4)), W = W, score = \"log\")\n",
    "r27 |> group_by(rep) |> summarize(m = sum(correct2)) |> summarize(mean(m))"
   ]
  },
  {
   "cell_type": "markdown",
   "id": "fa9a5d07-5927-47da-baa1-1c7b32b75941",
   "metadata": {},
   "source": [
    "### Crossvalidation of best ensemble (1,2)"
   ]
  },
  {
   "cell_type": "code",
   "execution_count": 80,
   "id": "536960fa-1e29-4d2f-881e-7e830006b0f0",
   "metadata": {},
   "outputs": [],
   "source": [
    "W1 <- matrix(seq(0,1, length.out = 51), ncol = 2, nrow = 51, byrow=F)\n",
    "W1[,2] = 1 - W1[,1]"
   ]
  },
  {
   "cell_type": "code",
   "execution_count": 81,
   "id": "70974fe2-8343-491d-bf8c-317294042954",
   "metadata": {},
   "outputs": [
    {
     "name": "stdout",
     "output_type": "stream",
     "text": [
      "[1] 432  51\n"
     ]
    }
   ],
   "source": [
    "r8 <- cv_stack(bcp = select_bcp(bcp, 1:2), W = W1, score = \"acc\")"
   ]
  },
  {
   "cell_type": "code",
   "execution_count": 82,
   "id": "d3cb7b6a-bc36-4fad-93a1-4744784ba85f",
   "metadata": {},
   "outputs": [
    {
     "name": "stdout",
     "output_type": "stream",
     "text": [
      "\u001b[90m# A tibble: 26 × 2\u001b[39m\n",
      "  best_w     m\n",
      "   \u001b[3m\u001b[90m<int>\u001b[39m\u001b[23m \u001b[3m\u001b[90m<int>\u001b[39m\u001b[23m\n",
      "\u001b[90m1\u001b[39m     10     7\n",
      "\u001b[90m2\u001b[39m      8     6\n",
      "\u001b[90m3\u001b[39m     14     6\n",
      "\u001b[90m4\u001b[39m     21     6\n",
      "\u001b[90m5\u001b[39m     26     6\n",
      "\u001b[90m# ℹ 21 more rows\u001b[39m\n"
     ]
    }
   ],
   "source": [
    "r8 |> group_by(best_w) |> summarize(m=n()) |> arrange(desc(m)) |> print(n = 5)"
   ]
  },
  {
   "cell_type": "code",
   "execution_count": 83,
   "id": "f7986dfe-5004-4597-af12-1cd7ab6c7119",
   "metadata": {},
   "outputs": [
    {
     "name": "stdout",
     "output_type": "stream",
     "text": [
      "[1] 432  51\n",
      "\u001b[90m# A tibble: 14 × 2\u001b[39m\n",
      "  best_w     m\n",
      "   \u001b[3m\u001b[90m<int>\u001b[39m\u001b[23m \u001b[3m\u001b[90m<int>\u001b[39m\u001b[23m\n",
      "\u001b[90m1\u001b[39m     11    16\n",
      "\u001b[90m2\u001b[39m      6    12\n",
      "\u001b[90m3\u001b[39m      8    10\n",
      "\u001b[90m4\u001b[39m      1     9\n",
      "\u001b[90m5\u001b[39m     10     9\n",
      "\u001b[90m# ℹ 9 more rows\u001b[39m\n"
     ]
    }
   ],
   "source": [
    "r9 <- cv_stack(bcp = select_bcp(bcp, 1:2), W = W1, score = \"brier\")\n",
    "r9 |> group_by(best_w) |> summarize(m=n()) |> arrange(desc(m)) |> print(n = 5)"
   ]
  },
  {
   "cell_type": "code",
   "execution_count": 84,
   "id": "5cd359c2-e527-4349-962f-a67051525bed",
   "metadata": {},
   "outputs": [
    {
     "name": "stdout",
     "output_type": "stream",
     "text": [
      "[1] 432  51\n",
      "\u001b[90m# A tibble: 29 × 2\u001b[39m\n",
      "  best_w     m\n",
      "   \u001b[3m\u001b[90m<int>\u001b[39m\u001b[23m \u001b[3m\u001b[90m<int>\u001b[39m\u001b[23m\n",
      "\u001b[90m1\u001b[39m      1    10\n",
      "\u001b[90m2\u001b[39m      3     7\n",
      "\u001b[90m3\u001b[39m      7     7\n",
      "\u001b[90m4\u001b[39m     19     6\n",
      "\u001b[90m5\u001b[39m     15     5\n",
      "\u001b[90m# ℹ 24 more rows\u001b[39m\n"
     ]
    }
   ],
   "source": [
    "r10 <- cv_stack(bcp = select_bcp(bcp, 1:2), W = W1, score = \"log\")\n",
    "r10 |> group_by(best_w) |> summarize(m=n()) |> arrange(desc(m)) |> print(n = 5)"
   ]
  },
  {
   "cell_type": "code",
   "execution_count": 85,
   "id": "d9466b8c-5b3b-446d-a5b7-826fda114854",
   "metadata": {},
   "outputs": [],
   "source": [
    "ac1 <- apply(eval_scores(select_bcp(bcp, 1:2), W = W1, score = \"acc\")$scores, 2, mean)"
   ]
  },
  {
   "cell_type": "code",
   "execution_count": 86,
   "id": "98130078-990e-45d1-b93c-047ad845fa2d",
   "metadata": {},
   "outputs": [
    {
     "data": {
      "text/html": [
       "26"
      ],
      "text/latex": [
       "26"
      ],
      "text/markdown": [
       "26"
      ],
      "text/plain": [
       "[1] 26"
      ]
     },
     "metadata": {},
     "output_type": "display_data"
    },
    {
     "data": {
      "text/html": [
       "0.863425925925926"
      ],
      "text/latex": [
       "0.863425925925926"
      ],
      "text/markdown": [
       "0.863425925925926"
      ],
      "text/plain": [
       "[1] 0.8634259"
      ]
     },
     "metadata": {},
     "output_type": "display_data"
    },
    {
     "data": {
      "text/html": [
       "0.775462962962963"
      ],
      "text/latex": [
       "0.775462962962963"
      ],
      "text/markdown": [
       "0.775462962962963"
      ],
      "text/plain": [
       "[1] 0.775463"
      ]
     },
     "metadata": {},
     "output_type": "display_data"
    },
    {
     "data": {
      "text/html": [
       "30"
      ],
      "text/latex": [
       "30"
      ],
      "text/markdown": [
       "30"
      ],
      "text/plain": [
       "[1] 30"
      ]
     },
     "metadata": {},
     "output_type": "display_data"
    },
    {
     "data": {
      "text/html": [
       "<style>\n",
       ".list-inline {list-style: none; margin:0; padding: 0}\n",
       ".list-inline>li {display: inline-block}\n",
       ".list-inline>li:not(:last-child)::after {content: \"\\00b7\"; padding: 0 .5ex}\n",
       "</style>\n",
       "<ol class=list-inline><li>0</li><li>1</li></ol>\n"
      ],
      "text/latex": [
       "\\begin{enumerate*}\n",
       "\\item 0\n",
       "\\item 1\n",
       "\\end{enumerate*}\n"
      ],
      "text/markdown": [
       "1. 0\n",
       "2. 1\n",
       "\n",
       "\n"
      ],
      "text/plain": [
       "[1] 0 1"
      ]
     },
     "metadata": {},
     "output_type": "display_data"
    }
   ],
   "source": [
    "which.max(ac1)\n",
    "max(ac1)\n",
    "min(ac1)\n",
    "which.min(ac1)\n",
    "W1[1,]"
   ]
  },
  {
   "cell_type": "code",
   "execution_count": 87,
   "id": "533752f7-34bd-44da-9499-f54a6c5f0a92",
   "metadata": {},
   "outputs": [
    {
     "data": {
      "text/html": [
       "<style>\n",
       ".list-inline {list-style: none; margin:0; padding: 0}\n",
       ".list-inline>li {display: inline-block}\n",
       ".list-inline>li:not(:last-child)::after {content: \"\\00b7\"; padding: 0 .5ex}\n",
       "</style>\n",
       "<ol class=list-inline><li>0.849537037037037</li><li>0.775462962962963</li><li>0.851851851851852</li><li>0.777777777777778</li><li>0.775462962962963</li></ol>\n"
      ],
      "text/latex": [
       "\\begin{enumerate*}\n",
       "\\item 0.849537037037037\n",
       "\\item 0.775462962962963\n",
       "\\item 0.851851851851852\n",
       "\\item 0.777777777777778\n",
       "\\item 0.775462962962963\n",
       "\\end{enumerate*}\n"
      ],
      "text/markdown": [
       "1. 0.849537037037037\n",
       "2. 0.775462962962963\n",
       "3. 0.851851851851852\n",
       "4. 0.777777777777778\n",
       "5. 0.775462962962963\n",
       "\n",
       "\n"
      ],
      "text/plain": [
       "[1] 0.8495370 0.7754630 0.8518519 0.7777778 0.7754630"
      ]
     },
     "metadata": {},
     "output_type": "display_data"
    }
   ],
   "source": [
    "ac1[c(13,46,19,27,33)]"
   ]
  },
  {
   "cell_type": "code",
   "execution_count": 88,
   "id": "41269f33-272c-481c-933a-72b7ede7a6a1",
   "metadata": {},
   "outputs": [
    {
     "data": {
      "text/html": [
       "<table class=\"dataframe\">\n",
       "<caption>A matrix: 3 × 2 of type dbl</caption>\n",
       "<tbody>\n",
       "\t<tr><td>0.42</td><td>0.58</td></tr>\n",
       "\t<tr><td>0.46</td><td>0.54</td></tr>\n",
       "\t<tr><td>0.60</td><td>0.40</td></tr>\n",
       "</tbody>\n",
       "</table>\n"
      ],
      "text/latex": [
       "A matrix: 3 × 2 of type dbl\n",
       "\\begin{tabular}{ll}\n",
       "\t 0.42 & 0.58\\\\\n",
       "\t 0.46 & 0.54\\\\\n",
       "\t 0.60 & 0.40\\\\\n",
       "\\end{tabular}\n"
      ],
      "text/markdown": [
       "\n",
       "A matrix: 3 × 2 of type dbl\n",
       "\n",
       "| 0.42 | 0.58 |\n",
       "| 0.46 | 0.54 |\n",
       "| 0.60 | 0.40 |\n",
       "\n"
      ],
      "text/plain": [
       "     [,1] [,2]\n",
       "[1,] 0.42 0.58\n",
       "[2,] 0.46 0.54\n",
       "[3,] 0.60 0.40"
      ]
     },
     "metadata": {},
     "output_type": "display_data"
    }
   ],
   "source": [
    "W1[c(22,24,31),]"
   ]
  },
  {
   "cell_type": "code",
   "execution_count": 89,
   "id": "d92e7664-6f88-426c-bb40-577a4bb78875",
   "metadata": {},
   "outputs": [
    {
     "data": {
      "image/png": "[encoded data removed]",
      "text/plain": [
       "plot without title"
      ]
     },
     "metadata": {
      "image/png": {
       "height": 420,
       "width": 420
      }
     },
     "output_type": "display_data"
    }
   ],
   "source": [
    "plot(W1[,1], ac1, type = \"l\")"
   ]
  },
  {
   "cell_type": "code",
   "execution_count": 90,
   "id": "7479a882-d7b3-4245-94cf-594b19d7c76e",
   "metadata": {},
   "outputs": [
    {
     "data": {
      "image/png": "[encoded data removed]",
      "text/plain": [
       "plot without title"
      ]
     },
     "metadata": {
      "image/png": {
       "height": 420,
       "width": 420
      }
     },
     "output_type": "display_data"
    }
   ],
   "source": [
    "ac2 <- apply(eval_scores(select_bcp(bcp, 1:2), W = W1, score = \"brier\")$scores, 2, mean)\n",
    "plot(W1[,1], ac2, type = \"l\")"
   ]
  },
  {
   "cell_type": "code",
   "execution_count": 91,
   "id": "4e5a7e33-bf85-4e57-b140-8b21acaadc9f",
   "metadata": {},
   "outputs": [
    {
     "data": {
      "image/png": "[encoded data removed]",
      "text/plain": [
       "plot without title"
      ]
     },
     "metadata": {
      "image/png": {
       "height": 420,
       "width": 420
      }
     },
     "output_type": "display_data"
    }
   ],
   "source": [
    "ac3 <- apply(eval_scores(select_bcp(bcp, 1:2), W = W1, score = \"log\")$scores, 2, mean)\n",
    "plot(W1[,1], ac3, type = \"l\")"
   ]
  },
  {
   "cell_type": "code",
   "execution_count": 92,
   "id": "da544255-17a0-4fed-90ad-5775f0c21ac5",
   "metadata": {},
   "outputs": [
    {
     "data": {
      "text/html": [
       "<table class=\"dataframe\">\n",
       "<caption>A tibble: 1 × 1</caption>\n",
       "<thead>\n",
       "\t<tr><th scope=col>mean(m)</th></tr>\n",
       "\t<tr><th scope=col>&lt;dbl&gt;</th></tr>\n",
       "</thead>\n",
       "<tbody>\n",
       "\t<tr><td>367.5</td></tr>\n",
       "</tbody>\n",
       "</table>\n"
      ],
      "text/latex": [
       "A tibble: 1 × 1\n",
       "\\begin{tabular}{l}\n",
       " mean(m)\\\\\n",
       " <dbl>\\\\\n",
       "\\hline\n",
       "\t 367.5\\\\\n",
       "\\end{tabular}\n"
      ],
      "text/markdown": [
       "\n",
       "A tibble: 1 × 1\n",
       "\n",
       "| mean(m) &lt;dbl&gt; |\n",
       "|---|\n",
       "| 367.5 |\n",
       "\n"
      ],
      "text/plain": [
       "  mean(m)\n",
       "1 367.5  "
      ]
     },
     "metadata": {},
     "output_type": "display_data"
    }
   ],
   "source": [
    "r8 |> group_by(rep) |> summarize(m = sum(correct2)) |> summarize(mean(m))"
   ]
  },
  {
   "cell_type": "code",
   "execution_count": 93,
   "id": "6c79ecaa-274b-4c9c-82cc-506056b8d601",
   "metadata": {},
   "outputs": [
    {
     "data": {
      "text/html": [
       "<table class=\"dataframe\">\n",
       "<caption>A tibble: 1 × 1</caption>\n",
       "<thead>\n",
       "\t<tr><th scope=col>mean(m)</th></tr>\n",
       "\t<tr><th scope=col>&lt;dbl&gt;</th></tr>\n",
       "</thead>\n",
       "<tbody>\n",
       "\t<tr><td>367</td></tr>\n",
       "</tbody>\n",
       "</table>\n"
      ],
      "text/latex": [
       "A tibble: 1 × 1\n",
       "\\begin{tabular}{l}\n",
       " mean(m)\\\\\n",
       " <dbl>\\\\\n",
       "\\hline\n",
       "\t 367\\\\\n",
       "\\end{tabular}\n"
      ],
      "text/markdown": [
       "\n",
       "A tibble: 1 × 1\n",
       "\n",
       "| mean(m) &lt;dbl&gt; |\n",
       "|---|\n",
       "| 367 |\n",
       "\n"
      ],
      "text/plain": [
       "  mean(m)\n",
       "1 367    "
      ]
     },
     "metadata": {},
     "output_type": "display_data"
    }
   ],
   "source": [
    "r9 |> group_by(rep) |> summarize(m = sum(correct2)) |> summarize(mean(m))"
   ]
  },
  {
   "cell_type": "code",
   "execution_count": null,
   "id": "a56c8fe1-7dd6-4216-ae09-657cfe63f1eb",
   "metadata": {},
   "outputs": [],
   "source": []
  },
  {
   "cell_type": "code",
   "execution_count": 94,
   "id": "07c01423-5a92-4f2c-9e6f-5829cc31fffa",
   "metadata": {},
   "outputs": [
    {
     "data": {
      "text/html": [
       "<table class=\"dataframe\">\n",
       "<caption>A tibble: 1 × 1</caption>\n",
       "<thead>\n",
       "\t<tr><th scope=col>mean(m)</th></tr>\n",
       "\t<tr><th scope=col>&lt;dbl&gt;</th></tr>\n",
       "</thead>\n",
       "<tbody>\n",
       "\t<tr><td>366.2</td></tr>\n",
       "</tbody>\n",
       "</table>\n"
      ],
      "text/latex": [
       "A tibble: 1 × 1\n",
       "\\begin{tabular}{l}\n",
       " mean(m)\\\\\n",
       " <dbl>\\\\\n",
       "\\hline\n",
       "\t 366.2\\\\\n",
       "\\end{tabular}\n"
      ],
      "text/markdown": [
       "\n",
       "A tibble: 1 × 1\n",
       "\n",
       "| mean(m) &lt;dbl&gt; |\n",
       "|---|\n",
       "| 366.2 |\n",
       "\n"
      ],
      "text/plain": [
       "  mean(m)\n",
       "1 366.2  "
      ]
     },
     "metadata": {},
     "output_type": "display_data"
    }
   ],
   "source": [
    "r10 |> group_by(rep) |> summarize(m = sum(correct2)) |> summarize(mean(m))"
   ]
  },
  {
   "cell_type": "markdown",
   "id": "91ed13d0-f074-4426-aa80-38842a79de9e",
   "metadata": {},
   "source": [
    "## Full ensemble"
   ]
  },
  {
   "cell_type": "code",
   "execution_count": 102,
   "id": "9a5be6f2-deeb-44c0-badb-0ff317040edb",
   "metadata": {},
   "outputs": [
    {
     "name": "stdout",
     "output_type": "stream",
     "text": [
      "[1]  432 4000\n"
     ]
    }
   ],
   "source": [
    "W2 <- gen_W(qL = 4, n = 4000)\n",
    "r11 <- cv_stack(bcp = select_bcp(bcp, 1:4), W = W2, score = \"acc\", reps = 40)"
   ]
  },
  {
   "cell_type": "code",
   "execution_count": 103,
   "id": "35bb3f21-d9d0-4735-9cf8-9b10619d207d",
   "metadata": {},
   "outputs": [
    {
     "data": {
      "text/html": [
       "<table class=\"dataframe\">\n",
       "<caption>A tibble: 1 × 1</caption>\n",
       "<thead>\n",
       "\t<tr><th scope=col>mean(m)</th></tr>\n",
       "\t<tr><th scope=col>&lt;dbl&gt;</th></tr>\n",
       "</thead>\n",
       "<tbody>\n",
       "\t<tr><td>430</td></tr>\n",
       "</tbody>\n",
       "</table>\n"
      ],
      "text/latex": [
       "A tibble: 1 × 1\n",
       "\\begin{tabular}{l}\n",
       " mean(m)\\\\\n",
       " <dbl>\\\\\n",
       "\\hline\n",
       "\t 430\\\\\n",
       "\\end{tabular}\n"
      ],
      "text/markdown": [
       "\n",
       "A tibble: 1 × 1\n",
       "\n",
       "| mean(m) &lt;dbl&gt; |\n",
       "|---|\n",
       "| 430 |\n",
       "\n"
      ],
      "text/plain": [
       "  mean(m)\n",
       "1 430    "
      ]
     },
     "metadata": {},
     "output_type": "display_data"
    }
   ],
   "source": [
    "r11 |> group_by(rep) |> summarize(m = sum(correct2)) |> summarize(mean(m))"
   ]
  },
  {
   "cell_type": "code",
   "execution_count": 104,
   "id": "e9802f58-9fa4-46d3-bb23-7c79851d1a8a",
   "metadata": {},
   "outputs": [
    {
     "data": {
      "text/html": [
       "0.99537037037037"
      ],
      "text/latex": [
       "0.99537037037037"
      ],
      "text/markdown": [
       "0.99537037037037"
      ],
      "text/plain": [
       "[1] 0.9953704"
      ]
     },
     "metadata": {},
     "output_type": "display_data"
    }
   ],
   "source": [
    "ac7 <- apply(eval_scores(select_bcp(bcp, 1:4), W = W2, score = \"acc\")$scores, 2, mean)\n",
    "max(ac7)"
   ]
  },
  {
   "cell_type": "code",
   "execution_count": 105,
   "id": "5c4f8d82-f7ee-4da7-b7c5-d00c94b734a9",
   "metadata": {},
   "outputs": [
    {
     "data": {
      "text/html": [
       "6"
      ],
      "text/latex": [
       "6"
      ],
      "text/markdown": [
       "6"
      ],
      "text/plain": [
       "[1] 6"
      ]
     },
     "metadata": {},
     "output_type": "display_data"
    }
   ],
   "source": [
    "which.max(ac7)"
   ]
  },
  {
   "cell_type": "code",
   "execution_count": 106,
   "id": "e47713c6-9257-4838-b5f5-acb934feb476",
   "metadata": {},
   "outputs": [
    {
     "data": {
      "text/html": [
       "<style>\n",
       ".list-inline {list-style: none; margin:0; padding: 0}\n",
       ".list-inline>li {display: inline-block}\n",
       ".list-inline>li:not(:last-child)::after {content: \"\\00b7\"; padding: 0 .5ex}\n",
       "</style>\n",
       "<ol class=list-inline><li>0.07</li><li>0.29</li><li>0.22</li><li>0.42</li></ol>\n"
      ],
      "text/latex": [
       "\\begin{enumerate*}\n",
       "\\item 0.07\n",
       "\\item 0.29\n",
       "\\item 0.22\n",
       "\\item 0.42\n",
       "\\end{enumerate*}\n"
      ],
      "text/markdown": [
       "1. 0.07\n",
       "2. 0.29\n",
       "3. 0.22\n",
       "4. 0.42\n",
       "\n",
       "\n"
      ],
      "text/plain": [
       "[1] 0.07 0.29 0.22 0.42"
      ]
     },
     "metadata": {},
     "output_type": "display_data"
    }
   ],
   "source": [
    "W2[6,]"
   ]
  },
  {
   "cell_type": "code",
   "execution_count": 110,
   "id": "aa9e2e83-e77b-4126-aaee-4a07d6d0c658",
   "metadata": {},
   "outputs": [
    {
     "name": "stdout",
     "output_type": "stream",
     "text": [
      "\u001b[90m# A tibble: 158 × 2\u001b[39m\n",
      "   best_w     m\n",
      "    \u001b[3m\u001b[90m<int>\u001b[39m\u001b[23m \u001b[3m\u001b[90m<int>\u001b[39m\u001b[23m\n",
      "\u001b[90m 1\u001b[39m    729     4\n",
      "\u001b[90m 2\u001b[39m    473     3\n",
      "\u001b[90m 3\u001b[39m    911     3\n",
      "\u001b[90m 4\u001b[39m   \u001b[4m1\u001b[24m176     3\n",
      "\u001b[90m 5\u001b[39m    163     2\n",
      "\u001b[90m 6\u001b[39m    187     2\n",
      "\u001b[90m 7\u001b[39m    240     2\n",
      "\u001b[90m 8\u001b[39m    321     2\n",
      "\u001b[90m 9\u001b[39m    523     2\n",
      "\u001b[90m10\u001b[39m    619     2\n",
      "\u001b[90m11\u001b[39m    688     2\n",
      "\u001b[90m12\u001b[39m    752     2\n",
      "\u001b[90m13\u001b[39m    844     2\n",
      "\u001b[90m14\u001b[39m    918     2\n",
      "\u001b[90m15\u001b[39m   \u001b[4m1\u001b[24m132     2\n",
      "\u001b[90m16\u001b[39m   \u001b[4m1\u001b[24m143     2\n",
      "\u001b[90m17\u001b[39m   \u001b[4m1\u001b[24m244     2\n",
      "\u001b[90m18\u001b[39m   \u001b[4m1\u001b[24m697     2\n",
      "\u001b[90m19\u001b[39m   \u001b[4m1\u001b[24m715     2\n",
      "\u001b[90m20\u001b[39m   \u001b[4m1\u001b[24m926     2\n",
      "\u001b[90m21\u001b[39m   \u001b[4m2\u001b[24m051     2\n",
      "\u001b[90m22\u001b[39m   \u001b[4m2\u001b[24m264     2\n",
      "\u001b[90m23\u001b[39m   \u001b[4m2\u001b[24m267     2\n",
      "\u001b[90m24\u001b[39m   \u001b[4m2\u001b[24m439     2\n",
      "\u001b[90m25\u001b[39m   \u001b[4m2\u001b[24m575     2\n",
      "\u001b[90m# ℹ 133 more rows\u001b[39m\n"
     ]
    }
   ],
   "source": [
    "r11 |> group_by(best_w) |> summarize(m=n()) |> arrange(desc(m))  |> print(n = 25)"
   ]
  },
  {
   "cell_type": "code",
   "execution_count": 111,
   "id": "4ded073b-804c-4504-9e73-79d4d2ff9e5a",
   "metadata": {},
   "outputs": [
    {
     "data": {
      "text/html": [
       "<style>\n",
       ".list-inline {list-style: none; margin:0; padding: 0}\n",
       ".list-inline>li {display: inline-block}\n",
       ".list-inline>li:not(:last-child)::after {content: \"\\00b7\"; padding: 0 .5ex}\n",
       "</style>\n",
       "<ol class=list-inline><li>0.99537037037037</li><li>0.99537037037037</li><li>0.99537037037037</li><li>0.99537037037037</li><li>0.99537037037037</li><li>0.99537037037037</li></ol>\n"
      ],
      "text/latex": [
       "\\begin{enumerate*}\n",
       "\\item 0.99537037037037\n",
       "\\item 0.99537037037037\n",
       "\\item 0.99537037037037\n",
       "\\item 0.99537037037037\n",
       "\\item 0.99537037037037\n",
       "\\item 0.99537037037037\n",
       "\\end{enumerate*}\n"
      ],
      "text/markdown": [
       "1. 0.99537037037037\n",
       "2. 0.99537037037037\n",
       "3. 0.99537037037037\n",
       "4. 0.99537037037037\n",
       "5. 0.99537037037037\n",
       "6. 0.99537037037037\n",
       "\n",
       "\n"
      ],
      "text/plain": [
       "[1] 0.9953704 0.9953704 0.9953704 0.9953704 0.9953704 0.9953704"
      ]
     },
     "metadata": {},
     "output_type": "display_data"
    }
   ],
   "source": [
    "ac7[c(729,473,911,1176,163,187)]"
   ]
  },
  {
   "cell_type": "markdown",
   "id": "2861a7a6-0e45-402b-8329-b58be199dac0",
   "metadata": {},
   "source": [
    "## Ensemble (2,4)"
   ]
  },
  {
   "cell_type": "code",
   "execution_count": 114,
   "id": "3df6cf35-a7e0-41b1-8ab1-79260c8ab7c3",
   "metadata": {},
   "outputs": [],
   "source": [
    "ac8 <- apply(eval_scores(select_bcp(bcp, c(2,4)), W = W1, score = \"acc\")$scores, 2, mean)"
   ]
  },
  {
   "cell_type": "code",
   "execution_count": 118,
   "id": "293ed2f4-0fd6-4e89-86ea-2c9b0b053857",
   "metadata": {},
   "outputs": [
    {
     "data": {
      "image/png": "[encoded data removed]",
      "text/plain": [
       "plot without title"
      ]
     },
     "metadata": {
      "image/png": {
       "height": 420,
       "width": 420
      }
     },
     "output_type": "display_data"
    }
   ],
   "source": [
    "plot(W1[,1], ac8, type = \"l\")"
   ]
  },
  {
   "cell_type": "code",
   "execution_count": 116,
   "id": "65fe97f9-f031-4241-bb14-a1392aaa50ce",
   "metadata": {},
   "outputs": [
    {
     "data": {
      "text/html": [
       "51"
      ],
      "text/latex": [
       "51"
      ],
      "text/markdown": [
       "51"
      ],
      "text/plain": [
       "[1] 51"
      ]
     },
     "metadata": {},
     "output_type": "display_data"
    }
   ],
   "source": [
    "length(ac8)"
   ]
  },
  {
   "cell_type": "code",
   "execution_count": 117,
   "id": "9f64b8eb-30c7-443d-b1f2-6689ef4c2712",
   "metadata": {},
   "outputs": [
    {
     "data": {
      "text/html": [
       "<style>\n",
       ".list-inline {list-style: none; margin:0; padding: 0}\n",
       ".list-inline>li {display: inline-block}\n",
       ".list-inline>li:not(:last-child)::after {content: \"\\00b7\"; padding: 0 .5ex}\n",
       "</style>\n",
       "<ol class=list-inline><li>1000</li><li>3</li></ol>\n"
      ],
      "text/latex": [
       "\\begin{enumerate*}\n",
       "\\item 1000\n",
       "\\item 3\n",
       "\\end{enumerate*}\n"
      ],
      "text/markdown": [
       "1. 1000\n",
       "2. 3\n",
       "\n",
       "\n"
      ],
      "text/plain": [
       "[1] 1000    3"
      ]
     },
     "metadata": {},
     "output_type": "display_data"
    }
   ],
   "source": [
    "dim(W)"
   ]
  },
  {
   "cell_type": "code",
   "execution_count": 119,
   "id": "5f344281-f557-4bb0-b929-02d1059f5b13",
   "metadata": {},
   "outputs": [],
   "source": [
    "ac9 <- apply(eval_scores(select_bcp(bcp, c(2,4)), W = W1, score = \"brier\")$scores, 2, mean)"
   ]
  },
  {
   "cell_type": "code",
   "execution_count": 120,
   "id": "c134ac55-f285-4075-835e-43a0ee7c09c3",
   "metadata": {},
   "outputs": [
    {
     "data": {
      "image/png": "[encoded data removed]",
      "text/plain": [
       "plot without title"
      ]
     },
     "metadata": {
      "image/png": {
       "height": 420,
       "width": 420
      }
     },
     "output_type": "display_data"
    }
   ],
   "source": [
    "plot(W1[,1], ac9, type = \"l\")"
   ]
  },
  {
   "cell_type": "code",
   "execution_count": 127,
   "id": "244cbb88-db5b-43ff-97e6-1f1293f6cad8",
   "metadata": {},
   "outputs": [
    {
     "name": "stdout",
     "output_type": "stream",
     "text": [
      "[1] 432  51\n"
     ]
    }
   ],
   "source": [
    "c9 <- cv_stack(select_bcp(bcp, c(2,4)), W1,  score=\"log\")"
   ]
  },
  {
   "cell_type": "code",
   "execution_count": 128,
   "id": "aa312c73-8f8e-4bac-a53a-db2bc53f8830",
   "metadata": {},
   "outputs": [
    {
     "data": {
      "text/html": [
       "<table class=\"dataframe\">\n",
       "<caption>A tibble: 1 × 1</caption>\n",
       "<thead>\n",
       "\t<tr><th scope=col>mean(m)</th></tr>\n",
       "\t<tr><th scope=col>&lt;dbl&gt;</th></tr>\n",
       "</thead>\n",
       "<tbody>\n",
       "\t<tr><td>360.9</td></tr>\n",
       "</tbody>\n",
       "</table>\n"
      ],
      "text/latex": [
       "A tibble: 1 × 1\n",
       "\\begin{tabular}{l}\n",
       " mean(m)\\\\\n",
       " <dbl>\\\\\n",
       "\\hline\n",
       "\t 360.9\\\\\n",
       "\\end{tabular}\n"
      ],
      "text/markdown": [
       "\n",
       "A tibble: 1 × 1\n",
       "\n",
       "| mean(m) &lt;dbl&gt; |\n",
       "|---|\n",
       "| 360.9 |\n",
       "\n"
      ],
      "text/plain": [
       "  mean(m)\n",
       "1 360.9  "
      ]
     },
     "metadata": {},
     "output_type": "display_data"
    }
   ],
   "source": [
    "c9 |> group_by(rep) |> summarize(m = sum(correct2)) |> summarize(mean(m))"
   ]
  },
  {
   "cell_type": "code",
   "execution_count": 130,
   "id": "9d944750-075d-49c6-9509-58064a1d48de",
   "metadata": {},
   "outputs": [
    {
     "data": {
      "text/html": [
       "<style>\n",
       ".list-inline {list-style: none; margin:0; padding: 0}\n",
       ".list-inline>li {display: inline-block}\n",
       ".list-inline>li:not(:last-child)::after {content: \"\\00b7\"; padding: 0 .5ex}\n",
       "</style>\n",
       "<ol class=list-inline><li>432</li><li>3</li></ol>\n"
      ],
      "text/latex": [
       "\\begin{enumerate*}\n",
       "\\item 432\n",
       "\\item 3\n",
       "\\end{enumerate*}\n"
      ],
      "text/markdown": [
       "1. 432\n",
       "2. 3\n",
       "\n",
       "\n"
      ],
      "text/plain": [
       "[1] 432   3"
      ]
     },
     "metadata": {},
     "output_type": "display_data"
    }
   ],
   "source": [
    "dim(bcp$pl[[1]])"
   ]
  },
  {
   "cell_type": "code",
   "execution_count": 131,
   "id": "1f3af787-398c-4136-ac64-13bba9e9eefd",
   "metadata": {},
   "outputs": [
    {
     "data": {
      "text/html": [
       "0.834836918806384"
      ],
      "text/latex": [
       "0.834836918806384"
      ],
      "text/markdown": [
       "0.834836918806384"
      ],
      "text/plain": [
       "[1] 0.8348369"
      ]
     },
     "metadata": {},
     "output_type": "display_data"
    }
   ],
   "source": [
    "360.9/432.3"
   ]
  },
  {
   "cell_type": "code",
   "execution_count": 132,
   "id": "1b7dc349-8c09-44e7-81ae-35ded048dda7",
   "metadata": {},
   "outputs": [
    {
     "data": {
      "text/html": [
       "0.99537037037037"
      ],
      "text/latex": [
       "0.99537037037037"
      ],
      "text/markdown": [
       "0.99537037037037"
      ],
      "text/plain": [
       "[1] 0.9953704"
      ]
     },
     "metadata": {},
     "output_type": "display_data"
    }
   ],
   "source": [
    "430/432"
   ]
  },
  {
   "cell_type": "code",
   "execution_count": null,
   "id": "d6f5d784-af8f-4bcd-9813-71dcb21e7be1",
   "metadata": {},
   "outputs": [],
   "source": []
  }
 ],
 "metadata": {
  "kernelspec": {
   "display_name": "R",
   "language": "R",
   "name": "ir"
  },
  "language_info": {
   "codemirror_mode": "r",
   "file_extension": ".r",
   "mimetype": "text/x-r-source",
   "name": "R",
   "pygments_lexer": "r",
   "version": "4.4.2"
  }
 },
 "nbformat": 4,
 "nbformat_minor": 5
}
