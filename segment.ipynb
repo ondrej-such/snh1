{
 "cells": [
  {
   "cell_type": "markdown",
   "id": "43bae315-e02c-4990-a9b2-8bac9fc91a5b",
   "metadata": {},
   "source": [
    "# Analysis of dna dataset"
   ]
  },
  {
   "cell_type": "code",
   "execution_count": 1,
   "id": "e2038667-6ffd-422e-b3fd-cba554bd8fec",
   "metadata": {},
   "outputs": [],
   "source": [
    "library(entropy)\n",
    "source(\"lda.R\")"
   ]
  },
  {
   "cell_type": "markdown",
   "id": "8d22afd4-fc66-4e4d-b53a-fb936592438e",
   "metadata": {
    "jp-MarkdownHeadingCollapsed": true
   },
   "source": [
    "### How close is distribution of classes between the training and testing datasets?"
   ]
  },
  {
   "cell_type": "code",
   "execution_count": 45,
   "id": "57ef9238-0294-4bd6-a7fb-fad207541238",
   "metadata": {},
   "outputs": [
    {
     "name": "stdout",
     "output_type": "stream",
     "text": [
      "[1] \"unzips/n800/waveform.scale-0\"\n"
     ]
    },
    {
     "ename": "ERROR",
     "evalue": "Error in UseMethod(\"filter\"): no applicable method for 'filter' applied to an object of class \"c('integer', 'numeric')\"\n",
     "output_type": "error",
     "traceback": [
      "Error in UseMethod(\"filter\"): no applicable method for 'filter' applied to an object of class \"c('integer', 'numeric')\"\nTraceback:\n",
      "1. table(dplyr::filter(dfs$train$class_id, class_id %in% c(2, 4, \n .     7)))",
      "2. dplyr::filter(dfs$train$class_id, class_id %in% c(2, 4, 7))"
     ]
    }
   ],
   "source": [
    "library(dplyr)\n",
    "for (i in 0:19) {\n",
    " dfs <- read_wlws(800, \"waveform\", i)\n",
    " v1 <- table(dfs$train|> dplyr::filter(class_id %in% c(2,4,7)))\n",
    " v2 <- table(dfs$test|> dplyr::filter(class_id %in% c(2,4,7) ))\n",
    " v <- as.matrix(v1/sum(v1) - v2/sum(v2) )\n",
    " print(norm(v, \"F\"))\n",
    " print(KL.plugin(v1, v2))\n",
    "}"
   ]
  },
  {
   "cell_type": "code",
   "execution_count": 2,
   "id": "e2acae31-f9b5-4b62-96ca-c95ddcee12ae",
   "metadata": {},
   "outputs": [
    {
     "name": "stdout",
     "output_type": "stream",
     "text": [
      "[1] \"unzips/n800/segment.scale-7\"\n"
     ]
    }
   ],
   "source": [
    "dfs <- read_wlws(800, \"segment\", 7)"
   ]
  },
  {
   "cell_type": "code",
   "execution_count": 3,
   "id": "714ebde4-7072-4e6a-a7ad-834999b0ffff",
   "metadata": {
    "scrolled": true
   },
   "outputs": [
    {
     "name": "stdout",
     "output_type": "stream",
     "text": [
      "[1]   1   2 Inf\n"
     ]
    },
    {
     "name": "stderr",
     "output_type": "stream",
     "text": [
      "Warning message in lda.default(x, grouping, ...):\n",
      "“variables are collinear”\n",
      "Warning message in lda.default(x, grouping, ...):\n",
      "“variables are collinear”\n",
      "Warning message in lda.default(x, grouping, ...):\n",
      "“variables are collinear”\n"
     ]
    },
    {
     "name": "stdout",
     "output_type": "stream",
     "text": [
      "[1]   2   5 Inf\n",
      "[1]   2   6 Inf\n",
      "[1]   5   6 Inf\n",
      "[1]   2   7 Inf\n"
     ]
    },
    {
     "name": "stderr",
     "output_type": "stream",
     "text": [
      "Warning message in lda.default(x, grouping, ...):\n",
      "“variables are collinear”\n",
      "Warning message in lda.default(x, grouping, ...):\n",
      "“variables are collinear”\n"
     ]
    },
    {
     "name": "stdout",
     "output_type": "stream",
     "text": [
      "[1]   6   7 Inf\n"
     ]
    },
    {
     "name": "stderr",
     "output_type": "stream",
     "text": [
      "Warning message in fn(r[, , k]):\n",
      "“stratified() : Maximum number of iterations reached without convergence \n",
      " delta =1.02822e-39\n",
      " delta1= 1.02768e-39”\n"
     ]
    },
    {
     "data": {
      "text/html": [
       "<table class=\"dataframe\">\n",
       "<caption>A data.frame: 4 × 6</caption>\n",
       "<thead>\n",
       "\t<tr><th scope=col>n</th><th scope=col>K</th><th scope=col>method</th><th scope=col>correct</th><th scope=col>dataset</th><th scope=col>run</th></tr>\n",
       "\t<tr><th scope=col>&lt;dbl&gt;</th><th scope=col>&lt;int&gt;</th><th scope=col>&lt;chr&gt;</th><th scope=col>&lt;int&gt;</th><th scope=col>&lt;chr&gt;</th><th scope=col>&lt;dbl&gt;</th></tr>\n",
       "</thead>\n",
       "<tbody>\n",
       "\t<tr><td>800</td><td>7</td><td>normal</td><td>561</td><td>segment</td><td>7</td></tr>\n",
       "\t<tr><td>800</td><td>7</td><td>radial</td><td>933</td><td>segment</td><td>7</td></tr>\n",
       "\t<tr><td>800</td><td>7</td><td>wlw2  </td><td>936</td><td>segment</td><td>7</td></tr>\n",
       "\t<tr><td>800</td><td>7</td><td>oracle</td><td>932</td><td>segment</td><td>7</td></tr>\n",
       "</tbody>\n",
       "</table>\n"
      ],
      "text/latex": [
       "A data.frame: 4 × 6\n",
       "\\begin{tabular}{llllll}\n",
       " n & K & method & correct & dataset & run\\\\\n",
       " <dbl> & <int> & <chr> & <int> & <chr> & <dbl>\\\\\n",
       "\\hline\n",
       "\t 800 & 7 & normal & 561 & segment & 7\\\\\n",
       "\t 800 & 7 & radial & 933 & segment & 7\\\\\n",
       "\t 800 & 7 & wlw2   & 936 & segment & 7\\\\\n",
       "\t 800 & 7 & oracle & 932 & segment & 7\\\\\n",
       "\\end{tabular}\n"
      ],
      "text/markdown": [
       "\n",
       "A data.frame: 4 × 6\n",
       "\n",
       "| n &lt;dbl&gt; | K &lt;int&gt; | method &lt;chr&gt; | correct &lt;int&gt; | dataset &lt;chr&gt; | run &lt;dbl&gt; |\n",
       "|---|---|---|---|---|---|\n",
       "| 800 | 7 | normal | 561 | segment | 7 |\n",
       "| 800 | 7 | radial | 933 | segment | 7 |\n",
       "| 800 | 7 | wlw2   | 936 | segment | 7 |\n",
       "| 800 | 7 | oracle | 932 | segment | 7 |\n",
       "\n"
      ],
      "text/plain": [
       "  n   K method correct dataset run\n",
       "1 800 7 normal 561     segment 7  \n",
       "2 800 7 radial 933     segment 7  \n",
       "3 800 7 wlw2   936     segment 7  \n",
       "4 800 7 oracle 932     segment 7  "
      ]
     },
     "metadata": {},
     "output_type": "display_data"
    }
   ],
   "source": [
    "lda_multi(dfs)$multi"
   ]
  },
  {
   "cell_type": "code",
   "execution_count": 4,
   "id": "444c8469-de2f-4399-9d03-8a6f049e0d3e",
   "metadata": {},
   "outputs": [
    {
     "name": "stdout",
     "output_type": "stream",
     "text": [
      "[1]   1   2 Inf\n"
     ]
    },
    {
     "name": "stderr",
     "output_type": "stream",
     "text": [
      "Warning message in lda.default(x, grouping, ...):\n",
      "“variables are collinear”\n",
      "Warning message in lda.default(x, grouping, ...):\n",
      "“variables are collinear”\n",
      "Warning message in lda.default(x, grouping, ...):\n",
      "“variables are collinear”\n"
     ]
    },
    {
     "name": "stdout",
     "output_type": "stream",
     "text": [
      "[1]   2   5 Inf\n",
      "[1]   2   6 Inf\n",
      "[1]   5   6 Inf\n",
      "[1]   2   7 Inf\n"
     ]
    },
    {
     "name": "stderr",
     "output_type": "stream",
     "text": [
      "Warning message in lda.default(x, grouping, ...):\n",
      "“variables are collinear”\n",
      "Warning message in lda.default(x, grouping, ...):\n",
      "“variables are collinear”\n"
     ]
    },
    {
     "name": "stdout",
     "output_type": "stream",
     "text": [
      "[1]   6   7 Inf\n",
      "[1] 7\n",
      "\u001b[90m# A tibble: 35 × 10\u001b[39m\n",
      "      i     j     k normal radial  wlw2 omit12 omit13 omit23    imp\n",
      "  \u001b[3m\u001b[90m<int>\u001b[39m\u001b[23m \u001b[3m\u001b[90m<int>\u001b[39m\u001b[23m \u001b[3m\u001b[90m<int>\u001b[39m\u001b[23m  \u001b[3m\u001b[90m<dbl>\u001b[39m\u001b[23m  \u001b[3m\u001b[90m<dbl>\u001b[39m\u001b[23m \u001b[3m\u001b[90m<dbl>\u001b[39m\u001b[23m  \u001b[3m\u001b[90m<dbl>\u001b[39m\u001b[23m  \u001b[3m\u001b[90m<dbl>\u001b[39m\u001b[23m  \u001b[3m\u001b[90m<dbl>\u001b[39m\u001b[23m  \u001b[3m\u001b[90m<dbl>\u001b[39m\u001b[23m\n",
      "\u001b[90m1\u001b[39m     2     4     7  0.775  0.995 0.995  0.850  0.674  0.836 0.146 \n",
      "\u001b[90m2\u001b[39m     2     6     7  0.876  0.995 0.995  0.809  0.911  0.937 0.058\u001b[4m3\u001b[24m\n",
      "\u001b[90m3\u001b[39m     1     3     4  0.940  0.968 0.968  0.826  0.800  0.915 0.052\u001b[4m8\u001b[24m\n",
      "\u001b[90m4\u001b[39m     1     2     4  0.745  0.995 0.995  0.893  0.718  0.977 0.018\u001b[4m2\u001b[24m\n",
      "\u001b[90m5\u001b[39m     2     4     5  0.810  0.951 0.951  0.937  0.878  0.782 0.014\u001b[4m1\u001b[24m\n",
      "\u001b[90m6\u001b[39m     1     4     5  0.865  0.947 0.944  0.930  0.840  0.867 0.014\u001b[4m0\u001b[24m\n",
      "\u001b[90m7\u001b[39m     2     5     6  0.766  0.991 0.991  0.953  0.979  0.702 0.011\u001b[4m8\u001b[24m\n",
      "\u001b[90m# ℹ 28 more rows\u001b[39m\n"
     ]
    }
   ],
   "source": [
    "t1 <- lda_triples(dfs)\n",
    "t2 <- t1 |> pivot_wider(names_from = \"method\", values_from = \"acc\") |> \n",
    "  mutate(imp = wlw2 - pmax(omit12, omit13, omit23)) |> arrange(desc(imp)) \n",
    "t2 |> print(n =7)"
   ]
  },
  {
   "cell_type": "code",
   "execution_count": 6,
   "id": "eb943772-bbf5-4176-aaff-2acf5444dd2a",
   "metadata": {},
   "outputs": [],
   "source": [
    "W <- gen_W(qL = 3, n = 1000)"
   ]
  },
  {
   "cell_type": "code",
   "execution_count": 11,
   "id": "a1b20156-5847-45b3-b2fd-2658ea997e9c",
   "metadata": {},
   "outputs": [
    {
     "name": "stderr",
     "output_type": "stream",
     "text": [
      "Warning message in lda.default(x, grouping, ...):\n",
      "“variables are collinear”\n"
     ]
    },
    {
     "name": "stdout",
     "output_type": "stream",
     "text": [
      "[1]   2   7 Inf\n"
     ]
    },
    {
     "name": "stderr",
     "output_type": "stream",
     "text": [
      "Warning message in lda.default(x, grouping, ...):\n",
      "“variables are collinear”\n"
     ]
    }
   ],
   "source": [
    "bcp <- get_bcp(dfs = dfs, i = 2, j = 4, k = 7)"
   ]
  },
  {
   "cell_type": "markdown",
   "id": "80174618-86d5-4ee3-bd64-d371bd9caaed",
   "metadata": {},
   "source": [
    "### Crossvalidation of best ensemble (1,2,3)"
   ]
  },
  {
   "cell_type": "code",
   "execution_count": 12,
   "id": "5e282711-f2f1-4347-91c6-a90f476a7b07",
   "metadata": {},
   "outputs": [
    {
     "name": "stdout",
     "output_type": "stream",
     "text": [
      "[1]  432 1000\n"
     ]
    },
    {
     "data": {
      "text/html": [
       "<table class=\"dataframe\">\n",
       "<caption>A tibble: 1 × 1</caption>\n",
       "<thead>\n",
       "\t<tr><th scope=col>mean(m)</th></tr>\n",
       "\t<tr><th scope=col>&lt;dbl&gt;</th></tr>\n",
       "</thead>\n",
       "<tbody>\n",
       "\t<tr><td>378.25</td></tr>\n",
       "</tbody>\n",
       "</table>\n"
      ],
      "text/latex": [
       "A tibble: 1 × 1\n",
       "\\begin{tabular}{l}\n",
       " mean(m)\\\\\n",
       " <dbl>\\\\\n",
       "\\hline\n",
       "\t 378.25\\\\\n",
       "\\end{tabular}\n"
      ],
      "text/markdown": [
       "\n",
       "A tibble: 1 × 1\n",
       "\n",
       "| mean(m) &lt;dbl&gt; |\n",
       "|---|\n",
       "| 378.25 |\n",
       "\n"
      ],
      "text/plain": [
       "  mean(m)\n",
       "1 378.25 "
      ]
     },
     "metadata": {},
     "output_type": "display_data"
    }
   ],
   "source": [
    "r1 <- cv_stack(bcp = select_bcp(bcp, 1:3), W = W, score = \"acc\")\n",
    "r1 |> group_by(rep) |> summarize(m = sum(correct2)) |> summarize(mean(m))"
   ]
  },
  {
   "cell_type": "code",
   "execution_count": 13,
   "id": "74f29352-8c03-4cc6-b44e-bd09ccb38ac8",
   "metadata": {},
   "outputs": [
    {
     "name": "stdout",
     "output_type": "stream",
     "text": [
      "[1]  432 1000\n"
     ]
    },
    {
     "data": {
      "text/html": [
       "<table class=\"dataframe\">\n",
       "<caption>A tibble: 1 × 1</caption>\n",
       "<thead>\n",
       "\t<tr><th scope=col>mean(m)</th></tr>\n",
       "\t<tr><th scope=col>&lt;dbl&gt;</th></tr>\n",
       "</thead>\n",
       "<tbody>\n",
       "\t<tr><td>344.55</td></tr>\n",
       "</tbody>\n",
       "</table>\n"
      ],
      "text/latex": [
       "A tibble: 1 × 1\n",
       "\\begin{tabular}{l}\n",
       " mean(m)\\\\\n",
       " <dbl>\\\\\n",
       "\\hline\n",
       "\t 344.55\\\\\n",
       "\\end{tabular}\n"
      ],
      "text/markdown": [
       "\n",
       "A tibble: 1 × 1\n",
       "\n",
       "| mean(m) &lt;dbl&gt; |\n",
       "|---|\n",
       "| 344.55 |\n",
       "\n"
      ],
      "text/plain": [
       "  mean(m)\n",
       "1 344.55 "
      ]
     },
     "metadata": {},
     "output_type": "display_data"
    }
   ],
   "source": [
    "r2 <- cv_stack(bcp = select_bcp(bcp, 1:3), W = W, score = \"brier\")\n",
    "r2 |> group_by(rep) |> summarize(m = sum(correct2)) |> summarize(mean(m))"
   ]
  },
  {
   "cell_type": "code",
   "execution_count": 14,
   "id": "47205877-14cd-4fdc-aab4-da207ebb3b16",
   "metadata": {},
   "outputs": [
    {
     "name": "stdout",
     "output_type": "stream",
     "text": [
      "[1]  432 1000\n"
     ]
    },
    {
     "data": {
      "text/html": [
       "<table class=\"dataframe\">\n",
       "<caption>A tibble: 1 × 1</caption>\n",
       "<thead>\n",
       "\t<tr><th scope=col>mean(m)</th></tr>\n",
       "\t<tr><th scope=col>&lt;dbl&gt;</th></tr>\n",
       "</thead>\n",
       "<tbody>\n",
       "\t<tr><td>346.5</td></tr>\n",
       "</tbody>\n",
       "</table>\n"
      ],
      "text/latex": [
       "A tibble: 1 × 1\n",
       "\\begin{tabular}{l}\n",
       " mean(m)\\\\\n",
       " <dbl>\\\\\n",
       "\\hline\n",
       "\t 346.5\\\\\n",
       "\\end{tabular}\n"
      ],
      "text/markdown": [
       "\n",
       "A tibble: 1 × 1\n",
       "\n",
       "| mean(m) &lt;dbl&gt; |\n",
       "|---|\n",
       "| 346.5 |\n",
       "\n"
      ],
      "text/plain": [
       "  mean(m)\n",
       "1 346.5  "
      ]
     },
     "metadata": {},
     "output_type": "display_data"
    }
   ],
   "source": [
    "r3 <- cv_stack(bcp = select_bcp(bcp, 1:3), W = W, score = \"log\")\n",
    "r3 |> group_by(rep) |> summarize(m = sum(correct2)) |> summarize(mean(m))"
   ]
  },
  {
   "cell_type": "code",
   "execution_count": 15,
   "id": "d8bdf169-03b6-4015-bdb9-1a8da89dee50",
   "metadata": {},
   "outputs": [
    {
     "data": {
      "text/html": [
       "<table class=\"dataframe\">\n",
       "<caption>A tibble: 59 × 2</caption>\n",
       "<thead>\n",
       "\t<tr><th scope=col>best_w</th><th scope=col>m</th></tr>\n",
       "\t<tr><th scope=col>&lt;int&gt;</th><th scope=col>&lt;int&gt;</th></tr>\n",
       "</thead>\n",
       "<tbody>\n",
       "\t<tr><td>269</td><td>4</td></tr>\n",
       "\t<tr><td>299</td><td>4</td></tr>\n",
       "\t<tr><td>669</td><td>4</td></tr>\n",
       "\t<tr><td>729</td><td>4</td></tr>\n",
       "\t<tr><td>425</td><td>3</td></tr>\n",
       "\t<tr><td>519</td><td>3</td></tr>\n",
       "\t<tr><td>526</td><td>3</td></tr>\n",
       "\t<tr><td>540</td><td>3</td></tr>\n",
       "\t<tr><td>699</td><td>3</td></tr>\n",
       "\t<tr><td>872</td><td>3</td></tr>\n",
       "\t<tr><td> 17</td><td>2</td></tr>\n",
       "\t<tr><td>112</td><td>2</td></tr>\n",
       "\t<tr><td>156</td><td>2</td></tr>\n",
       "\t<tr><td>353</td><td>2</td></tr>\n",
       "\t<tr><td>406</td><td>2</td></tr>\n",
       "\t<tr><td>429</td><td>2</td></tr>\n",
       "\t<tr><td>436</td><td>2</td></tr>\n",
       "\t<tr><td>456</td><td>2</td></tr>\n",
       "\t<tr><td>527</td><td>2</td></tr>\n",
       "\t<tr><td>574</td><td>2</td></tr>\n",
       "\t<tr><td>603</td><td>2</td></tr>\n",
       "\t<tr><td>718</td><td>2</td></tr>\n",
       "\t<tr><td>740</td><td>2</td></tr>\n",
       "\t<tr><td>790</td><td>2</td></tr>\n",
       "\t<tr><td>936</td><td>2</td></tr>\n",
       "\t<tr><td>980</td><td>2</td></tr>\n",
       "\t<tr><td>983</td><td>2</td></tr>\n",
       "\t<tr><td> 32</td><td>1</td></tr>\n",
       "\t<tr><td> 90</td><td>1</td></tr>\n",
       "\t<tr><td>111</td><td>1</td></tr>\n",
       "\t<tr><td>169</td><td>1</td></tr>\n",
       "\t<tr><td>178</td><td>1</td></tr>\n",
       "\t<tr><td>183</td><td>1</td></tr>\n",
       "\t<tr><td>186</td><td>1</td></tr>\n",
       "\t<tr><td>285</td><td>1</td></tr>\n",
       "\t<tr><td>290</td><td>1</td></tr>\n",
       "\t<tr><td>298</td><td>1</td></tr>\n",
       "\t<tr><td>319</td><td>1</td></tr>\n",
       "\t<tr><td>328</td><td>1</td></tr>\n",
       "\t<tr><td>333</td><td>1</td></tr>\n",
       "\t<tr><td>352</td><td>1</td></tr>\n",
       "\t<tr><td>356</td><td>1</td></tr>\n",
       "\t<tr><td>440</td><td>1</td></tr>\n",
       "\t<tr><td>485</td><td>1</td></tr>\n",
       "\t<tr><td>591</td><td>1</td></tr>\n",
       "\t<tr><td>607</td><td>1</td></tr>\n",
       "\t<tr><td>611</td><td>1</td></tr>\n",
       "\t<tr><td>673</td><td>1</td></tr>\n",
       "\t<tr><td>721</td><td>1</td></tr>\n",
       "\t<tr><td>757</td><td>1</td></tr>\n",
       "\t<tr><td>758</td><td>1</td></tr>\n",
       "\t<tr><td>792</td><td>1</td></tr>\n",
       "\t<tr><td>851</td><td>1</td></tr>\n",
       "\t<tr><td>858</td><td>1</td></tr>\n",
       "\t<tr><td>871</td><td>1</td></tr>\n",
       "\t<tr><td>890</td><td>1</td></tr>\n",
       "\t<tr><td>948</td><td>1</td></tr>\n",
       "\t<tr><td>959</td><td>1</td></tr>\n",
       "\t<tr><td>993</td><td>1</td></tr>\n",
       "</tbody>\n",
       "</table>\n"
      ],
      "text/latex": [
       "A tibble: 59 × 2\n",
       "\\begin{tabular}{ll}\n",
       " best\\_w & m\\\\\n",
       " <int> & <int>\\\\\n",
       "\\hline\n",
       "\t 269 & 4\\\\\n",
       "\t 299 & 4\\\\\n",
       "\t 669 & 4\\\\\n",
       "\t 729 & 4\\\\\n",
       "\t 425 & 3\\\\\n",
       "\t 519 & 3\\\\\n",
       "\t 526 & 3\\\\\n",
       "\t 540 & 3\\\\\n",
       "\t 699 & 3\\\\\n",
       "\t 872 & 3\\\\\n",
       "\t  17 & 2\\\\\n",
       "\t 112 & 2\\\\\n",
       "\t 156 & 2\\\\\n",
       "\t 353 & 2\\\\\n",
       "\t 406 & 2\\\\\n",
       "\t 429 & 2\\\\\n",
       "\t 436 & 2\\\\\n",
       "\t 456 & 2\\\\\n",
       "\t 527 & 2\\\\\n",
       "\t 574 & 2\\\\\n",
       "\t 603 & 2\\\\\n",
       "\t 718 & 2\\\\\n",
       "\t 740 & 2\\\\\n",
       "\t 790 & 2\\\\\n",
       "\t 936 & 2\\\\\n",
       "\t 980 & 2\\\\\n",
       "\t 983 & 2\\\\\n",
       "\t  32 & 1\\\\\n",
       "\t  90 & 1\\\\\n",
       "\t 111 & 1\\\\\n",
       "\t 169 & 1\\\\\n",
       "\t 178 & 1\\\\\n",
       "\t 183 & 1\\\\\n",
       "\t 186 & 1\\\\\n",
       "\t 285 & 1\\\\\n",
       "\t 290 & 1\\\\\n",
       "\t 298 & 1\\\\\n",
       "\t 319 & 1\\\\\n",
       "\t 328 & 1\\\\\n",
       "\t 333 & 1\\\\\n",
       "\t 352 & 1\\\\\n",
       "\t 356 & 1\\\\\n",
       "\t 440 & 1\\\\\n",
       "\t 485 & 1\\\\\n",
       "\t 591 & 1\\\\\n",
       "\t 607 & 1\\\\\n",
       "\t 611 & 1\\\\\n",
       "\t 673 & 1\\\\\n",
       "\t 721 & 1\\\\\n",
       "\t 757 & 1\\\\\n",
       "\t 758 & 1\\\\\n",
       "\t 792 & 1\\\\\n",
       "\t 851 & 1\\\\\n",
       "\t 858 & 1\\\\\n",
       "\t 871 & 1\\\\\n",
       "\t 890 & 1\\\\\n",
       "\t 948 & 1\\\\\n",
       "\t 959 & 1\\\\\n",
       "\t 993 & 1\\\\\n",
       "\\end{tabular}\n"
      ],
      "text/markdown": [
       "\n",
       "A tibble: 59 × 2\n",
       "\n",
       "| best_w &lt;int&gt; | m &lt;int&gt; |\n",
       "|---|---|\n",
       "| 269 | 4 |\n",
       "| 299 | 4 |\n",
       "| 669 | 4 |\n",
       "| 729 | 4 |\n",
       "| 425 | 3 |\n",
       "| 519 | 3 |\n",
       "| 526 | 3 |\n",
       "| 540 | 3 |\n",
       "| 699 | 3 |\n",
       "| 872 | 3 |\n",
       "|  17 | 2 |\n",
       "| 112 | 2 |\n",
       "| 156 | 2 |\n",
       "| 353 | 2 |\n",
       "| 406 | 2 |\n",
       "| 429 | 2 |\n",
       "| 436 | 2 |\n",
       "| 456 | 2 |\n",
       "| 527 | 2 |\n",
       "| 574 | 2 |\n",
       "| 603 | 2 |\n",
       "| 718 | 2 |\n",
       "| 740 | 2 |\n",
       "| 790 | 2 |\n",
       "| 936 | 2 |\n",
       "| 980 | 2 |\n",
       "| 983 | 2 |\n",
       "|  32 | 1 |\n",
       "|  90 | 1 |\n",
       "| 111 | 1 |\n",
       "| 169 | 1 |\n",
       "| 178 | 1 |\n",
       "| 183 | 1 |\n",
       "| 186 | 1 |\n",
       "| 285 | 1 |\n",
       "| 290 | 1 |\n",
       "| 298 | 1 |\n",
       "| 319 | 1 |\n",
       "| 328 | 1 |\n",
       "| 333 | 1 |\n",
       "| 352 | 1 |\n",
       "| 356 | 1 |\n",
       "| 440 | 1 |\n",
       "| 485 | 1 |\n",
       "| 591 | 1 |\n",
       "| 607 | 1 |\n",
       "| 611 | 1 |\n",
       "| 673 | 1 |\n",
       "| 721 | 1 |\n",
       "| 757 | 1 |\n",
       "| 758 | 1 |\n",
       "| 792 | 1 |\n",
       "| 851 | 1 |\n",
       "| 858 | 1 |\n",
       "| 871 | 1 |\n",
       "| 890 | 1 |\n",
       "| 948 | 1 |\n",
       "| 959 | 1 |\n",
       "| 993 | 1 |\n",
       "\n"
      ],
      "text/plain": [
       "   best_w m\n",
       "1  269    4\n",
       "2  299    4\n",
       "3  669    4\n",
       "4  729    4\n",
       "5  425    3\n",
       "6  519    3\n",
       "7  526    3\n",
       "8  540    3\n",
       "9  699    3\n",
       "10 872    3\n",
       "11  17    2\n",
       "12 112    2\n",
       "13 156    2\n",
       "14 353    2\n",
       "15 406    2\n",
       "16 429    2\n",
       "17 436    2\n",
       "18 456    2\n",
       "19 527    2\n",
       "20 574    2\n",
       "21 603    2\n",
       "22 718    2\n",
       "23 740    2\n",
       "24 790    2\n",
       "25 936    2\n",
       "26 980    2\n",
       "27 983    2\n",
       "28  32    1\n",
       "29  90    1\n",
       "30 111    1\n",
       "31 169    1\n",
       "32 178    1\n",
       "33 183    1\n",
       "34 186    1\n",
       "35 285    1\n",
       "36 290    1\n",
       "37 298    1\n",
       "38 319    1\n",
       "39 328    1\n",
       "40 333    1\n",
       "41 352    1\n",
       "42 356    1\n",
       "43 440    1\n",
       "44 485    1\n",
       "45 591    1\n",
       "46 607    1\n",
       "47 611    1\n",
       "48 673    1\n",
       "49 721    1\n",
       "50 757    1\n",
       "51 758    1\n",
       "52 792    1\n",
       "53 851    1\n",
       "54 858    1\n",
       "55 871    1\n",
       "56 890    1\n",
       "57 948    1\n",
       "58 959    1\n",
       "59 993    1"
      ]
     },
     "metadata": {},
     "output_type": "display_data"
    }
   ],
   "source": [
    "r1 |> group_by(best_w) |> summarize(m = n())  |> arrange(desc(m))"
   ]
  },
  {
   "cell_type": "code",
   "execution_count": 16,
   "id": "d8aa3de4-d78f-4c46-8481-fc5921fd836c",
   "metadata": {},
   "outputs": [],
   "source": [
    "ac <- apply(eval_scores(select_bcp(bcp, 1:3), W = W, score = \"acc\")$scores, 2, mean)"
   ]
  },
  {
   "cell_type": "code",
   "execution_count": 17,
   "id": "55b2f9db-b681-467a-ac9e-82135d05f494",
   "metadata": {},
   "outputs": [
    {
     "data": {
      "text/html": [
       "0.877314814814815"
      ],
      "text/latex": [
       "0.877314814814815"
      ],
      "text/markdown": [
       "0.877314814814815"
      ],
      "text/plain": [
       "[1] 0.8773148"
      ]
     },
     "metadata": {},
     "output_type": "display_data"
    }
   ],
   "source": [
    "max(ac)"
   ]
  },
  {
   "cell_type": "code",
   "execution_count": 18,
   "id": "63390ffc-0e78-4b6a-b5c6-d141958c247e",
   "metadata": {},
   "outputs": [
    {
     "data": {
      "text/html": [
       "<style>\n",
       ".list-inline {list-style: none; margin:0; padding: 0}\n",
       ".list-inline>li {display: inline-block}\n",
       ".list-inline>li:not(:last-child)::after {content: \"\\00b7\"; padding: 0 .5ex}\n",
       "</style>\n",
       "<ol class=list-inline><li>0.875</li><li>0.851851851851852</li><li>0.875</li><li>0.775462962962963</li><li>0.775462962962963</li><li>0.777777777777778</li><li>0.775462962962963</li></ol>\n"
      ],
      "text/latex": [
       "\\begin{enumerate*}\n",
       "\\item 0.875\n",
       "\\item 0.851851851851852\n",
       "\\item 0.875\n",
       "\\item 0.775462962962963\n",
       "\\item 0.775462962962963\n",
       "\\item 0.777777777777778\n",
       "\\item 0.775462962962963\n",
       "\\end{enumerate*}\n"
      ],
      "text/markdown": [
       "1. 0.875\n",
       "2. 0.851851851851852\n",
       "3. 0.875\n",
       "4. 0.775462962962963\n",
       "5. 0.775462962962963\n",
       "6. 0.777777777777778\n",
       "7. 0.775462962962963\n",
       "\n",
       "\n"
      ],
      "text/plain": [
       "[1] 0.8750000 0.8518519 0.8750000 0.7754630 0.7754630 0.7777778 0.7754630"
      ]
     },
     "metadata": {},
     "output_type": "display_data"
    }
   ],
   "source": [
    "ac[c(810, 902, 897, 625, 373, 72, 123)]"
   ]
  },
  {
   "cell_type": "code",
   "execution_count": 19,
   "id": "ab197455-91c7-443a-a0b4-98d5d1bd66e4",
   "metadata": {},
   "outputs": [
    {
     "data": {
      "text/html": [
       "17"
      ],
      "text/latex": [
       "17"
      ],
      "text/markdown": [
       "17"
      ],
      "text/plain": [
       "[1] 17"
      ]
     },
     "metadata": {},
     "output_type": "display_data"
    }
   ],
   "source": [
    "which.max(ac)"
   ]
  },
  {
   "cell_type": "code",
   "execution_count": 20,
   "id": "8478bb51-5e8f-4de9-83fd-952eab3ba784",
   "metadata": {},
   "outputs": [
    {
     "data": {
      "text/html": [
       "<style>\n",
       ".list-inline {list-style: none; margin:0; padding: 0}\n",
       ".list-inline>li {display: inline-block}\n",
       ".list-inline>li:not(:last-child)::after {content: \"\\00b7\"; padding: 0 .5ex}\n",
       "</style>\n",
       "<ol class=list-inline><li>0.06</li><li>0.49</li><li>0.45</li></ol>\n"
      ],
      "text/latex": [
       "\\begin{enumerate*}\n",
       "\\item 0.06\n",
       "\\item 0.49\n",
       "\\item 0.45\n",
       "\\end{enumerate*}\n"
      ],
      "text/markdown": [
       "1. 0.06\n",
       "2. 0.49\n",
       "3. 0.45\n",
       "\n",
       "\n"
      ],
      "text/plain": [
       "[1] 0.06 0.49 0.45"
      ]
     },
     "metadata": {},
     "output_type": "display_data"
    }
   ],
   "source": [
    "W[810,]"
   ]
  },
  {
   "cell_type": "code",
   "execution_count": 21,
   "id": "803c8ce5-f1e0-4da1-a813-900eb80898b6",
   "metadata": {},
   "outputs": [
    {
     "data": {
      "text/html": [
       "<table class=\"dataframe\">\n",
       "<caption>A tibble: 66 × 2</caption>\n",
       "<thead>\n",
       "\t<tr><th scope=col>best_w</th><th scope=col>m</th></tr>\n",
       "\t<tr><th scope=col>&lt;int&gt;</th><th scope=col>&lt;int&gt;</th></tr>\n",
       "</thead>\n",
       "<tbody>\n",
       "\t<tr><td>538</td><td>14</td></tr>\n",
       "\t<tr><td>656</td><td>14</td></tr>\n",
       "\t<tr><td>  1</td><td> 6</td></tr>\n",
       "\t<tr><td>  2</td><td> 3</td></tr>\n",
       "\t<tr><td>599</td><td> 2</td></tr>\n",
       "\t<tr><td>  3</td><td> 1</td></tr>\n",
       "\t<tr><td>  4</td><td> 1</td></tr>\n",
       "\t<tr><td>  8</td><td> 1</td></tr>\n",
       "\t<tr><td> 12</td><td> 1</td></tr>\n",
       "\t<tr><td> 34</td><td> 1</td></tr>\n",
       "\t<tr><td> 51</td><td> 1</td></tr>\n",
       "\t<tr><td> 54</td><td> 1</td></tr>\n",
       "\t<tr><td> 58</td><td> 1</td></tr>\n",
       "\t<tr><td> 60</td><td> 1</td></tr>\n",
       "\t<tr><td> 70</td><td> 1</td></tr>\n",
       "\t<tr><td> 86</td><td> 1</td></tr>\n",
       "\t<tr><td> 90</td><td> 1</td></tr>\n",
       "\t<tr><td>113</td><td> 1</td></tr>\n",
       "\t<tr><td>117</td><td> 1</td></tr>\n",
       "\t<tr><td>122</td><td> 1</td></tr>\n",
       "\t<tr><td>127</td><td> 1</td></tr>\n",
       "\t<tr><td>189</td><td> 1</td></tr>\n",
       "\t<tr><td>205</td><td> 1</td></tr>\n",
       "\t<tr><td>206</td><td> 1</td></tr>\n",
       "\t<tr><td>230</td><td> 1</td></tr>\n",
       "\t<tr><td>244</td><td> 1</td></tr>\n",
       "\t<tr><td>269</td><td> 1</td></tr>\n",
       "\t<tr><td>272</td><td> 1</td></tr>\n",
       "\t<tr><td>284</td><td> 1</td></tr>\n",
       "\t<tr><td>287</td><td> 1</td></tr>\n",
       "\t<tr><td>⋮</td><td>⋮</td></tr>\n",
       "\t<tr><td>373</td><td>1</td></tr>\n",
       "\t<tr><td>403</td><td>1</td></tr>\n",
       "\t<tr><td>406</td><td>1</td></tr>\n",
       "\t<tr><td>409</td><td>1</td></tr>\n",
       "\t<tr><td>420</td><td>1</td></tr>\n",
       "\t<tr><td>431</td><td>1</td></tr>\n",
       "\t<tr><td>434</td><td>1</td></tr>\n",
       "\t<tr><td>444</td><td>1</td></tr>\n",
       "\t<tr><td>448</td><td>1</td></tr>\n",
       "\t<tr><td>464</td><td>1</td></tr>\n",
       "\t<tr><td>524</td><td>1</td></tr>\n",
       "\t<tr><td>525</td><td>1</td></tr>\n",
       "\t<tr><td>529</td><td>1</td></tr>\n",
       "\t<tr><td>545</td><td>1</td></tr>\n",
       "\t<tr><td>551</td><td>1</td></tr>\n",
       "\t<tr><td>553</td><td>1</td></tr>\n",
       "\t<tr><td>566</td><td>1</td></tr>\n",
       "\t<tr><td>579</td><td>1</td></tr>\n",
       "\t<tr><td>586</td><td>1</td></tr>\n",
       "\t<tr><td>588</td><td>1</td></tr>\n",
       "\t<tr><td>622</td><td>1</td></tr>\n",
       "\t<tr><td>629</td><td>1</td></tr>\n",
       "\t<tr><td>640</td><td>1</td></tr>\n",
       "\t<tr><td>650</td><td>1</td></tr>\n",
       "\t<tr><td>666</td><td>1</td></tr>\n",
       "\t<tr><td>679</td><td>1</td></tr>\n",
       "\t<tr><td>695</td><td>1</td></tr>\n",
       "\t<tr><td>704</td><td>1</td></tr>\n",
       "\t<tr><td>719</td><td>1</td></tr>\n",
       "\t<tr><td>756</td><td>1</td></tr>\n",
       "</tbody>\n",
       "</table>\n"
      ],
      "text/latex": [
       "A tibble: 66 × 2\n",
       "\\begin{tabular}{ll}\n",
       " best\\_w & m\\\\\n",
       " <int> & <int>\\\\\n",
       "\\hline\n",
       "\t 538 & 14\\\\\n",
       "\t 656 & 14\\\\\n",
       "\t   1 &  6\\\\\n",
       "\t   2 &  3\\\\\n",
       "\t 599 &  2\\\\\n",
       "\t   3 &  1\\\\\n",
       "\t   4 &  1\\\\\n",
       "\t   8 &  1\\\\\n",
       "\t  12 &  1\\\\\n",
       "\t  34 &  1\\\\\n",
       "\t  51 &  1\\\\\n",
       "\t  54 &  1\\\\\n",
       "\t  58 &  1\\\\\n",
       "\t  60 &  1\\\\\n",
       "\t  70 &  1\\\\\n",
       "\t  86 &  1\\\\\n",
       "\t  90 &  1\\\\\n",
       "\t 113 &  1\\\\\n",
       "\t 117 &  1\\\\\n",
       "\t 122 &  1\\\\\n",
       "\t 127 &  1\\\\\n",
       "\t 189 &  1\\\\\n",
       "\t 205 &  1\\\\\n",
       "\t 206 &  1\\\\\n",
       "\t 230 &  1\\\\\n",
       "\t 244 &  1\\\\\n",
       "\t 269 &  1\\\\\n",
       "\t 272 &  1\\\\\n",
       "\t 284 &  1\\\\\n",
       "\t 287 &  1\\\\\n",
       "\t ⋮ & ⋮\\\\\n",
       "\t 373 & 1\\\\\n",
       "\t 403 & 1\\\\\n",
       "\t 406 & 1\\\\\n",
       "\t 409 & 1\\\\\n",
       "\t 420 & 1\\\\\n",
       "\t 431 & 1\\\\\n",
       "\t 434 & 1\\\\\n",
       "\t 444 & 1\\\\\n",
       "\t 448 & 1\\\\\n",
       "\t 464 & 1\\\\\n",
       "\t 524 & 1\\\\\n",
       "\t 525 & 1\\\\\n",
       "\t 529 & 1\\\\\n",
       "\t 545 & 1\\\\\n",
       "\t 551 & 1\\\\\n",
       "\t 553 & 1\\\\\n",
       "\t 566 & 1\\\\\n",
       "\t 579 & 1\\\\\n",
       "\t 586 & 1\\\\\n",
       "\t 588 & 1\\\\\n",
       "\t 622 & 1\\\\\n",
       "\t 629 & 1\\\\\n",
       "\t 640 & 1\\\\\n",
       "\t 650 & 1\\\\\n",
       "\t 666 & 1\\\\\n",
       "\t 679 & 1\\\\\n",
       "\t 695 & 1\\\\\n",
       "\t 704 & 1\\\\\n",
       "\t 719 & 1\\\\\n",
       "\t 756 & 1\\\\\n",
       "\\end{tabular}\n"
      ],
      "text/markdown": [
       "\n",
       "A tibble: 66 × 2\n",
       "\n",
       "| best_w &lt;int&gt; | m &lt;int&gt; |\n",
       "|---|---|\n",
       "| 538 | 14 |\n",
       "| 656 | 14 |\n",
       "|   1 |  6 |\n",
       "|   2 |  3 |\n",
       "| 599 |  2 |\n",
       "|   3 |  1 |\n",
       "|   4 |  1 |\n",
       "|   8 |  1 |\n",
       "|  12 |  1 |\n",
       "|  34 |  1 |\n",
       "|  51 |  1 |\n",
       "|  54 |  1 |\n",
       "|  58 |  1 |\n",
       "|  60 |  1 |\n",
       "|  70 |  1 |\n",
       "|  86 |  1 |\n",
       "|  90 |  1 |\n",
       "| 113 |  1 |\n",
       "| 117 |  1 |\n",
       "| 122 |  1 |\n",
       "| 127 |  1 |\n",
       "| 189 |  1 |\n",
       "| 205 |  1 |\n",
       "| 206 |  1 |\n",
       "| 230 |  1 |\n",
       "| 244 |  1 |\n",
       "| 269 |  1 |\n",
       "| 272 |  1 |\n",
       "| 284 |  1 |\n",
       "| 287 |  1 |\n",
       "| ⋮ | ⋮ |\n",
       "| 373 | 1 |\n",
       "| 403 | 1 |\n",
       "| 406 | 1 |\n",
       "| 409 | 1 |\n",
       "| 420 | 1 |\n",
       "| 431 | 1 |\n",
       "| 434 | 1 |\n",
       "| 444 | 1 |\n",
       "| 448 | 1 |\n",
       "| 464 | 1 |\n",
       "| 524 | 1 |\n",
       "| 525 | 1 |\n",
       "| 529 | 1 |\n",
       "| 545 | 1 |\n",
       "| 551 | 1 |\n",
       "| 553 | 1 |\n",
       "| 566 | 1 |\n",
       "| 579 | 1 |\n",
       "| 586 | 1 |\n",
       "| 588 | 1 |\n",
       "| 622 | 1 |\n",
       "| 629 | 1 |\n",
       "| 640 | 1 |\n",
       "| 650 | 1 |\n",
       "| 666 | 1 |\n",
       "| 679 | 1 |\n",
       "| 695 | 1 |\n",
       "| 704 | 1 |\n",
       "| 719 | 1 |\n",
       "| 756 | 1 |\n",
       "\n"
      ],
      "text/plain": [
       "   best_w m \n",
       "1  538    14\n",
       "2  656    14\n",
       "3    1     6\n",
       "4    2     3\n",
       "5  599     2\n",
       "6    3     1\n",
       "7    4     1\n",
       "8    8     1\n",
       "9   12     1\n",
       "10  34     1\n",
       "11  51     1\n",
       "12  54     1\n",
       "13  58     1\n",
       "14  60     1\n",
       "15  70     1\n",
       "16  86     1\n",
       "17  90     1\n",
       "18 113     1\n",
       "19 117     1\n",
       "20 122     1\n",
       "21 127     1\n",
       "22 189     1\n",
       "23 205     1\n",
       "24 206     1\n",
       "25 230     1\n",
       "26 244     1\n",
       "27 269     1\n",
       "28 272     1\n",
       "29 284     1\n",
       "30 287     1\n",
       "⋮  ⋮      ⋮ \n",
       "37 373    1 \n",
       "38 403    1 \n",
       "39 406    1 \n",
       "40 409    1 \n",
       "41 420    1 \n",
       "42 431    1 \n",
       "43 434    1 \n",
       "44 444    1 \n",
       "45 448    1 \n",
       "46 464    1 \n",
       "47 524    1 \n",
       "48 525    1 \n",
       "49 529    1 \n",
       "50 545    1 \n",
       "51 551    1 \n",
       "52 553    1 \n",
       "53 566    1 \n",
       "54 579    1 \n",
       "55 586    1 \n",
       "56 588    1 \n",
       "57 622    1 \n",
       "58 629    1 \n",
       "59 640    1 \n",
       "60 650    1 \n",
       "61 666    1 \n",
       "62 679    1 \n",
       "63 695    1 \n",
       "64 704    1 \n",
       "65 719    1 \n",
       "66 756    1 "
      ]
     },
     "metadata": {},
     "output_type": "display_data"
    }
   ],
   "source": [
    "r3 |> group_by(best_w) |> summarize(m = n())  |> arrange(desc(m))"
   ]
  },
  {
   "cell_type": "code",
   "execution_count": 22,
   "id": "5072b0ec-5739-408e-b543-97ddb524b5d1",
   "metadata": {},
   "outputs": [
    {
     "data": {
      "text/html": [
       "<style>\n",
       ".list-inline {list-style: none; margin:0; padding: 0}\n",
       ".list-inline>li {display: inline-block}\n",
       ".list-inline>li:not(:last-child)::after {content: \"\\00b7\"; padding: 0 .5ex}\n",
       "</style>\n",
       "<ol class=list-inline><li>0.877314814814815</li><li>0.777777777777778</li><li>0.673611111111111</li><li>0.877314814814815</li><li>0.775462962962963</li><li>0.775462962962963</li><li>0.875</li></ol>\n"
      ],
      "text/latex": [
       "\\begin{enumerate*}\n",
       "\\item 0.877314814814815\n",
       "\\item 0.777777777777778\n",
       "\\item 0.673611111111111\n",
       "\\item 0.877314814814815\n",
       "\\item 0.775462962962963\n",
       "\\item 0.775462962962963\n",
       "\\item 0.875\n",
       "\\end{enumerate*}\n"
      ],
      "text/markdown": [
       "1. 0.877314814814815\n",
       "2. 0.777777777777778\n",
       "3. 0.673611111111111\n",
       "4. 0.877314814814815\n",
       "5. 0.775462962962963\n",
       "6. 0.775462962962963\n",
       "7. 0.875\n",
       "\n",
       "\n"
      ],
      "text/plain": [
       "[1] 0.8773148 0.7777778 0.6736111 0.8773148 0.7754630 0.7754630 0.8750000"
      ]
     },
     "metadata": {},
     "output_type": "display_data"
    }
   ],
   "source": [
    "ac[c(112,960,585, 353,58,7,8)]"
   ]
  },
  {
   "cell_type": "markdown",
   "id": "9ecae8a3-a6bf-4ff1-aeb9-5e67dad276cb",
   "metadata": {},
   "source": [
    "### Crossvalidation of best ensemble (1,2,4)"
   ]
  },
  {
   "cell_type": "code",
   "execution_count": 23,
   "id": "302a95e2-4e48-49a0-8328-1e10e6cea1a5",
   "metadata": {},
   "outputs": [
    {
     "name": "stdout",
     "output_type": "stream",
     "text": [
      "[1]  432 1000\n"
     ]
    },
    {
     "data": {
      "text/html": [
       "<table class=\"dataframe\">\n",
       "<caption>A tibble: 1 × 1</caption>\n",
       "<thead>\n",
       "\t<tr><th scope=col>mean(m)</th></tr>\n",
       "\t<tr><th scope=col>&lt;dbl&gt;</th></tr>\n",
       "</thead>\n",
       "<tbody>\n",
       "\t<tr><td>372.4</td></tr>\n",
       "</tbody>\n",
       "</table>\n"
      ],
      "text/latex": [
       "A tibble: 1 × 1\n",
       "\\begin{tabular}{l}\n",
       " mean(m)\\\\\n",
       " <dbl>\\\\\n",
       "\\hline\n",
       "\t 372.4\\\\\n",
       "\\end{tabular}\n"
      ],
      "text/markdown": [
       "\n",
       "A tibble: 1 × 1\n",
       "\n",
       "| mean(m) &lt;dbl&gt; |\n",
       "|---|\n",
       "| 372.4 |\n",
       "\n"
      ],
      "text/plain": [
       "  mean(m)\n",
       "1 372.4  "
      ]
     },
     "metadata": {},
     "output_type": "display_data"
    }
   ],
   "source": [
    "r4 <- cv_stack(bcp = select_bcp(bcp, c(1,2,4)), W = W, score = \"acc\")\n",
    "r4 |> group_by(rep) |> summarize(m = sum(correct2)) |> summarize(mean(m))"
   ]
  },
  {
   "cell_type": "markdown",
   "id": "abe1be14-f8d5-4d56-97ea-4a018d3c68b2",
   "metadata": {},
   "source": [
    "### Crossvalidation of best ensemble (1,3,4)"
   ]
  },
  {
   "cell_type": "code",
   "execution_count": 24,
   "id": "1195d886-4279-4fb4-b315-2df6179a4c8d",
   "metadata": {},
   "outputs": [
    {
     "name": "stdout",
     "output_type": "stream",
     "text": [
      "[1]  432 1000\n"
     ]
    },
    {
     "data": {
      "text/html": [
       "<table class=\"dataframe\">\n",
       "<caption>A tibble: 1 × 1</caption>\n",
       "<thead>\n",
       "\t<tr><th scope=col>mean(m)</th></tr>\n",
       "\t<tr><th scope=col>&lt;dbl&gt;</th></tr>\n",
       "</thead>\n",
       "<tbody>\n",
       "\t<tr><td>387</td></tr>\n",
       "</tbody>\n",
       "</table>\n"
      ],
      "text/latex": [
       "A tibble: 1 × 1\n",
       "\\begin{tabular}{l}\n",
       " mean(m)\\\\\n",
       " <dbl>\\\\\n",
       "\\hline\n",
       "\t 387\\\\\n",
       "\\end{tabular}\n"
      ],
      "text/markdown": [
       "\n",
       "A tibble: 1 × 1\n",
       "\n",
       "| mean(m) &lt;dbl&gt; |\n",
       "|---|\n",
       "| 387 |\n",
       "\n"
      ],
      "text/plain": [
       "  mean(m)\n",
       "1 387    "
      ]
     },
     "metadata": {},
     "output_type": "display_data"
    }
   ],
   "source": [
    "r5 <- cv_stack(bcp = select_bcp(bcp, c(1,3,4)), W = W, score = \"acc\")\n",
    "r5 |> group_by(rep) |> summarize(m = sum(correct2)) |> summarize(mean(m))"
   ]
  },
  {
   "cell_type": "code",
   "execution_count": 25,
   "id": "4b0b25df-1518-4d25-9653-ad741dd8451b",
   "metadata": {},
   "outputs": [
    {
     "name": "stdout",
     "output_type": "stream",
     "text": [
      "[1]  432 1000\n"
     ]
    },
    {
     "data": {
      "text/html": [
       "<table class=\"dataframe\">\n",
       "<caption>A tibble: 1 × 1</caption>\n",
       "<thead>\n",
       "\t<tr><th scope=col>mean(m)</th></tr>\n",
       "\t<tr><th scope=col>&lt;dbl&gt;</th></tr>\n",
       "</thead>\n",
       "<tbody>\n",
       "\t<tr><td>387.1</td></tr>\n",
       "</tbody>\n",
       "</table>\n"
      ],
      "text/latex": [
       "A tibble: 1 × 1\n",
       "\\begin{tabular}{l}\n",
       " mean(m)\\\\\n",
       " <dbl>\\\\\n",
       "\\hline\n",
       "\t 387.1\\\\\n",
       "\\end{tabular}\n"
      ],
      "text/markdown": [
       "\n",
       "A tibble: 1 × 1\n",
       "\n",
       "| mean(m) &lt;dbl&gt; |\n",
       "|---|\n",
       "| 387.1 |\n",
       "\n"
      ],
      "text/plain": [
       "  mean(m)\n",
       "1 387.1  "
      ]
     },
     "metadata": {},
     "output_type": "display_data"
    }
   ],
   "source": [
    "r6 <- cv_stack(bcp = select_bcp(bcp, c(1,3,4)), W = W, score = \"acc\")\n",
    "r6 |> group_by(rep) |> summarize(m = sum(correct2)) |> summarize(mean(m))"
   ]
  },
  {
   "cell_type": "markdown",
   "id": "905eea85-9d19-41f6-8e9d-6b0037c01b14",
   "metadata": {},
   "source": [
    "### Crossvalidation of best ensemble (2,3,4)"
   ]
  },
  {
   "cell_type": "code",
   "execution_count": 26,
   "id": "e2a4a906-4931-4091-a1ca-8fac4ba5d096",
   "metadata": {},
   "outputs": [
    {
     "name": "stdout",
     "output_type": "stream",
     "text": [
      "[1]  432 1000\n"
     ]
    },
    {
     "data": {
      "text/html": [
       "<table class=\"dataframe\">\n",
       "<caption>A tibble: 1 × 1</caption>\n",
       "<thead>\n",
       "\t<tr><th scope=col>mean(m)</th></tr>\n",
       "\t<tr><th scope=col>&lt;dbl&gt;</th></tr>\n",
       "</thead>\n",
       "<tbody>\n",
       "\t<tr><td>430</td></tr>\n",
       "</tbody>\n",
       "</table>\n"
      ],
      "text/latex": [
       "A tibble: 1 × 1\n",
       "\\begin{tabular}{l}\n",
       " mean(m)\\\\\n",
       " <dbl>\\\\\n",
       "\\hline\n",
       "\t 430\\\\\n",
       "\\end{tabular}\n"
      ],
      "text/markdown": [
       "\n",
       "A tibble: 1 × 1\n",
       "\n",
       "| mean(m) &lt;dbl&gt; |\n",
       "|---|\n",
       "| 430 |\n",
       "\n"
      ],
      "text/plain": [
       "  mean(m)\n",
       "1 430    "
      ]
     },
     "metadata": {},
     "output_type": "display_data"
    }
   ],
   "source": [
    "r7 <- cv_stack(bcp = select_bcp(bcp, c(2,3,4)), W = W, score = \"acc\")\n",
    "r7 |> group_by(rep) |> summarize(m = sum(correct2)) |> summarize(mean(m))"
   ]
  },
  {
   "cell_type": "markdown",
   "id": "fa9a5d07-5927-47da-baa1-1c7b32b75941",
   "metadata": {},
   "source": [
    "### Crossvalidation of best ensemble (1,2)"
   ]
  },
  {
   "cell_type": "code",
   "execution_count": 27,
   "id": "536960fa-1e29-4d2f-881e-7e830006b0f0",
   "metadata": {},
   "outputs": [],
   "source": [
    "W1 <- matrix(seq(0,1, length.out = 51), ncol = 2, nrow = 51, byrow=F)\n",
    "W1[,2] = 1 - W1[,1]"
   ]
  },
  {
   "cell_type": "code",
   "execution_count": 28,
   "id": "70974fe2-8343-491d-bf8c-317294042954",
   "metadata": {},
   "outputs": [
    {
     "name": "stdout",
     "output_type": "stream",
     "text": [
      "[1] 432  51\n"
     ]
    }
   ],
   "source": [
    "r8 <- cv_stack(bcp = select_bcp(bcp, 1:2), W = W1, score = \"acc\")"
   ]
  },
  {
   "cell_type": "code",
   "execution_count": 29,
   "id": "d3cb7b6a-bc36-4fad-93a1-4744784ba85f",
   "metadata": {},
   "outputs": [
    {
     "name": "stdout",
     "output_type": "stream",
     "text": [
      "\u001b[90m# A tibble: 26 × 2\u001b[39m\n",
      "  best_w     m\n",
      "   \u001b[3m\u001b[90m<int>\u001b[39m\u001b[23m \u001b[3m\u001b[90m<int>\u001b[39m\u001b[23m\n",
      "\u001b[90m1\u001b[39m      6     8\n",
      "\u001b[90m2\u001b[39m     26     8\n",
      "\u001b[90m3\u001b[39m      5     7\n",
      "\u001b[90m4\u001b[39m     20     7\n",
      "\u001b[90m5\u001b[39m      9     5\n",
      "\u001b[90m# ℹ 21 more rows\u001b[39m\n"
     ]
    }
   ],
   "source": [
    "r8 |> group_by(best_w) |> summarize(m=n()) |> arrange(desc(m)) |> print(n = 5)"
   ]
  },
  {
   "cell_type": "code",
   "execution_count": 30,
   "id": "f7986dfe-5004-4597-af12-1cd7ab6c7119",
   "metadata": {},
   "outputs": [
    {
     "name": "stdout",
     "output_type": "stream",
     "text": [
      "[1] 432  51\n",
      "\u001b[90m# A tibble: 14 × 2\u001b[39m\n",
      "  best_w     m\n",
      "   \u001b[3m\u001b[90m<int>\u001b[39m\u001b[23m \u001b[3m\u001b[90m<int>\u001b[39m\u001b[23m\n",
      "\u001b[90m1\u001b[39m      5    14\n",
      "\u001b[90m2\u001b[39m      1    10\n",
      "\u001b[90m3\u001b[39m      2    10\n",
      "\u001b[90m4\u001b[39m      4    10\n",
      "\u001b[90m5\u001b[39m      9     8\n",
      "\u001b[90m# ℹ 9 more rows\u001b[39m\n"
     ]
    }
   ],
   "source": [
    "r9 <- cv_stack(bcp = select_bcp(bcp, 1:2), W = W1, score = \"brier\")\n",
    "r9 |> group_by(best_w) |> summarize(m=n()) |> arrange(desc(m)) |> print(n = 5)"
   ]
  },
  {
   "cell_type": "code",
   "execution_count": 31,
   "id": "5cd359c2-e527-4349-962f-a67051525bed",
   "metadata": {},
   "outputs": [
    {
     "name": "stdout",
     "output_type": "stream",
     "text": [
      "[1] 432  51\n",
      "\u001b[90m# A tibble: 30 × 2\u001b[39m\n",
      "  best_w     m\n",
      "   \u001b[3m\u001b[90m<int>\u001b[39m\u001b[23m \u001b[3m\u001b[90m<int>\u001b[39m\u001b[23m\n",
      "\u001b[90m1\u001b[39m      1     6\n",
      "\u001b[90m2\u001b[39m      7     6\n",
      "\u001b[90m3\u001b[39m     28     6\n",
      "\u001b[90m4\u001b[39m      2     5\n",
      "\u001b[90m5\u001b[39m     12     5\n",
      "\u001b[90m# ℹ 25 more rows\u001b[39m\n"
     ]
    }
   ],
   "source": [
    "r10 <- cv_stack(bcp = select_bcp(bcp, 1:2), W = W1, score = \"log\")\n",
    "r10 |> group_by(best_w) |> summarize(m=n()) |> arrange(desc(m)) |> print(n = 5)"
   ]
  },
  {
   "cell_type": "code",
   "execution_count": 32,
   "id": "d9466b8c-5b3b-446d-a5b7-826fda114854",
   "metadata": {},
   "outputs": [],
   "source": [
    "ac1 <- apply(eval_scores(select_bcp(bcp, 1:2), W = W1, score = \"acc\")$scores, 2, mean)"
   ]
  },
  {
   "cell_type": "code",
   "execution_count": 33,
   "id": "98130078-990e-45d1-b93c-047ad845fa2d",
   "metadata": {},
   "outputs": [
    {
     "data": {
      "text/html": [
       "26"
      ],
      "text/latex": [
       "26"
      ],
      "text/markdown": [
       "26"
      ],
      "text/plain": [
       "[1] 26"
      ]
     },
     "metadata": {},
     "output_type": "display_data"
    },
    {
     "data": {
      "text/html": [
       "0.863425925925926"
      ],
      "text/latex": [
       "0.863425925925926"
      ],
      "text/markdown": [
       "0.863425925925926"
      ],
      "text/plain": [
       "[1] 0.8634259"
      ]
     },
     "metadata": {},
     "output_type": "display_data"
    },
    {
     "data": {
      "text/html": [
       "0.775462962962963"
      ],
      "text/latex": [
       "0.775462962962963"
      ],
      "text/markdown": [
       "0.775462962962963"
      ],
      "text/plain": [
       "[1] 0.775463"
      ]
     },
     "metadata": {},
     "output_type": "display_data"
    },
    {
     "data": {
      "text/html": [
       "30"
      ],
      "text/latex": [
       "30"
      ],
      "text/markdown": [
       "30"
      ],
      "text/plain": [
       "[1] 30"
      ]
     },
     "metadata": {},
     "output_type": "display_data"
    },
    {
     "data": {
      "text/html": [
       "<style>\n",
       ".list-inline {list-style: none; margin:0; padding: 0}\n",
       ".list-inline>li {display: inline-block}\n",
       ".list-inline>li:not(:last-child)::after {content: \"\\00b7\"; padding: 0 .5ex}\n",
       "</style>\n",
       "<ol class=list-inline><li>0</li><li>1</li></ol>\n"
      ],
      "text/latex": [
       "\\begin{enumerate*}\n",
       "\\item 0\n",
       "\\item 1\n",
       "\\end{enumerate*}\n"
      ],
      "text/markdown": [
       "1. 0\n",
       "2. 1\n",
       "\n",
       "\n"
      ],
      "text/plain": [
       "[1] 0 1"
      ]
     },
     "metadata": {},
     "output_type": "display_data"
    }
   ],
   "source": [
    "which.max(ac1)\n",
    "max(ac1)\n",
    "min(ac1)\n",
    "which.min(ac1)\n",
    "W1[1,]"
   ]
  },
  {
   "cell_type": "code",
   "execution_count": 34,
   "id": "533752f7-34bd-44da-9499-f54a6c5f0a92",
   "metadata": {},
   "outputs": [
    {
     "data": {
      "text/html": [
       "<style>\n",
       ".list-inline {list-style: none; margin:0; padding: 0}\n",
       ".list-inline>li {display: inline-block}\n",
       ".list-inline>li:not(:last-child)::after {content: \"\\00b7\"; padding: 0 .5ex}\n",
       "</style>\n",
       "<ol class=list-inline><li>0.849537037037037</li><li>0.775462962962963</li><li>0.851851851851852</li><li>0.777777777777778</li><li>0.775462962962963</li></ol>\n"
      ],
      "text/latex": [
       "\\begin{enumerate*}\n",
       "\\item 0.849537037037037\n",
       "\\item 0.775462962962963\n",
       "\\item 0.851851851851852\n",
       "\\item 0.777777777777778\n",
       "\\item 0.775462962962963\n",
       "\\end{enumerate*}\n"
      ],
      "text/markdown": [
       "1. 0.849537037037037\n",
       "2. 0.775462962962963\n",
       "3. 0.851851851851852\n",
       "4. 0.777777777777778\n",
       "5. 0.775462962962963\n",
       "\n",
       "\n"
      ],
      "text/plain": [
       "[1] 0.8495370 0.7754630 0.8518519 0.7777778 0.7754630"
      ]
     },
     "metadata": {},
     "output_type": "display_data"
    }
   ],
   "source": [
    "ac1[c(13,46,19,27,33)]"
   ]
  },
  {
   "cell_type": "code",
   "execution_count": 35,
   "id": "41269f33-272c-481c-933a-72b7ede7a6a1",
   "metadata": {},
   "outputs": [
    {
     "data": {
      "text/html": [
       "<table class=\"dataframe\">\n",
       "<caption>A matrix: 3 × 2 of type dbl</caption>\n",
       "<tbody>\n",
       "\t<tr><td>0.42</td><td>0.58</td></tr>\n",
       "\t<tr><td>0.46</td><td>0.54</td></tr>\n",
       "\t<tr><td>0.60</td><td>0.40</td></tr>\n",
       "</tbody>\n",
       "</table>\n"
      ],
      "text/latex": [
       "A matrix: 3 × 2 of type dbl\n",
       "\\begin{tabular}{ll}\n",
       "\t 0.42 & 0.58\\\\\n",
       "\t 0.46 & 0.54\\\\\n",
       "\t 0.60 & 0.40\\\\\n",
       "\\end{tabular}\n"
      ],
      "text/markdown": [
       "\n",
       "A matrix: 3 × 2 of type dbl\n",
       "\n",
       "| 0.42 | 0.58 |\n",
       "| 0.46 | 0.54 |\n",
       "| 0.60 | 0.40 |\n",
       "\n"
      ],
      "text/plain": [
       "     [,1] [,2]\n",
       "[1,] 0.42 0.58\n",
       "[2,] 0.46 0.54\n",
       "[3,] 0.60 0.40"
      ]
     },
     "metadata": {},
     "output_type": "display_data"
    }
   ],
   "source": [
    "W1[c(22,24,31),]"
   ]
  },
  {
   "cell_type": "code",
   "execution_count": 36,
   "id": "d92e7664-6f88-426c-bb40-577a4bb78875",
   "metadata": {},
   "outputs": [
    {
     "data": {
      "image/png": "[encoded data removed]",
      "text/plain": [
       "plot without title"
      ]
     },
     "metadata": {
      "image/png": {
       "height": 420,
       "width": 420
      }
     },
     "output_type": "display_data"
    }
   ],
   "source": [
    "plot(W1[,1], ac1, type = \"l\")"
   ]
  },
  {
   "cell_type": "code",
   "execution_count": 37,
   "id": "7479a882-d7b3-4245-94cf-594b19d7c76e",
   "metadata": {},
   "outputs": [
    {
     "data": {
      "image/png": "[encoded data removed]",
      "text/plain": [
       "plot without title"
      ]
     },
     "metadata": {
      "image/png": {
       "height": 420,
       "width": 420
      }
     },
     "output_type": "display_data"
    }
   ],
   "source": [
    "ac2 <- apply(eval_scores(select_bcp(bcp, 1:2), W = W1, score = \"brier\")$scores, 2, mean)\n",
    "plot(W1[,1], ac2, type = \"l\")"
   ]
  },
  {
   "cell_type": "code",
   "execution_count": 39,
   "id": "4e5a7e33-bf85-4e57-b140-8b21acaadc9f",
   "metadata": {},
   "outputs": [
    {
     "data": {
      "image/png": "[encoded data removed]",
      "text/plain": [
       "plot without title"
      ]
     },
     "metadata": {
      "image/png": {
       "height": 420,
       "width": 420
      }
     },
     "output_type": "display_data"
    }
   ],
   "source": [
    "ac3 <- apply(eval_scores(select_bcp(bcp, 1:2), W = W1, score = \"log\")$scores, 2, mean)\n",
    "plot(W1[,1], ac3, type = \"l\")"
   ]
  },
  {
   "cell_type": "code",
   "execution_count": 40,
   "id": "da544255-17a0-4fed-90ad-5775f0c21ac5",
   "metadata": {},
   "outputs": [
    {
     "data": {
      "text/html": [
       "<table class=\"dataframe\">\n",
       "<caption>A tibble: 1 × 1</caption>\n",
       "<thead>\n",
       "\t<tr><th scope=col>mean(m)</th></tr>\n",
       "\t<tr><th scope=col>&lt;dbl&gt;</th></tr>\n",
       "</thead>\n",
       "<tbody>\n",
       "\t<tr><td>367.65</td></tr>\n",
       "</tbody>\n",
       "</table>\n"
      ],
      "text/latex": [
       "A tibble: 1 × 1\n",
       "\\begin{tabular}{l}\n",
       " mean(m)\\\\\n",
       " <dbl>\\\\\n",
       "\\hline\n",
       "\t 367.65\\\\\n",
       "\\end{tabular}\n"
      ],
      "text/markdown": [
       "\n",
       "A tibble: 1 × 1\n",
       "\n",
       "| mean(m) &lt;dbl&gt; |\n",
       "|---|\n",
       "| 367.65 |\n",
       "\n"
      ],
      "text/plain": [
       "  mean(m)\n",
       "1 367.65 "
      ]
     },
     "metadata": {},
     "output_type": "display_data"
    }
   ],
   "source": [
    "r8 |> group_by(rep) |> summarize(m = sum(correct2)) |> summarize(mean(m))"
   ]
  },
  {
   "cell_type": "code",
   "execution_count": 41,
   "id": "6c79ecaa-274b-4c9c-82cc-506056b8d601",
   "metadata": {},
   "outputs": [
    {
     "data": {
      "text/html": [
       "<table class=\"dataframe\">\n",
       "<caption>A tibble: 1 × 1</caption>\n",
       "<thead>\n",
       "\t<tr><th scope=col>mean(m)</th></tr>\n",
       "\t<tr><th scope=col>&lt;dbl&gt;</th></tr>\n",
       "</thead>\n",
       "<tbody>\n",
       "\t<tr><td>367</td></tr>\n",
       "</tbody>\n",
       "</table>\n"
      ],
      "text/latex": [
       "A tibble: 1 × 1\n",
       "\\begin{tabular}{l}\n",
       " mean(m)\\\\\n",
       " <dbl>\\\\\n",
       "\\hline\n",
       "\t 367\\\\\n",
       "\\end{tabular}\n"
      ],
      "text/markdown": [
       "\n",
       "A tibble: 1 × 1\n",
       "\n",
       "| mean(m) &lt;dbl&gt; |\n",
       "|---|\n",
       "| 367 |\n",
       "\n"
      ],
      "text/plain": [
       "  mean(m)\n",
       "1 367    "
      ]
     },
     "metadata": {},
     "output_type": "display_data"
    }
   ],
   "source": [
    "r9 |> group_by(rep) |> summarize(m = sum(correct2)) |> summarize(mean(m))"
   ]
  },
  {
   "cell_type": "code",
   "execution_count": null,
   "id": "a56c8fe1-7dd6-4216-ae09-657cfe63f1eb",
   "metadata": {},
   "outputs": [],
   "source": []
  },
  {
   "cell_type": "code",
   "execution_count": 42,
   "id": "07c01423-5a92-4f2c-9e6f-5829cc31fffa",
   "metadata": {},
   "outputs": [
    {
     "data": {
      "text/html": [
       "<table class=\"dataframe\">\n",
       "<caption>A tibble: 1 × 1</caption>\n",
       "<thead>\n",
       "\t<tr><th scope=col>mean(m)</th></tr>\n",
       "\t<tr><th scope=col>&lt;dbl&gt;</th></tr>\n",
       "</thead>\n",
       "<tbody>\n",
       "\t<tr><td>360.5</td></tr>\n",
       "</tbody>\n",
       "</table>\n"
      ],
      "text/latex": [
       "A tibble: 1 × 1\n",
       "\\begin{tabular}{l}\n",
       " mean(m)\\\\\n",
       " <dbl>\\\\\n",
       "\\hline\n",
       "\t 360.5\\\\\n",
       "\\end{tabular}\n"
      ],
      "text/markdown": [
       "\n",
       "A tibble: 1 × 1\n",
       "\n",
       "| mean(m) &lt;dbl&gt; |\n",
       "|---|\n",
       "| 360.5 |\n",
       "\n"
      ],
      "text/plain": [
       "  mean(m)\n",
       "1 360.5  "
      ]
     },
     "metadata": {},
     "output_type": "display_data"
    }
   ],
   "source": [
    "r10 |> group_by(rep) |> summarize(m = sum(correct2)) |> summarize(mean(m))"
   ]
  },
  {
   "cell_type": "markdown",
   "id": "91ed13d0-f074-4426-aa80-38842a79de9e",
   "metadata": {},
   "source": [
    "## Full ensemble"
   ]
  },
  {
   "cell_type": "code",
   "execution_count": 47,
   "id": "9a5be6f2-deeb-44c0-badb-0ff317040edb",
   "metadata": {},
   "outputs": [
    {
     "name": "stdout",
     "output_type": "stream",
     "text": [
      "[1]  432 4000\n"
     ]
    }
   ],
   "source": [
    "W2 <- gen_W(qL = 4, n = 4000)\n",
    "r11 <- cv_stack(bcp = select_bcp(bcp, 1:4), W = W2, score = \"acc\")"
   ]
  },
  {
   "cell_type": "code",
   "execution_count": 48,
   "id": "35bb3f21-d9d0-4735-9cf8-9b10619d207d",
   "metadata": {},
   "outputs": [
    {
     "data": {
      "text/html": [
       "<table class=\"dataframe\">\n",
       "<caption>A tibble: 1 × 1</caption>\n",
       "<thead>\n",
       "\t<tr><th scope=col>mean(m)</th></tr>\n",
       "\t<tr><th scope=col>&lt;dbl&gt;</th></tr>\n",
       "</thead>\n",
       "<tbody>\n",
       "\t<tr><td>430</td></tr>\n",
       "</tbody>\n",
       "</table>\n"
      ],
      "text/latex": [
       "A tibble: 1 × 1\n",
       "\\begin{tabular}{l}\n",
       " mean(m)\\\\\n",
       " <dbl>\\\\\n",
       "\\hline\n",
       "\t 430\\\\\n",
       "\\end{tabular}\n"
      ],
      "text/markdown": [
       "\n",
       "A tibble: 1 × 1\n",
       "\n",
       "| mean(m) &lt;dbl&gt; |\n",
       "|---|\n",
       "| 430 |\n",
       "\n"
      ],
      "text/plain": [
       "  mean(m)\n",
       "1 430    "
      ]
     },
     "metadata": {},
     "output_type": "display_data"
    }
   ],
   "source": [
    "r11 |> group_by(rep) |> summarize(m = sum(correct2)) |> summarize(mean(m))"
   ]
  },
  {
   "cell_type": "code",
   "execution_count": 52,
   "id": "e9802f58-9fa4-46d3-bb23-7c79851d1a8a",
   "metadata": {},
   "outputs": [
    {
     "data": {
      "text/html": [
       "0.99537037037037"
      ],
      "text/latex": [
       "0.99537037037037"
      ],
      "text/markdown": [
       "0.99537037037037"
      ],
      "text/plain": [
       "[1] 0.9953704"
      ]
     },
     "metadata": {},
     "output_type": "display_data"
    }
   ],
   "source": [
    "ac7 <- apply(eval_scores(select_bcp(bcp, 1:4), W = W2, score = \"acc\")$scores, 2, mean)\n",
    "max(ac7)"
   ]
  },
  {
   "cell_type": "code",
   "execution_count": 53,
   "id": "5c4f8d82-f7ee-4da7-b7c5-d00c94b734a9",
   "metadata": {},
   "outputs": [
    {
     "data": {
      "text/html": [
       "2"
      ],
      "text/latex": [
       "2"
      ],
      "text/markdown": [
       "2"
      ],
      "text/plain": [
       "[1] 2"
      ]
     },
     "metadata": {},
     "output_type": "display_data"
    }
   ],
   "source": [
    "which.max(ac7)"
   ]
  },
  {
   "cell_type": "code",
   "execution_count": 54,
   "id": "e47713c6-9257-4838-b5f5-acb934feb476",
   "metadata": {},
   "outputs": [
    {
     "data": {
      "text/html": [
       "<style>\n",
       ".list-inline {list-style: none; margin:0; padding: 0}\n",
       ".list-inline>li {display: inline-block}\n",
       ".list-inline>li:not(:last-child)::after {content: \"\\00b7\"; padding: 0 .5ex}\n",
       "</style>\n",
       "<ol class=list-inline><li>0.39</li><li>0.09</li><li>0.46</li><li>0.06</li></ol>\n"
      ],
      "text/latex": [
       "\\begin{enumerate*}\n",
       "\\item 0.39\n",
       "\\item 0.09\n",
       "\\item 0.46\n",
       "\\item 0.06\n",
       "\\end{enumerate*}\n"
      ],
      "text/markdown": [
       "1. 0.39\n",
       "2. 0.09\n",
       "3. 0.46\n",
       "4. 0.06\n",
       "\n",
       "\n"
      ],
      "text/plain": [
       "[1] 0.39 0.09 0.46 0.06"
      ]
     },
     "metadata": {},
     "output_type": "display_data"
    }
   ],
   "source": [
    "W2[2,]"
   ]
  },
  {
   "cell_type": "code",
   "execution_count": null,
   "id": "aa9e2e83-e77b-4126-aaee-4a07d6d0c658",
   "metadata": {},
   "outputs": [],
   "source": []
  }
 ],
 "metadata": {
  "kernelspec": {
   "display_name": "R",
   "language": "R",
   "name": "ir"
  },
  "language_info": {
   "codemirror_mode": "r",
   "file_extension": ".r",
   "mimetype": "text/x-r-source",
   "name": "R",
   "pygments_lexer": "r",
   "version": "4.4.2"
  }
 },
 "nbformat": 4,
 "nbformat_minor": 5
}
