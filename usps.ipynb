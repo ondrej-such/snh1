{
 "cells": [
  {
   "cell_type": "code",
   "execution_count": 1,
   "id": "191ef2ee-8956-410c-b537-426fa456cc89",
   "metadata": {},
   "outputs": [],
   "source": [
    "source(\"lda.R\")\n",
    "library(dplyr)\n",
    "library(tidyr)\n",
    "library(ggplot2)"
   ]
  },
  {
   "cell_type": "code",
   "execution_count": 2,
   "id": "92dddc1b-2252-4753-abba-0dc2b1c111c4",
   "metadata": {},
   "outputs": [
    {
     "name": "stdout",
     "output_type": "stream",
     "text": [
      "[1] \"unzips/n800/usps.scale-0\"\n"
     ]
    }
   ],
   "source": [
    "dfs <- read_wlws(800, \"usps\", 0)"
   ]
  },
  {
   "cell_type": "code",
   "execution_count": 3,
   "id": "75fdf03d-85e4-412f-9aeb-4b5bb8852916",
   "metadata": {},
   "outputs": [
    {
     "name": "stderr",
     "output_type": "stream",
     "text": [
      "Warning message in lda.default(x, grouping, ...):\n",
      "“variables are collinear”\n"
     ]
    },
    {
     "name": "stdout",
     "output_type": "stream",
     "text": [
      "[1]   1   2 Inf\n"
     ]
    },
    {
     "name": "stderr",
     "output_type": "stream",
     "text": [
      "Warning message in lda.default(x, grouping, ...):\n",
      "“variables are collinear”\n"
     ]
    },
    {
     "name": "stdout",
     "output_type": "stream",
     "text": [
      "[1]   1   3 Inf\n"
     ]
    },
    {
     "name": "stderr",
     "output_type": "stream",
     "text": [
      "Warning message in lda.default(x, grouping, ...):\n",
      "“variables are collinear”\n"
     ]
    },
    {
     "name": "stdout",
     "output_type": "stream",
     "text": [
      "[1]   2   3 Inf\n"
     ]
    },
    {
     "name": "stderr",
     "output_type": "stream",
     "text": [
      "Warning message in lda.default(x, grouping, ...):\n",
      "“variables are collinear”\n"
     ]
    },
    {
     "name": "stdout",
     "output_type": "stream",
     "text": [
      "[1]   1   4 Inf\n"
     ]
    },
    {
     "name": "stderr",
     "output_type": "stream",
     "text": [
      "Warning message in lda.default(x, grouping, ...):\n",
      "“variables are collinear”\n"
     ]
    },
    {
     "name": "stdout",
     "output_type": "stream",
     "text": [
      "[1]   2   4 Inf\n"
     ]
    },
    {
     "name": "stderr",
     "output_type": "stream",
     "text": [
      "Warning message in lda.default(x, grouping, ...):\n",
      "“variables are collinear”\n",
      "Warning message in lda.default(x, grouping, ...):\n",
      "“variables are collinear”\n"
     ]
    },
    {
     "name": "stdout",
     "output_type": "stream",
     "text": [
      "[1]   1   5 Inf\n"
     ]
    },
    {
     "name": "stderr",
     "output_type": "stream",
     "text": [
      "Warning message in lda.default(x, grouping, ...):\n",
      "“variables are collinear”\n"
     ]
    },
    {
     "name": "stdout",
     "output_type": "stream",
     "text": [
      "[1]   2   5 Inf\n"
     ]
    },
    {
     "name": "stderr",
     "output_type": "stream",
     "text": [
      "Warning message in lda.default(x, grouping, ...):\n",
      "“variables are collinear”\n",
      "Warning message in lda.default(x, grouping, ...):\n",
      "“variables are collinear”\n",
      "Warning message in lda.default(x, grouping, ...):\n",
      "“variables are collinear”\n",
      "Warning message in lda.default(x, grouping, ...):\n",
      "“variables are collinear”\n"
     ]
    },
    {
     "name": "stdout",
     "output_type": "stream",
     "text": [
      "[1]   2   6 Inf\n"
     ]
    },
    {
     "name": "stderr",
     "output_type": "stream",
     "text": [
      "Warning message in lda.default(x, grouping, ...):\n",
      "“variables are collinear”\n",
      "Warning message in lda.default(x, grouping, ...):\n",
      "“variables are collinear”\n",
      "Warning message in lda.default(x, grouping, ...):\n",
      "“variables are collinear”\n"
     ]
    },
    {
     "name": "stdout",
     "output_type": "stream",
     "text": [
      "[1]   5   6 Inf\n"
     ]
    },
    {
     "name": "stderr",
     "output_type": "stream",
     "text": [
      "Warning message in lda.default(x, grouping, ...):\n",
      "“variables are collinear”\n"
     ]
    },
    {
     "name": "stdout",
     "output_type": "stream",
     "text": [
      "[1]   1   7 Inf\n"
     ]
    },
    {
     "name": "stderr",
     "output_type": "stream",
     "text": [
      "Warning message in lda.default(x, grouping, ...):\n",
      "“variables are collinear”\n"
     ]
    },
    {
     "name": "stdout",
     "output_type": "stream",
     "text": [
      "[1]   2   7 Inf\n"
     ]
    },
    {
     "name": "stderr",
     "output_type": "stream",
     "text": [
      "Warning message in lda.default(x, grouping, ...):\n",
      "“variables are collinear”\n"
     ]
    },
    {
     "name": "stdout",
     "output_type": "stream",
     "text": [
      "[1]   3   7 Inf\n"
     ]
    },
    {
     "name": "stderr",
     "output_type": "stream",
     "text": [
      "Warning message in lda.default(x, grouping, ...):\n",
      "“variables are collinear”\n"
     ]
    },
    {
     "name": "stdout",
     "output_type": "stream",
     "text": [
      "[1]   4   7 Inf\n"
     ]
    },
    {
     "name": "stderr",
     "output_type": "stream",
     "text": [
      "Warning message in lda.default(x, grouping, ...):\n",
      "“variables are collinear”\n"
     ]
    },
    {
     "name": "stdout",
     "output_type": "stream",
     "text": [
      "[1]   5   7 Inf\n"
     ]
    },
    {
     "name": "stderr",
     "output_type": "stream",
     "text": [
      "Warning message in lda.default(x, grouping, ...):\n",
      "“variables are collinear”\n"
     ]
    },
    {
     "name": "stdout",
     "output_type": "stream",
     "text": [
      "[1]   6   7 Inf\n"
     ]
    },
    {
     "name": "stderr",
     "output_type": "stream",
     "text": [
      "Warning message in lda.default(x, grouping, ...):\n",
      "“variables are collinear”\n"
     ]
    },
    {
     "name": "stdout",
     "output_type": "stream",
     "text": [
      "[1]   1   8 Inf\n",
      "[1] \"Tol increased to 1e-08 for 2 8\"\n"
     ]
    },
    {
     "name": "stderr",
     "output_type": "stream",
     "text": [
      "Warning message in lda.default(x, grouping, ...):\n",
      "“variables are collinear”\n"
     ]
    },
    {
     "name": "stdout",
     "output_type": "stream",
     "text": [
      "[1] \"Tol increased to 1e-08 for 2 8\"\n",
      "[1]   2   8 Inf\n"
     ]
    },
    {
     "name": "stderr",
     "output_type": "stream",
     "text": [
      "Warning message in lda.default(x, grouping, ...):\n",
      "“variables are collinear”\n"
     ]
    },
    {
     "name": "stdout",
     "output_type": "stream",
     "text": [
      "[1]   3   8 Inf\n"
     ]
    },
    {
     "name": "stderr",
     "output_type": "stream",
     "text": [
      "Warning message in lda.default(x, grouping, ...):\n",
      "“variables are collinear”\n"
     ]
    },
    {
     "name": "stdout",
     "output_type": "stream",
     "text": [
      "[1]   4   8 Inf\n"
     ]
    },
    {
     "name": "stderr",
     "output_type": "stream",
     "text": [
      "Warning message in lda.default(x, grouping, ...):\n",
      "“variables are collinear”\n"
     ]
    },
    {
     "name": "stdout",
     "output_type": "stream",
     "text": [
      "[1]   5   8 Inf\n"
     ]
    },
    {
     "name": "stderr",
     "output_type": "stream",
     "text": [
      "Warning message in lda.default(x, grouping, ...):\n",
      "“variables are collinear”\n"
     ]
    },
    {
     "name": "stdout",
     "output_type": "stream",
     "text": [
      "[1]   6   8 Inf\n"
     ]
    },
    {
     "name": "stderr",
     "output_type": "stream",
     "text": [
      "Warning message in lda.default(x, grouping, ...):\n",
      "“variables are collinear”\n"
     ]
    },
    {
     "name": "stdout",
     "output_type": "stream",
     "text": [
      "[1]   7   8 Inf\n"
     ]
    },
    {
     "name": "stderr",
     "output_type": "stream",
     "text": [
      "Warning message in lda.default(x, grouping, ...):\n",
      "“variables are collinear”\n"
     ]
    },
    {
     "name": "stdout",
     "output_type": "stream",
     "text": [
      "[1]   1   9 Inf\n"
     ]
    },
    {
     "name": "stderr",
     "output_type": "stream",
     "text": [
      "Warning message in lda.default(x, grouping, ...):\n",
      "“variables are collinear”\n"
     ]
    },
    {
     "name": "stdout",
     "output_type": "stream",
     "text": [
      "[1]   2   9 Inf\n"
     ]
    },
    {
     "name": "stderr",
     "output_type": "stream",
     "text": [
      "Warning message in lda.default(x, grouping, ...):\n",
      "“variables are collinear”\n"
     ]
    },
    {
     "name": "stdout",
     "output_type": "stream",
     "text": [
      "[1]   3   9 Inf\n"
     ]
    },
    {
     "name": "stderr",
     "output_type": "stream",
     "text": [
      "Warning message in lda.default(x, grouping, ...):\n",
      "“variables are collinear”\n",
      "Warning message in lda.default(x, grouping, ...):\n",
      "“variables are collinear”\n"
     ]
    },
    {
     "name": "stdout",
     "output_type": "stream",
     "text": [
      "[1]   5   9 Inf\n"
     ]
    },
    {
     "name": "stderr",
     "output_type": "stream",
     "text": [
      "Warning message in lda.default(x, grouping, ...):\n",
      "“variables are collinear”\n",
      "Warning message in lda.default(x, grouping, ...):\n",
      "“variables are collinear”\n"
     ]
    },
    {
     "name": "stdout",
     "output_type": "stream",
     "text": [
      "[1]   7   9 Inf\n"
     ]
    },
    {
     "name": "stderr",
     "output_type": "stream",
     "text": [
      "Warning message in lda.default(x, grouping, ...):\n",
      "“variables are collinear”\n"
     ]
    },
    {
     "name": "stdout",
     "output_type": "stream",
     "text": [
      "[1]   8   9 Inf\n"
     ]
    },
    {
     "name": "stderr",
     "output_type": "stream",
     "text": [
      "Warning message in lda.default(x, grouping, ...):\n",
      "“variables are collinear”\n"
     ]
    },
    {
     "name": "stdout",
     "output_type": "stream",
     "text": [
      "[1]   1  10 Inf\n",
      "[1] \"Tol increased to 1e-08 for 2 10\"\n"
     ]
    },
    {
     "name": "stderr",
     "output_type": "stream",
     "text": [
      "Warning message in lda.default(x, grouping, ...):\n",
      "“variables are collinear”\n"
     ]
    },
    {
     "name": "stdout",
     "output_type": "stream",
     "text": [
      "[1] \"Tol increased to 1e-08 for 2 10\"\n",
      "[1]   2  10 Inf\n"
     ]
    },
    {
     "name": "stderr",
     "output_type": "stream",
     "text": [
      "Warning message in lda.default(x, grouping, ...):\n",
      "“variables are collinear”\n"
     ]
    },
    {
     "name": "stdout",
     "output_type": "stream",
     "text": [
      "[1]   3  10 Inf\n"
     ]
    },
    {
     "name": "stderr",
     "output_type": "stream",
     "text": [
      "Warning message in lda.default(x, grouping, ...):\n",
      "“variables are collinear”\n"
     ]
    },
    {
     "name": "stdout",
     "output_type": "stream",
     "text": [
      "[1]   4  10 Inf\n"
     ]
    },
    {
     "name": "stderr",
     "output_type": "stream",
     "text": [
      "Warning message in lda.default(x, grouping, ...):\n",
      "“variables are collinear”\n"
     ]
    },
    {
     "name": "stdout",
     "output_type": "stream",
     "text": [
      "[1]   5  10 Inf\n"
     ]
    },
    {
     "name": "stderr",
     "output_type": "stream",
     "text": [
      "Warning message in lda.default(x, grouping, ...):\n",
      "“variables are collinear”\n"
     ]
    },
    {
     "name": "stdout",
     "output_type": "stream",
     "text": [
      "[1]   6  10 Inf\n"
     ]
    },
    {
     "name": "stderr",
     "output_type": "stream",
     "text": [
      "Warning message in lda.default(x, grouping, ...):\n",
      "“variables are collinear”\n"
     ]
    },
    {
     "name": "stdout",
     "output_type": "stream",
     "text": [
      "[1]   7  10 Inf\n",
      "[1] \"Tol increased to 1e-08 for 8 10\"\n"
     ]
    },
    {
     "name": "stderr",
     "output_type": "stream",
     "text": [
      "Warning message in lda.default(x, grouping, ...):\n",
      "“variables are collinear”\n"
     ]
    },
    {
     "name": "stdout",
     "output_type": "stream",
     "text": [
      "[1] \"Tol increased to 1e-08 for 8 10\"\n",
      "[1]   8  10 Inf\n"
     ]
    },
    {
     "name": "stderr",
     "output_type": "stream",
     "text": [
      "Warning message in lda.default(x, grouping, ...):\n",
      "“variables are collinear”\n"
     ]
    },
    {
     "name": "stdout",
     "output_type": "stream",
     "text": [
      "[1]   9  10 Inf\n"
     ]
    }
   ],
   "source": [
    "t2 <- lda_triples(dfs)"
   ]
  },
  {
   "cell_type": "code",
   "execution_count": 4,
   "id": "14048e76-d18a-472b-b09e-64067eeb75a3",
   "metadata": {},
   "outputs": [],
   "source": [
    "tp2 <- t2 |> pivot_wider(names_from = \"method\", values_from = \"acc\") |> mutate(btree = pmax(omit12, omit13, omit23)) |> mutate(imp = wlw2 - btree)"
   ]
  },
  {
   "cell_type": "code",
   "execution_count": 23,
   "id": "2bc96028-101e-4693-8d7c-dad75d219436",
   "metadata": {},
   "outputs": [
    {
     "data": {
      "text/html": [
       "<table class=\"dataframe\">\n",
       "<caption>A tibble: 1 × 11</caption>\n",
       "<thead>\n",
       "\t<tr><th scope=col>i</th><th scope=col>j</th><th scope=col>k</th><th scope=col>normal</th><th scope=col>radial</th><th scope=col>wlw2</th><th scope=col>omit12</th><th scope=col>omit13</th><th scope=col>omit23</th><th scope=col>btree</th><th scope=col>imp</th></tr>\n",
       "\t<tr><th scope=col>&lt;int&gt;</th><th scope=col>&lt;int&gt;</th><th scope=col>&lt;int&gt;</th><th scope=col>&lt;dbl&gt;</th><th scope=col>&lt;dbl&gt;</th><th scope=col>&lt;dbl&gt;</th><th scope=col>&lt;dbl&gt;</th><th scope=col>&lt;dbl&gt;</th><th scope=col>&lt;dbl&gt;</th><th scope=col>&lt;dbl&gt;</th><th scope=col>&lt;dbl&gt;</th></tr>\n",
       "</thead>\n",
       "<tbody>\n",
       "\t<tr><td>1</td><td>2</td><td>3</td><td>0.4831731</td><td>0.7932692</td><td>0.7932692</td><td>0.6802885</td><td>0.59375</td><td>0.7115385</td><td>0.7115385</td><td>0.08173077</td></tr>\n",
       "</tbody>\n",
       "</table>\n"
      ],
      "text/latex": [
       "A tibble: 1 × 11\n",
       "\\begin{tabular}{lllllllllll}\n",
       " i & j & k & normal & radial & wlw2 & omit12 & omit13 & omit23 & btree & imp\\\\\n",
       " <int> & <int> & <int> & <dbl> & <dbl> & <dbl> & <dbl> & <dbl> & <dbl> & <dbl> & <dbl>\\\\\n",
       "\\hline\n",
       "\t 1 & 2 & 3 & 0.4831731 & 0.7932692 & 0.7932692 & 0.6802885 & 0.59375 & 0.7115385 & 0.7115385 & 0.08173077\\\\\n",
       "\\end{tabular}\n"
      ],
      "text/markdown": [
       "\n",
       "A tibble: 1 × 11\n",
       "\n",
       "| i &lt;int&gt; | j &lt;int&gt; | k &lt;int&gt; | normal &lt;dbl&gt; | radial &lt;dbl&gt; | wlw2 &lt;dbl&gt; | omit12 &lt;dbl&gt; | omit13 &lt;dbl&gt; | omit23 &lt;dbl&gt; | btree &lt;dbl&gt; | imp &lt;dbl&gt; |\n",
       "|---|---|---|---|---|---|---|---|---|---|---|\n",
       "| 1 | 2 | 3 | 0.4831731 | 0.7932692 | 0.7932692 | 0.6802885 | 0.59375 | 0.7115385 | 0.7115385 | 0.08173077 |\n",
       "\n"
      ],
      "text/plain": [
       "  i j k normal    radial    wlw2      omit12    omit13  omit23    btree    \n",
       "1 1 2 3 0.4831731 0.7932692 0.7932692 0.6802885 0.59375 0.7115385 0.7115385\n",
       "  imp       \n",
       "1 0.08173077"
      ]
     },
     "metadata": {},
     "output_type": "display_data"
    }
   ],
   "source": [
    "tp2 |> arrange(desc(imp)) |> filter(i == 1 & j == 2 & k == 3)\n"
   ]
  },
  {
   "cell_type": "code",
   "execution_count": 6,
   "id": "28d2e610-36de-4654-84a7-e8731a0b7079",
   "metadata": {},
   "outputs": [
    {
     "name": "stderr",
     "output_type": "stream",
     "text": [
      "Warning message in lda.default(x, grouping, ...):\n",
      "“variables are collinear”\n"
     ]
    },
    {
     "name": "stdout",
     "output_type": "stream",
     "text": [
      "[1]   1   2 Inf\n"
     ]
    },
    {
     "name": "stderr",
     "output_type": "stream",
     "text": [
      "Warning message in lda.default(x, grouping, ...):\n",
      "“variables are collinear”\n"
     ]
    },
    {
     "name": "stdout",
     "output_type": "stream",
     "text": [
      "[1]   1   3 Inf\n"
     ]
    },
    {
     "name": "stderr",
     "output_type": "stream",
     "text": [
      "Warning message in lda.default(x, grouping, ...):\n",
      "“variables are collinear”\n"
     ]
    },
    {
     "name": "stdout",
     "output_type": "stream",
     "text": [
      "[1]   2   3 Inf\n"
     ]
    }
   ],
   "source": [
    "p2 <- lda_pred3(dfs, 1,2,3)"
   ]
  },
  {
   "cell_type": "code",
   "execution_count": 7,
   "id": "f6da6a74-4117-47fa-a4ff-88ac8ffbd969",
   "metadata": {},
   "outputs": [],
   "source": [
    "q1 <- as.matrix(filter(p2, method ==\"normal\") |> dplyr::select(1:3))\n",
    "q2 <- as.matrix(filter(p2, method ==\"omit12\") |> dplyr::select(1:3))\n",
    "q3 <- as.matrix(filter(p2, method ==\"omit13\") |> dplyr::select(1:3))\n",
    "q4 <- as.matrix(filter(p2, method ==\"omit23\") |> dplyr::select(1:3))"
   ]
  },
  {
   "cell_type": "code",
   "execution_count": 8,
   "id": "710941a6-7b38-4a4c-86f4-e10458f6f6d5",
   "metadata": {},
   "outputs": [],
   "source": [
    "truth <- filter(p2, method == \"normal\")$truth"
   ]
  },
  {
   "cell_type": "code",
   "execution_count": 9,
   "id": "195e719b-6610-461e-9967-c756d705b597",
   "metadata": {},
   "outputs": [
    {
     "data": {
      "text/html": [
       "0.483173076923077"
      ],
      "text/latex": [
       "0.483173076923077"
      ],
      "text/markdown": [
       "0.483173076923077"
      ],
      "text/plain": [
       "[1] 0.4831731"
      ]
     },
     "metadata": {},
     "output_type": "display_data"
    }
   ],
   "source": [
    "mean(apply(q1, 1, which.max) == truth)"
   ]
  },
  {
   "cell_type": "code",
   "execution_count": 10,
   "id": "268f9d4f-c2d6-4b1a-9ba8-930979a25d3e",
   "metadata": {},
   "outputs": [],
   "source": [
    "eval_binary <- function(t1, t2, a) {\n",
    "    tr <- a * t1 + (1-a) * t2\n",
    "    mean(apply(tr, 1, which.max) == truth)\n",
    "}"
   ]
  },
  {
   "cell_type": "code",
   "execution_count": 11,
   "id": "5fe3754e-6332-4603-983c-8eb32a4e47af",
   "metadata": {},
   "outputs": [
    {
     "data": {
      "text/html": [
       "0.483173076923077"
      ],
      "text/latex": [
       "0.483173076923077"
      ],
      "text/markdown": [
       "0.483173076923077"
      ],
      "text/plain": [
       "[1] 0.4831731"
      ]
     },
     "metadata": {},
     "output_type": "display_data"
    },
    {
     "data": {
      "text/html": [
       "0.680288461538462"
      ],
      "text/latex": [
       "0.680288461538462"
      ],
      "text/markdown": [
       "0.680288461538462"
      ],
      "text/plain": [
       "[1] 0.6802885"
      ]
     },
     "metadata": {},
     "output_type": "display_data"
    },
    {
     "data": {
      "text/html": [
       "0.668269230769231"
      ],
      "text/latex": [
       "0.668269230769231"
      ],
      "text/markdown": [
       "0.668269230769231"
      ],
      "text/plain": [
       "[1] 0.6682692"
      ]
     },
     "metadata": {},
     "output_type": "display_data"
    }
   ],
   "source": [
    "eval_binary(q1, q2, 1)\n",
    "eval_binary(q1, q2, 0)\n",
    "eval_binary(q1, q2, 0.5)"
   ]
  },
  {
   "cell_type": "code",
   "execution_count": 12,
   "id": "a7c69bd0-e3f6-4356-a089-1ab28a22d501",
   "metadata": {},
   "outputs": [
    {
     "data": {
      "image/png": "[encoded data removed]",
      "text/plain": [
       "plot without title"
      ]
     },
     "metadata": {
      "image/png": {
       "height": 420,
       "width": 420
      }
     },
     "output_type": "display_data"
    }
   ],
   "source": [
    "df <- data.frame(x = seq(0, 1., length.out = 20))\n",
    "\n",
    "plot_binary <- function(t1, t2) {\n",
    "    df$y = sapply(df$x, function(a) eval_binary(t1,t2, a))\n",
    "    ggplot(df, aes(x = x , y = y)) + geom_line()\n",
    "}\n",
    "plot_binary(q1, q2)"
   ]
  },
  {
   "cell_type": "code",
   "execution_count": 13,
   "id": "4ed5a4c6-f479-4654-a410-9ebb9d612362",
   "metadata": {},
   "outputs": [
    {
     "data": {
      "image/png": "[encoded data removed]",
      "text/plain": [
       "plot without title"
      ]
     },
     "metadata": {
      "image/png": {
       "height": 420,
       "width": 420
      }
     },
     "output_type": "display_data"
    }
   ],
   "source": [
    "plot_binary(q1, q3)"
   ]
  },
  {
   "cell_type": "code",
   "execution_count": 14,
   "id": "e2144baa-907a-43cf-adf2-d7822255842f",
   "metadata": {},
   "outputs": [
    {
     "data": {
      "image/png": "[encoded data removed]",
      "text/plain": [
       "plot without title"
      ]
     },
     "metadata": {
      "image/png": {
       "height": 420,
       "width": 420
      }
     },
     "output_type": "display_data"
    }
   ],
   "source": [
    "plot_binary(q1, q4)"
   ]
  },
  {
   "cell_type": "code",
   "execution_count": 15,
   "id": "3468e6f8-e215-44a0-93c7-ddb9047bf0f6",
   "metadata": {},
   "outputs": [
    {
     "data": {
      "image/png": "[encoded data removed]",
      "text/plain": [
       "plot without title"
      ]
     },
     "metadata": {
      "image/png": {
       "height": 420,
       "width": 420
      }
     },
     "output_type": "display_data"
    }
   ],
   "source": [
    "plot_binary(q2, q4)"
   ]
  },
  {
   "cell_type": "code",
   "execution_count": 16,
   "id": "e95bf747-a085-4f8b-90b4-26d8ce441462",
   "metadata": {},
   "outputs": [
    {
     "data": {
      "image/png": "[encoded data removed]",
      "text/plain": [
       "plot without title"
      ]
     },
     "metadata": {
      "image/png": {
       "height": 420,
       "width": 420
      }
     },
     "output_type": "display_data"
    }
   ],
   "source": [
    "plot_binary(q3, q4)"
   ]
  },
  {
   "cell_type": "code",
   "execution_count": 17,
   "id": "5dfd851f-2082-4459-b9cc-13a0ff710e77",
   "metadata": {},
   "outputs": [
    {
     "data": {
      "text/html": [
       "0.680288461538462"
      ],
      "text/latex": [
       "0.680288461538462"
      ],
      "text/markdown": [
       "0.680288461538462"
      ],
      "text/plain": [
       "[1] 0.6802885"
      ]
     },
     "metadata": {},
     "output_type": "display_data"
    }
   ],
   "source": [
    "sample3 <- function(t1, t2, t3, N = 20) {\n",
    "    M <- matrix(runif(3 * N), ncol =3)\n",
    "    M <- M / apply(M, 1, sum)\n",
    "    r <- apply(M, 1, function(row) mean(apply(t1 * row[1] + t2 * row[2] + t3*row[3], 1, which.max) == truth))\n",
    "    max(r)\n",
    "}\n",
    "m <- sample3(q1, q2, q3, 2000)\n",
    "m"
   ]
  },
  {
   "cell_type": "code",
   "execution_count": 18,
   "id": "e2d47d5a-eaee-48a2-821a-00f8c5235818",
   "metadata": {},
   "outputs": [
    {
     "data": {
      "text/html": [
       "0.711538461538462"
      ],
      "text/latex": [
       "0.711538461538462"
      ],
      "text/markdown": [
       "0.711538461538462"
      ],
      "text/plain": [
       "[1] 0.7115385"
      ]
     },
     "metadata": {},
     "output_type": "display_data"
    }
   ],
   "source": [
    "sample3(q1, q2, q4, 2000)"
   ]
  },
  {
   "cell_type": "code",
   "execution_count": 19,
   "id": "3751050d-7ac5-4d03-ba0d-85e7f0ec2780",
   "metadata": {},
   "outputs": [
    {
     "data": {
      "text/html": [
       "0.711538461538462"
      ],
      "text/latex": [
       "0.711538461538462"
      ],
      "text/markdown": [
       "0.711538461538462"
      ],
      "text/plain": [
       "[1] 0.7115385"
      ]
     },
     "metadata": {},
     "output_type": "display_data"
    }
   ],
   "source": [
    "sample3(q1, q3, q4, 2000)"
   ]
  },
  {
   "cell_type": "code",
   "execution_count": 20,
   "id": "9889f0fa-bbef-4136-ac4f-d152138e1395",
   "metadata": {},
   "outputs": [
    {
     "data": {
      "text/html": [
       "0.786057692307692"
      ],
      "text/latex": [
       "0.786057692307692"
      ],
      "text/markdown": [
       "0.786057692307692"
      ],
      "text/plain": [
       "[1] 0.7860577"
      ]
     },
     "metadata": {},
     "output_type": "display_data"
    }
   ],
   "source": [
    "sample3(q2, q3, q4, 2000)"
   ]
  },
  {
   "cell_type": "code",
   "execution_count": null,
   "id": "5502e289-e844-433d-ae99-538360b7bcf3",
   "metadata": {},
   "outputs": [],
   "source": []
  }
 ],
 "metadata": {
  "kernelspec": {
   "display_name": "R",
   "language": "R",
   "name": "ir"
  },
  "language_info": {
   "codemirror_mode": "r",
   "file_extension": ".r",
   "mimetype": "text/x-r-source",
   "name": "R",
   "pygments_lexer": "r",
   "version": "4.4.2"
  }
 },
 "nbformat": 4,
 "nbformat_minor": 5
}
