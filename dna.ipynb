{
 "cells": [
  {
   "cell_type": "markdown",
   "id": "43bae315-e02c-4990-a9b2-8bac9fc91a5b",
   "metadata": {},
   "source": [
    "# Analysis of dna dataset"
   ]
  },
  {
   "cell_type": "code",
   "execution_count": 55,
   "id": "e2038667-6ffd-422e-b3fd-cba554bd8fec",
   "metadata": {},
   "outputs": [],
   "source": [
    "library(entropy)\n",
    "source(\"lda.R\")"
   ]
  },
  {
   "cell_type": "markdown",
   "id": "8d22afd4-fc66-4e4d-b53a-fb936592438e",
   "metadata": {},
   "source": [
    "### How close is distribution of classes between the training and testing datasets?"
   ]
  },
  {
   "cell_type": "code",
   "execution_count": 56,
   "id": "57ef9238-0294-4bd6-a7fb-fad207541238",
   "metadata": {},
   "outputs": [
    {
     "name": "stdout",
     "output_type": "stream",
     "text": [
      "[1] \"unzips/n800/waveform.scale-0\"\n",
      "[1] 0.01470119\n",
      "[1] 0.0003255412\n",
      "[1] \"unzips/n800/waveform.scale-1\"\n",
      "[1] 0.06080193\n",
      "[1] 0.005671125\n",
      "[1] \"unzips/n800/waveform.scale-2\"\n",
      "[1] 0.07326237\n",
      "[1] 0.008110612\n",
      "[1] \"unzips/n800/waveform.scale-3\"\n",
      "[1] 0.03271659\n",
      "[1] 0.001655295\n",
      "[1] \"unzips/n800/waveform.scale-4\"\n",
      "[1] 0.02794861\n",
      "[1] 0.001193622\n",
      "[1] \"unzips/n800/waveform.scale-5\"\n",
      "[1] 0.01182688\n",
      "[1] 0.0002095248\n",
      "[1] \"unzips/n800/waveform.scale-6\"\n",
      "[1] 0.03855678\n",
      "[1] 0.002281812\n",
      "[1] \"unzips/n800/waveform.scale-7\"\n",
      "[1] 0.007062223\n",
      "[1] 7.441874e-05\n",
      "[1] \"unzips/n800/waveform.scale-8\"\n",
      "[1] 0.02615578\n",
      "[1] 0.001016165\n",
      "[1] \"unzips/n800/waveform.scale-9\"\n",
      "[1] 0.03950158\n",
      "[1] 0.002336118\n",
      "[1] \"unzips/n800/waveform.scale-10\"\n",
      "[1] 0.01255488\n",
      "[1] 0.0002343277\n",
      "[1] \"unzips/n800/waveform.scale-11\"\n",
      "[1] 0.05404975\n",
      "[1] 0.00439668\n",
      "[1] \"unzips/n800/waveform.scale-12\"\n",
      "[1] 0.07183401\n",
      "[1] 0.007710808\n",
      "[1] \"unzips/n800/waveform.scale-13\"\n",
      "[1] 0.03633868\n",
      "[1] 0.001982432\n",
      "[1] \"unzips/n800/waveform.scale-14\"\n",
      "[1] 0.03738148\n",
      "[1] 0.002069944\n",
      "[1] \"unzips/n800/waveform.scale-15\"\n",
      "[1] 0.03500714\n",
      "[1] 0.00189702\n",
      "[1] \"unzips/n800/waveform.scale-16\"\n",
      "[1] 0.02161886\n",
      "[1] 0.0007147293\n",
      "[1] \"unzips/n800/waveform.scale-17\"\n",
      "[1] 0.03454526\n",
      "[1] 0.001778257\n",
      "[1] \"unzips/n800/waveform.scale-18\"\n",
      "[1] 0.01283063\n",
      "[1] 0.0002433727\n",
      "[1] \"unzips/n800/waveform.scale-19\"\n",
      "[1] 0.03594962\n",
      "[1] 0.00193219\n"
     ]
    }
   ],
   "source": [
    "for (i in 0:19) {\n",
    " dfs <- read_wlws(800, \"waveform\", i)\n",
    " v1 <- table(dfs$train$class_id)\n",
    " v2 <- table(dfs$test$class_id)\n",
    " v <- as.matrix(v1/sum(v1) - v2/sum(v2) )\n",
    " print(norm(v, \"F\"))\n",
    " print(KL.plugin(v1, v2))\n",
    "}"
   ]
  },
  {
   "cell_type": "code",
   "execution_count": 57,
   "id": "e2acae31-f9b5-4b62-96ca-c95ddcee12ae",
   "metadata": {},
   "outputs": [
    {
     "name": "stdout",
     "output_type": "stream",
     "text": [
      "[1] \"unzips/n800/waveform.scale-7\"\n"
     ]
    }
   ],
   "source": [
    "dfs <- read_wlws(800, \"waveform\", 7)"
   ]
  },
  {
   "cell_type": "code",
   "execution_count": 58,
   "id": "714ebde4-7072-4e6a-a7ad-834999b0ffff",
   "metadata": {
    "scrolled": true
   },
   "outputs": [
    {
     "data": {
      "text/html": [
       "<table class=\"dataframe\">\n",
       "<caption>A data.frame: 4 × 6</caption>\n",
       "<thead>\n",
       "\t<tr><th scope=col>n</th><th scope=col>K</th><th scope=col>method</th><th scope=col>correct</th><th scope=col>dataset</th><th scope=col>run</th></tr>\n",
       "\t<tr><th scope=col>&lt;dbl&gt;</th><th scope=col>&lt;int&gt;</th><th scope=col>&lt;chr&gt;</th><th scope=col>&lt;int&gt;</th><th scope=col>&lt;chr&gt;</th><th scope=col>&lt;dbl&gt;</th></tr>\n",
       "</thead>\n",
       "<tbody>\n",
       "\t<tr><td>800</td><td>3</td><td>normal</td><td>849</td><td>waveform</td><td>7</td></tr>\n",
       "\t<tr><td>800</td><td>3</td><td>radial</td><td>852</td><td>waveform</td><td>7</td></tr>\n",
       "\t<tr><td>800</td><td>3</td><td>wlw2  </td><td>852</td><td>waveform</td><td>7</td></tr>\n",
       "\t<tr><td>800</td><td>3</td><td>oracle</td><td>852</td><td>waveform</td><td>7</td></tr>\n",
       "</tbody>\n",
       "</table>\n"
      ],
      "text/latex": [
       "A data.frame: 4 × 6\n",
       "\\begin{tabular}{llllll}\n",
       " n & K & method & correct & dataset & run\\\\\n",
       " <dbl> & <int> & <chr> & <int> & <chr> & <dbl>\\\\\n",
       "\\hline\n",
       "\t 800 & 3 & normal & 849 & waveform & 7\\\\\n",
       "\t 800 & 3 & radial & 852 & waveform & 7\\\\\n",
       "\t 800 & 3 & wlw2   & 852 & waveform & 7\\\\\n",
       "\t 800 & 3 & oracle & 852 & waveform & 7\\\\\n",
       "\\end{tabular}\n"
      ],
      "text/markdown": [
       "\n",
       "A data.frame: 4 × 6\n",
       "\n",
       "| n &lt;dbl&gt; | K &lt;int&gt; | method &lt;chr&gt; | correct &lt;int&gt; | dataset &lt;chr&gt; | run &lt;dbl&gt; |\n",
       "|---|---|---|---|---|---|\n",
       "| 800 | 3 | normal | 849 | waveform | 7 |\n",
       "| 800 | 3 | radial | 852 | waveform | 7 |\n",
       "| 800 | 3 | wlw2   | 852 | waveform | 7 |\n",
       "| 800 | 3 | oracle | 852 | waveform | 7 |\n",
       "\n"
      ],
      "text/plain": [
       "  n   K method correct dataset  run\n",
       "1 800 3 normal 849     waveform 7  \n",
       "2 800 3 radial 852     waveform 7  \n",
       "3 800 3 wlw2   852     waveform 7  \n",
       "4 800 3 oracle 852     waveform 7  "
      ]
     },
     "metadata": {},
     "output_type": "display_data"
    }
   ],
   "source": [
    "lda_multi(dfs)$multi"
   ]
  },
  {
   "cell_type": "code",
   "execution_count": 59,
   "id": "eb943772-bbf5-4176-aaff-2acf5444dd2a",
   "metadata": {},
   "outputs": [],
   "source": [
    "W <- gen_W(qL = 3, n = 1000)"
   ]
  },
  {
   "cell_type": "code",
   "execution_count": 60,
   "id": "a1b20156-5847-45b3-b2fd-2658ea997e9c",
   "metadata": {},
   "outputs": [],
   "source": [
    "bcp <- get_bcp(dfs = dfs, 1,2,3)"
   ]
  },
  {
   "cell_type": "markdown",
   "id": "80174618-86d5-4ee3-bd64-d371bd9caaed",
   "metadata": {},
   "source": [
    "### Crossvalidation of best ensemble (1,2,3)"
   ]
  },
  {
   "cell_type": "code",
   "execution_count": 61,
   "id": "5e282711-f2f1-4347-91c6-a90f476a7b07",
   "metadata": {},
   "outputs": [
    {
     "name": "stdout",
     "output_type": "stream",
     "text": [
      "[1] 1000 1000\n"
     ]
    },
    {
     "data": {
      "text/html": [
       "<table class=\"dataframe\">\n",
       "<caption>A tibble: 1 × 1</caption>\n",
       "<thead>\n",
       "\t<tr><th scope=col>mean(m)</th></tr>\n",
       "\t<tr><th scope=col>&lt;dbl&gt;</th></tr>\n",
       "</thead>\n",
       "<tbody>\n",
       "\t<tr><td>847.3</td></tr>\n",
       "</tbody>\n",
       "</table>\n"
      ],
      "text/latex": [
       "A tibble: 1 × 1\n",
       "\\begin{tabular}{l}\n",
       " mean(m)\\\\\n",
       " <dbl>\\\\\n",
       "\\hline\n",
       "\t 847.3\\\\\n",
       "\\end{tabular}\n"
      ],
      "text/markdown": [
       "\n",
       "A tibble: 1 × 1\n",
       "\n",
       "| mean(m) &lt;dbl&gt; |\n",
       "|---|\n",
       "| 847.3 |\n",
       "\n"
      ],
      "text/plain": [
       "  mean(m)\n",
       "1 847.3  "
      ]
     },
     "metadata": {},
     "output_type": "display_data"
    }
   ],
   "source": [
    "r1 <- cv_stack(bcp = select_bcp(bcp, 1:3), W = W, score = \"acc\")\n",
    "r1 |> group_by(rep) |> summarize(m = sum(correct2)) |> summarize(mean(m))"
   ]
  },
  {
   "cell_type": "code",
   "execution_count": 62,
   "id": "74f29352-8c03-4cc6-b44e-bd09ccb38ac8",
   "metadata": {},
   "outputs": [
    {
     "name": "stdout",
     "output_type": "stream",
     "text": [
      "[1] 1000 1000\n"
     ]
    },
    {
     "data": {
      "text/html": [
       "<table class=\"dataframe\">\n",
       "<caption>A tibble: 1 × 1</caption>\n",
       "<thead>\n",
       "\t<tr><th scope=col>mean(m)</th></tr>\n",
       "\t<tr><th scope=col>&lt;dbl&gt;</th></tr>\n",
       "</thead>\n",
       "<tbody>\n",
       "\t<tr><td>847.9</td></tr>\n",
       "</tbody>\n",
       "</table>\n"
      ],
      "text/latex": [
       "A tibble: 1 × 1\n",
       "\\begin{tabular}{l}\n",
       " mean(m)\\\\\n",
       " <dbl>\\\\\n",
       "\\hline\n",
       "\t 847.9\\\\\n",
       "\\end{tabular}\n"
      ],
      "text/markdown": [
       "\n",
       "A tibble: 1 × 1\n",
       "\n",
       "| mean(m) &lt;dbl&gt; |\n",
       "|---|\n",
       "| 847.9 |\n",
       "\n"
      ],
      "text/plain": [
       "  mean(m)\n",
       "1 847.9  "
      ]
     },
     "metadata": {},
     "output_type": "display_data"
    }
   ],
   "source": [
    "r2 <- cv_stack(bcp = select_bcp(bcp, 1:3), W = W, score = \"brier\")\n",
    "r2 |> group_by(rep) |> summarize(m = sum(correct2)) |> summarize(mean(m))"
   ]
  },
  {
   "cell_type": "code",
   "execution_count": 63,
   "id": "47205877-14cd-4fdc-aab4-da207ebb3b16",
   "metadata": {},
   "outputs": [
    {
     "name": "stdout",
     "output_type": "stream",
     "text": [
      "[1] 1000 1000\n"
     ]
    },
    {
     "data": {
      "text/html": [
       "<table class=\"dataframe\">\n",
       "<caption>A tibble: 1 × 1</caption>\n",
       "<thead>\n",
       "\t<tr><th scope=col>mean(m)</th></tr>\n",
       "\t<tr><th scope=col>&lt;dbl&gt;</th></tr>\n",
       "</thead>\n",
       "<tbody>\n",
       "\t<tr><td>845.85</td></tr>\n",
       "</tbody>\n",
       "</table>\n"
      ],
      "text/latex": [
       "A tibble: 1 × 1\n",
       "\\begin{tabular}{l}\n",
       " mean(m)\\\\\n",
       " <dbl>\\\\\n",
       "\\hline\n",
       "\t 845.85\\\\\n",
       "\\end{tabular}\n"
      ],
      "text/markdown": [
       "\n",
       "A tibble: 1 × 1\n",
       "\n",
       "| mean(m) &lt;dbl&gt; |\n",
       "|---|\n",
       "| 845.85 |\n",
       "\n"
      ],
      "text/plain": [
       "  mean(m)\n",
       "1 845.85 "
      ]
     },
     "metadata": {},
     "output_type": "display_data"
    }
   ],
   "source": [
    "r3 <- cv_stack(bcp = select_bcp(bcp, 1:3), W = W, score = \"log\")\n",
    "r3 |> group_by(rep) |> summarize(m = sum(correct2)) |> summarize(mean(m))"
   ]
  },
  {
   "cell_type": "code",
   "execution_count": 64,
   "id": "d8bdf169-03b6-4015-bdb9-1a8da89dee50",
   "metadata": {},
   "outputs": [
    {
     "data": {
      "text/html": [
       "<table class=\"dataframe\">\n",
       "<caption>A tibble: 59 × 2</caption>\n",
       "<thead>\n",
       "\t<tr><th scope=col>best_w</th><th scope=col>m</th></tr>\n",
       "\t<tr><th scope=col>&lt;int&gt;</th><th scope=col>&lt;int&gt;</th></tr>\n",
       "</thead>\n",
       "<tbody>\n",
       "\t<tr><td>564</td><td>18</td></tr>\n",
       "\t<tr><td>885</td><td> 9</td></tr>\n",
       "\t<tr><td>329</td><td> 7</td></tr>\n",
       "\t<tr><td>220</td><td> 4</td></tr>\n",
       "\t<tr><td>248</td><td> 3</td></tr>\n",
       "\t<tr><td> 68</td><td> 2</td></tr>\n",
       "\t<tr><td>695</td><td> 2</td></tr>\n",
       "\t<tr><td>712</td><td> 2</td></tr>\n",
       "\t<tr><td>790</td><td> 2</td></tr>\n",
       "\t<tr><td>918</td><td> 2</td></tr>\n",
       "\t<tr><td>  4</td><td> 1</td></tr>\n",
       "\t<tr><td> 27</td><td> 1</td></tr>\n",
       "\t<tr><td> 51</td><td> 1</td></tr>\n",
       "\t<tr><td> 54</td><td> 1</td></tr>\n",
       "\t<tr><td> 81</td><td> 1</td></tr>\n",
       "\t<tr><td> 99</td><td> 1</td></tr>\n",
       "\t<tr><td>102</td><td> 1</td></tr>\n",
       "\t<tr><td>108</td><td> 1</td></tr>\n",
       "\t<tr><td>120</td><td> 1</td></tr>\n",
       "\t<tr><td>141</td><td> 1</td></tr>\n",
       "\t<tr><td>157</td><td> 1</td></tr>\n",
       "\t<tr><td>162</td><td> 1</td></tr>\n",
       "\t<tr><td>166</td><td> 1</td></tr>\n",
       "\t<tr><td>170</td><td> 1</td></tr>\n",
       "\t<tr><td>173</td><td> 1</td></tr>\n",
       "\t<tr><td>188</td><td> 1</td></tr>\n",
       "\t<tr><td>191</td><td> 1</td></tr>\n",
       "\t<tr><td>204</td><td> 1</td></tr>\n",
       "\t<tr><td>206</td><td> 1</td></tr>\n",
       "\t<tr><td>224</td><td> 1</td></tr>\n",
       "\t<tr><td>249</td><td> 1</td></tr>\n",
       "\t<tr><td>287</td><td> 1</td></tr>\n",
       "\t<tr><td>291</td><td> 1</td></tr>\n",
       "\t<tr><td>292</td><td> 1</td></tr>\n",
       "\t<tr><td>319</td><td> 1</td></tr>\n",
       "\t<tr><td>346</td><td> 1</td></tr>\n",
       "\t<tr><td>368</td><td> 1</td></tr>\n",
       "\t<tr><td>373</td><td> 1</td></tr>\n",
       "\t<tr><td>410</td><td> 1</td></tr>\n",
       "\t<tr><td>411</td><td> 1</td></tr>\n",
       "\t<tr><td>422</td><td> 1</td></tr>\n",
       "\t<tr><td>425</td><td> 1</td></tr>\n",
       "\t<tr><td>452</td><td> 1</td></tr>\n",
       "\t<tr><td>453</td><td> 1</td></tr>\n",
       "\t<tr><td>472</td><td> 1</td></tr>\n",
       "\t<tr><td>483</td><td> 1</td></tr>\n",
       "\t<tr><td>511</td><td> 1</td></tr>\n",
       "\t<tr><td>529</td><td> 1</td></tr>\n",
       "\t<tr><td>531</td><td> 1</td></tr>\n",
       "\t<tr><td>538</td><td> 1</td></tr>\n",
       "\t<tr><td>545</td><td> 1</td></tr>\n",
       "\t<tr><td>546</td><td> 1</td></tr>\n",
       "\t<tr><td>551</td><td> 1</td></tr>\n",
       "\t<tr><td>554</td><td> 1</td></tr>\n",
       "\t<tr><td>636</td><td> 1</td></tr>\n",
       "\t<tr><td>677</td><td> 1</td></tr>\n",
       "\t<tr><td>781</td><td> 1</td></tr>\n",
       "\t<tr><td>814</td><td> 1</td></tr>\n",
       "\t<tr><td>861</td><td> 1</td></tr>\n",
       "</tbody>\n",
       "</table>\n"
      ],
      "text/latex": [
       "A tibble: 59 × 2\n",
       "\\begin{tabular}{ll}\n",
       " best\\_w & m\\\\\n",
       " <int> & <int>\\\\\n",
       "\\hline\n",
       "\t 564 & 18\\\\\n",
       "\t 885 &  9\\\\\n",
       "\t 329 &  7\\\\\n",
       "\t 220 &  4\\\\\n",
       "\t 248 &  3\\\\\n",
       "\t  68 &  2\\\\\n",
       "\t 695 &  2\\\\\n",
       "\t 712 &  2\\\\\n",
       "\t 790 &  2\\\\\n",
       "\t 918 &  2\\\\\n",
       "\t   4 &  1\\\\\n",
       "\t  27 &  1\\\\\n",
       "\t  51 &  1\\\\\n",
       "\t  54 &  1\\\\\n",
       "\t  81 &  1\\\\\n",
       "\t  99 &  1\\\\\n",
       "\t 102 &  1\\\\\n",
       "\t 108 &  1\\\\\n",
       "\t 120 &  1\\\\\n",
       "\t 141 &  1\\\\\n",
       "\t 157 &  1\\\\\n",
       "\t 162 &  1\\\\\n",
       "\t 166 &  1\\\\\n",
       "\t 170 &  1\\\\\n",
       "\t 173 &  1\\\\\n",
       "\t 188 &  1\\\\\n",
       "\t 191 &  1\\\\\n",
       "\t 204 &  1\\\\\n",
       "\t 206 &  1\\\\\n",
       "\t 224 &  1\\\\\n",
       "\t 249 &  1\\\\\n",
       "\t 287 &  1\\\\\n",
       "\t 291 &  1\\\\\n",
       "\t 292 &  1\\\\\n",
       "\t 319 &  1\\\\\n",
       "\t 346 &  1\\\\\n",
       "\t 368 &  1\\\\\n",
       "\t 373 &  1\\\\\n",
       "\t 410 &  1\\\\\n",
       "\t 411 &  1\\\\\n",
       "\t 422 &  1\\\\\n",
       "\t 425 &  1\\\\\n",
       "\t 452 &  1\\\\\n",
       "\t 453 &  1\\\\\n",
       "\t 472 &  1\\\\\n",
       "\t 483 &  1\\\\\n",
       "\t 511 &  1\\\\\n",
       "\t 529 &  1\\\\\n",
       "\t 531 &  1\\\\\n",
       "\t 538 &  1\\\\\n",
       "\t 545 &  1\\\\\n",
       "\t 546 &  1\\\\\n",
       "\t 551 &  1\\\\\n",
       "\t 554 &  1\\\\\n",
       "\t 636 &  1\\\\\n",
       "\t 677 &  1\\\\\n",
       "\t 781 &  1\\\\\n",
       "\t 814 &  1\\\\\n",
       "\t 861 &  1\\\\\n",
       "\\end{tabular}\n"
      ],
      "text/markdown": [
       "\n",
       "A tibble: 59 × 2\n",
       "\n",
       "| best_w &lt;int&gt; | m &lt;int&gt; |\n",
       "|---|---|\n",
       "| 564 | 18 |\n",
       "| 885 |  9 |\n",
       "| 329 |  7 |\n",
       "| 220 |  4 |\n",
       "| 248 |  3 |\n",
       "|  68 |  2 |\n",
       "| 695 |  2 |\n",
       "| 712 |  2 |\n",
       "| 790 |  2 |\n",
       "| 918 |  2 |\n",
       "|   4 |  1 |\n",
       "|  27 |  1 |\n",
       "|  51 |  1 |\n",
       "|  54 |  1 |\n",
       "|  81 |  1 |\n",
       "|  99 |  1 |\n",
       "| 102 |  1 |\n",
       "| 108 |  1 |\n",
       "| 120 |  1 |\n",
       "| 141 |  1 |\n",
       "| 157 |  1 |\n",
       "| 162 |  1 |\n",
       "| 166 |  1 |\n",
       "| 170 |  1 |\n",
       "| 173 |  1 |\n",
       "| 188 |  1 |\n",
       "| 191 |  1 |\n",
       "| 204 |  1 |\n",
       "| 206 |  1 |\n",
       "| 224 |  1 |\n",
       "| 249 |  1 |\n",
       "| 287 |  1 |\n",
       "| 291 |  1 |\n",
       "| 292 |  1 |\n",
       "| 319 |  1 |\n",
       "| 346 |  1 |\n",
       "| 368 |  1 |\n",
       "| 373 |  1 |\n",
       "| 410 |  1 |\n",
       "| 411 |  1 |\n",
       "| 422 |  1 |\n",
       "| 425 |  1 |\n",
       "| 452 |  1 |\n",
       "| 453 |  1 |\n",
       "| 472 |  1 |\n",
       "| 483 |  1 |\n",
       "| 511 |  1 |\n",
       "| 529 |  1 |\n",
       "| 531 |  1 |\n",
       "| 538 |  1 |\n",
       "| 545 |  1 |\n",
       "| 546 |  1 |\n",
       "| 551 |  1 |\n",
       "| 554 |  1 |\n",
       "| 636 |  1 |\n",
       "| 677 |  1 |\n",
       "| 781 |  1 |\n",
       "| 814 |  1 |\n",
       "| 861 |  1 |\n",
       "\n"
      ],
      "text/plain": [
       "   best_w m \n",
       "1  564    18\n",
       "2  885     9\n",
       "3  329     7\n",
       "4  220     4\n",
       "5  248     3\n",
       "6   68     2\n",
       "7  695     2\n",
       "8  712     2\n",
       "9  790     2\n",
       "10 918     2\n",
       "11   4     1\n",
       "12  27     1\n",
       "13  51     1\n",
       "14  54     1\n",
       "15  81     1\n",
       "16  99     1\n",
       "17 102     1\n",
       "18 108     1\n",
       "19 120     1\n",
       "20 141     1\n",
       "21 157     1\n",
       "22 162     1\n",
       "23 166     1\n",
       "24 170     1\n",
       "25 173     1\n",
       "26 188     1\n",
       "27 191     1\n",
       "28 204     1\n",
       "29 206     1\n",
       "30 224     1\n",
       "31 249     1\n",
       "32 287     1\n",
       "33 291     1\n",
       "34 292     1\n",
       "35 319     1\n",
       "36 346     1\n",
       "37 368     1\n",
       "38 373     1\n",
       "39 410     1\n",
       "40 411     1\n",
       "41 422     1\n",
       "42 425     1\n",
       "43 452     1\n",
       "44 453     1\n",
       "45 472     1\n",
       "46 483     1\n",
       "47 511     1\n",
       "48 529     1\n",
       "49 531     1\n",
       "50 538     1\n",
       "51 545     1\n",
       "52 546     1\n",
       "53 551     1\n",
       "54 554     1\n",
       "55 636     1\n",
       "56 677     1\n",
       "57 781     1\n",
       "58 814     1\n",
       "59 861     1"
      ]
     },
     "metadata": {},
     "output_type": "display_data"
    }
   ],
   "source": [
    "r1 |> group_by(best_w) |> summarize(m = n())  |> arrange(desc(m))"
   ]
  },
  {
   "cell_type": "code",
   "execution_count": 65,
   "id": "d8aa3de4-d78f-4c46-8481-fc5921fd836c",
   "metadata": {},
   "outputs": [],
   "source": [
    "ac <- apply(eval_scores(select_bcp(bcp, 1:3), W = W, score = \"acc\")$scores, 2, mean)"
   ]
  },
  {
   "cell_type": "code",
   "execution_count": 66,
   "id": "55b2f9db-b681-467a-ac9e-82135d05f494",
   "metadata": {},
   "outputs": [
    {
     "data": {
      "text/html": [
       "0.856"
      ],
      "text/latex": [
       "0.856"
      ],
      "text/markdown": [
       "0.856"
      ],
      "text/plain": [
       "[1] 0.856"
      ]
     },
     "metadata": {},
     "output_type": "display_data"
    }
   ],
   "source": [
    "max(ac)"
   ]
  },
  {
   "cell_type": "code",
   "execution_count": 67,
   "id": "63390ffc-0e78-4b6a-b5c6-d141958c247e",
   "metadata": {},
   "outputs": [
    {
     "data": {
      "text/html": [
       "<style>\n",
       ".list-inline {list-style: none; margin:0; padding: 0}\n",
       ".list-inline>li {display: inline-block}\n",
       ".list-inline>li:not(:last-child)::after {content: \"\\00b7\"; padding: 0 .5ex}\n",
       "</style>\n",
       "<ol class=list-inline><li>0.85</li><li>0.849</li><li>0.849</li><li>0.851</li><li>0.845</li><li>0.844</li><li>0.851</li></ol>\n"
      ],
      "text/latex": [
       "\\begin{enumerate*}\n",
       "\\item 0.85\n",
       "\\item 0.849\n",
       "\\item 0.849\n",
       "\\item 0.851\n",
       "\\item 0.845\n",
       "\\item 0.844\n",
       "\\item 0.851\n",
       "\\end{enumerate*}\n"
      ],
      "text/markdown": [
       "1. 0.85\n",
       "2. 0.849\n",
       "3. 0.849\n",
       "4. 0.851\n",
       "5. 0.845\n",
       "6. 0.844\n",
       "7. 0.851\n",
       "\n",
       "\n"
      ],
      "text/plain": [
       "[1] 0.850 0.849 0.849 0.851 0.845 0.844 0.851"
      ]
     },
     "metadata": {},
     "output_type": "display_data"
    }
   ],
   "source": [
    "ac[c(810, 902, 897, 625, 373, 72, 123)]"
   ]
  },
  {
   "cell_type": "code",
   "execution_count": 68,
   "id": "ab197455-91c7-443a-a0b4-98d5d1bd66e4",
   "metadata": {},
   "outputs": [
    {
     "data": {
      "text/html": [
       "564"
      ],
      "text/latex": [
       "564"
      ],
      "text/markdown": [
       "564"
      ],
      "text/plain": [
       "[1] 564"
      ]
     },
     "metadata": {},
     "output_type": "display_data"
    }
   ],
   "source": [
    "which.max(ac)"
   ]
  },
  {
   "cell_type": "code",
   "execution_count": 69,
   "id": "8478bb51-5e8f-4de9-83fd-952eab3ba784",
   "metadata": {},
   "outputs": [
    {
     "data": {
      "text/html": [
       "<style>\n",
       ".list-inline {list-style: none; margin:0; padding: 0}\n",
       ".list-inline>li {display: inline-block}\n",
       ".list-inline>li:not(:last-child)::after {content: \"\\00b7\"; padding: 0 .5ex}\n",
       "</style>\n",
       "<ol class=list-inline><li>0.47</li><li>0.22</li><li>0.31</li></ol>\n"
      ],
      "text/latex": [
       "\\begin{enumerate*}\n",
       "\\item 0.47\n",
       "\\item 0.22\n",
       "\\item 0.31\n",
       "\\end{enumerate*}\n"
      ],
      "text/markdown": [
       "1. 0.47\n",
       "2. 0.22\n",
       "3. 0.31\n",
       "\n",
       "\n"
      ],
      "text/plain": [
       "[1] 0.47 0.22 0.31"
      ]
     },
     "metadata": {},
     "output_type": "display_data"
    }
   ],
   "source": [
    "W[810,]"
   ]
  },
  {
   "cell_type": "code",
   "execution_count": 70,
   "id": "803c8ce5-f1e0-4da1-a813-900eb80898b6",
   "metadata": {},
   "outputs": [
    {
     "data": {
      "text/html": [
       "<table class=\"dataframe\">\n",
       "<caption>A tibble: 85 × 2</caption>\n",
       "<thead>\n",
       "\t<tr><th scope=col>best_w</th><th scope=col>m</th></tr>\n",
       "\t<tr><th scope=col>&lt;int&gt;</th><th scope=col>&lt;int&gt;</th></tr>\n",
       "</thead>\n",
       "<tbody>\n",
       "\t<tr><td> 28</td><td>5</td></tr>\n",
       "\t<tr><td> 36</td><td>3</td></tr>\n",
       "\t<tr><td>716</td><td>3</td></tr>\n",
       "\t<tr><td>985</td><td>3</td></tr>\n",
       "\t<tr><td> 17</td><td>2</td></tr>\n",
       "\t<tr><td> 29</td><td>2</td></tr>\n",
       "\t<tr><td> 98</td><td>2</td></tr>\n",
       "\t<tr><td>371</td><td>2</td></tr>\n",
       "\t<tr><td>521</td><td>2</td></tr>\n",
       "\t<tr><td>  4</td><td>1</td></tr>\n",
       "\t<tr><td>  5</td><td>1</td></tr>\n",
       "\t<tr><td>  8</td><td>1</td></tr>\n",
       "\t<tr><td> 11</td><td>1</td></tr>\n",
       "\t<tr><td> 12</td><td>1</td></tr>\n",
       "\t<tr><td> 16</td><td>1</td></tr>\n",
       "\t<tr><td> 18</td><td>1</td></tr>\n",
       "\t<tr><td> 21</td><td>1</td></tr>\n",
       "\t<tr><td> 22</td><td>1</td></tr>\n",
       "\t<tr><td> 25</td><td>1</td></tr>\n",
       "\t<tr><td> 26</td><td>1</td></tr>\n",
       "\t<tr><td> 27</td><td>1</td></tr>\n",
       "\t<tr><td> 31</td><td>1</td></tr>\n",
       "\t<tr><td> 34</td><td>1</td></tr>\n",
       "\t<tr><td> 35</td><td>1</td></tr>\n",
       "\t<tr><td> 38</td><td>1</td></tr>\n",
       "\t<tr><td> 41</td><td>1</td></tr>\n",
       "\t<tr><td> 44</td><td>1</td></tr>\n",
       "\t<tr><td> 45</td><td>1</td></tr>\n",
       "\t<tr><td> 46</td><td>1</td></tr>\n",
       "\t<tr><td> 48</td><td>1</td></tr>\n",
       "\t<tr><td>⋮</td><td>⋮</td></tr>\n",
       "\t<tr><td>226</td><td>1</td></tr>\n",
       "\t<tr><td>231</td><td>1</td></tr>\n",
       "\t<tr><td>240</td><td>1</td></tr>\n",
       "\t<tr><td>241</td><td>1</td></tr>\n",
       "\t<tr><td>245</td><td>1</td></tr>\n",
       "\t<tr><td>254</td><td>1</td></tr>\n",
       "\t<tr><td>260</td><td>1</td></tr>\n",
       "\t<tr><td>268</td><td>1</td></tr>\n",
       "\t<tr><td>269</td><td>1</td></tr>\n",
       "\t<tr><td>280</td><td>1</td></tr>\n",
       "\t<tr><td>323</td><td>1</td></tr>\n",
       "\t<tr><td>331</td><td>1</td></tr>\n",
       "\t<tr><td>399</td><td>1</td></tr>\n",
       "\t<tr><td>400</td><td>1</td></tr>\n",
       "\t<tr><td>406</td><td>1</td></tr>\n",
       "\t<tr><td>418</td><td>1</td></tr>\n",
       "\t<tr><td>419</td><td>1</td></tr>\n",
       "\t<tr><td>426</td><td>1</td></tr>\n",
       "\t<tr><td>438</td><td>1</td></tr>\n",
       "\t<tr><td>480</td><td>1</td></tr>\n",
       "\t<tr><td>488</td><td>1</td></tr>\n",
       "\t<tr><td>502</td><td>1</td></tr>\n",
       "\t<tr><td>533</td><td>1</td></tr>\n",
       "\t<tr><td>570</td><td>1</td></tr>\n",
       "\t<tr><td>585</td><td>1</td></tr>\n",
       "\t<tr><td>591</td><td>1</td></tr>\n",
       "\t<tr><td>601</td><td>1</td></tr>\n",
       "\t<tr><td>607</td><td>1</td></tr>\n",
       "\t<tr><td>652</td><td>1</td></tr>\n",
       "\t<tr><td>748</td><td>1</td></tr>\n",
       "</tbody>\n",
       "</table>\n"
      ],
      "text/latex": [
       "A tibble: 85 × 2\n",
       "\\begin{tabular}{ll}\n",
       " best\\_w & m\\\\\n",
       " <int> & <int>\\\\\n",
       "\\hline\n",
       "\t  28 & 5\\\\\n",
       "\t  36 & 3\\\\\n",
       "\t 716 & 3\\\\\n",
       "\t 985 & 3\\\\\n",
       "\t  17 & 2\\\\\n",
       "\t  29 & 2\\\\\n",
       "\t  98 & 2\\\\\n",
       "\t 371 & 2\\\\\n",
       "\t 521 & 2\\\\\n",
       "\t   4 & 1\\\\\n",
       "\t   5 & 1\\\\\n",
       "\t   8 & 1\\\\\n",
       "\t  11 & 1\\\\\n",
       "\t  12 & 1\\\\\n",
       "\t  16 & 1\\\\\n",
       "\t  18 & 1\\\\\n",
       "\t  21 & 1\\\\\n",
       "\t  22 & 1\\\\\n",
       "\t  25 & 1\\\\\n",
       "\t  26 & 1\\\\\n",
       "\t  27 & 1\\\\\n",
       "\t  31 & 1\\\\\n",
       "\t  34 & 1\\\\\n",
       "\t  35 & 1\\\\\n",
       "\t  38 & 1\\\\\n",
       "\t  41 & 1\\\\\n",
       "\t  44 & 1\\\\\n",
       "\t  45 & 1\\\\\n",
       "\t  46 & 1\\\\\n",
       "\t  48 & 1\\\\\n",
       "\t ⋮ & ⋮\\\\\n",
       "\t 226 & 1\\\\\n",
       "\t 231 & 1\\\\\n",
       "\t 240 & 1\\\\\n",
       "\t 241 & 1\\\\\n",
       "\t 245 & 1\\\\\n",
       "\t 254 & 1\\\\\n",
       "\t 260 & 1\\\\\n",
       "\t 268 & 1\\\\\n",
       "\t 269 & 1\\\\\n",
       "\t 280 & 1\\\\\n",
       "\t 323 & 1\\\\\n",
       "\t 331 & 1\\\\\n",
       "\t 399 & 1\\\\\n",
       "\t 400 & 1\\\\\n",
       "\t 406 & 1\\\\\n",
       "\t 418 & 1\\\\\n",
       "\t 419 & 1\\\\\n",
       "\t 426 & 1\\\\\n",
       "\t 438 & 1\\\\\n",
       "\t 480 & 1\\\\\n",
       "\t 488 & 1\\\\\n",
       "\t 502 & 1\\\\\n",
       "\t 533 & 1\\\\\n",
       "\t 570 & 1\\\\\n",
       "\t 585 & 1\\\\\n",
       "\t 591 & 1\\\\\n",
       "\t 601 & 1\\\\\n",
       "\t 607 & 1\\\\\n",
       "\t 652 & 1\\\\\n",
       "\t 748 & 1\\\\\n",
       "\\end{tabular}\n"
      ],
      "text/markdown": [
       "\n",
       "A tibble: 85 × 2\n",
       "\n",
       "| best_w &lt;int&gt; | m &lt;int&gt; |\n",
       "|---|---|\n",
       "|  28 | 5 |\n",
       "|  36 | 3 |\n",
       "| 716 | 3 |\n",
       "| 985 | 3 |\n",
       "|  17 | 2 |\n",
       "|  29 | 2 |\n",
       "|  98 | 2 |\n",
       "| 371 | 2 |\n",
       "| 521 | 2 |\n",
       "|   4 | 1 |\n",
       "|   5 | 1 |\n",
       "|   8 | 1 |\n",
       "|  11 | 1 |\n",
       "|  12 | 1 |\n",
       "|  16 | 1 |\n",
       "|  18 | 1 |\n",
       "|  21 | 1 |\n",
       "|  22 | 1 |\n",
       "|  25 | 1 |\n",
       "|  26 | 1 |\n",
       "|  27 | 1 |\n",
       "|  31 | 1 |\n",
       "|  34 | 1 |\n",
       "|  35 | 1 |\n",
       "|  38 | 1 |\n",
       "|  41 | 1 |\n",
       "|  44 | 1 |\n",
       "|  45 | 1 |\n",
       "|  46 | 1 |\n",
       "|  48 | 1 |\n",
       "| ⋮ | ⋮ |\n",
       "| 226 | 1 |\n",
       "| 231 | 1 |\n",
       "| 240 | 1 |\n",
       "| 241 | 1 |\n",
       "| 245 | 1 |\n",
       "| 254 | 1 |\n",
       "| 260 | 1 |\n",
       "| 268 | 1 |\n",
       "| 269 | 1 |\n",
       "| 280 | 1 |\n",
       "| 323 | 1 |\n",
       "| 331 | 1 |\n",
       "| 399 | 1 |\n",
       "| 400 | 1 |\n",
       "| 406 | 1 |\n",
       "| 418 | 1 |\n",
       "| 419 | 1 |\n",
       "| 426 | 1 |\n",
       "| 438 | 1 |\n",
       "| 480 | 1 |\n",
       "| 488 | 1 |\n",
       "| 502 | 1 |\n",
       "| 533 | 1 |\n",
       "| 570 | 1 |\n",
       "| 585 | 1 |\n",
       "| 591 | 1 |\n",
       "| 601 | 1 |\n",
       "| 607 | 1 |\n",
       "| 652 | 1 |\n",
       "| 748 | 1 |\n",
       "\n"
      ],
      "text/plain": [
       "   best_w m\n",
       "1   28    5\n",
       "2   36    3\n",
       "3  716    3\n",
       "4  985    3\n",
       "5   17    2\n",
       "6   29    2\n",
       "7   98    2\n",
       "8  371    2\n",
       "9  521    2\n",
       "10   4    1\n",
       "11   5    1\n",
       "12   8    1\n",
       "13  11    1\n",
       "14  12    1\n",
       "15  16    1\n",
       "16  18    1\n",
       "17  21    1\n",
       "18  22    1\n",
       "19  25    1\n",
       "20  26    1\n",
       "21  27    1\n",
       "22  31    1\n",
       "23  34    1\n",
       "24  35    1\n",
       "25  38    1\n",
       "26  41    1\n",
       "27  44    1\n",
       "28  45    1\n",
       "29  46    1\n",
       "30  48    1\n",
       "⋮  ⋮      ⋮\n",
       "56 226    1\n",
       "57 231    1\n",
       "58 240    1\n",
       "59 241    1\n",
       "60 245    1\n",
       "61 254    1\n",
       "62 260    1\n",
       "63 268    1\n",
       "64 269    1\n",
       "65 280    1\n",
       "66 323    1\n",
       "67 331    1\n",
       "68 399    1\n",
       "69 400    1\n",
       "70 406    1\n",
       "71 418    1\n",
       "72 419    1\n",
       "73 426    1\n",
       "74 438    1\n",
       "75 480    1\n",
       "76 488    1\n",
       "77 502    1\n",
       "78 533    1\n",
       "79 570    1\n",
       "80 585    1\n",
       "81 591    1\n",
       "82 601    1\n",
       "83 607    1\n",
       "84 652    1\n",
       "85 748    1"
      ]
     },
     "metadata": {},
     "output_type": "display_data"
    }
   ],
   "source": [
    "r3 |> group_by(best_w) |> summarize(m = n())  |> arrange(desc(m))"
   ]
  },
  {
   "cell_type": "code",
   "execution_count": 71,
   "id": "5072b0ec-5739-408e-b543-97ddb524b5d1",
   "metadata": {},
   "outputs": [
    {
     "data": {
      "text/html": [
       "<style>\n",
       ".list-inline {list-style: none; margin:0; padding: 0}\n",
       ".list-inline>li {display: inline-block}\n",
       ".list-inline>li:not(:last-child)::after {content: \"\\00b7\"; padding: 0 .5ex}\n",
       "</style>\n",
       "<ol class=list-inline><li>0.849</li><li>0.85</li><li>0.848</li><li>0.853</li><li>0.837</li><li>0.849</li><li>0.835</li></ol>\n"
      ],
      "text/latex": [
       "\\begin{enumerate*}\n",
       "\\item 0.849\n",
       "\\item 0.85\n",
       "\\item 0.848\n",
       "\\item 0.853\n",
       "\\item 0.837\n",
       "\\item 0.849\n",
       "\\item 0.835\n",
       "\\end{enumerate*}\n"
      ],
      "text/markdown": [
       "1. 0.849\n",
       "2. 0.85\n",
       "3. 0.848\n",
       "4. 0.853\n",
       "5. 0.837\n",
       "6. 0.849\n",
       "7. 0.835\n",
       "\n",
       "\n"
      ],
      "text/plain": [
       "[1] 0.849 0.850 0.848 0.853 0.837 0.849 0.835"
      ]
     },
     "metadata": {},
     "output_type": "display_data"
    }
   ],
   "source": [
    "ac[c(112,960,585, 353,58,7,8)]"
   ]
  },
  {
   "cell_type": "markdown",
   "id": "9ecae8a3-a6bf-4ff1-aeb9-5e67dad276cb",
   "metadata": {},
   "source": [
    "### Crossvalidation of best ensemble (1,2,4)"
   ]
  },
  {
   "cell_type": "code",
   "execution_count": 72,
   "id": "302a95e2-4e48-49a0-8328-1e10e6cea1a5",
   "metadata": {},
   "outputs": [
    {
     "name": "stdout",
     "output_type": "stream",
     "text": [
      "[1] 1000 1000\n"
     ]
    },
    {
     "data": {
      "text/html": [
       "<table class=\"dataframe\">\n",
       "<caption>A tibble: 1 × 1</caption>\n",
       "<thead>\n",
       "\t<tr><th scope=col>mean(m)</th></tr>\n",
       "\t<tr><th scope=col>&lt;dbl&gt;</th></tr>\n",
       "</thead>\n",
       "<tbody>\n",
       "\t<tr><td>851.15</td></tr>\n",
       "</tbody>\n",
       "</table>\n"
      ],
      "text/latex": [
       "A tibble: 1 × 1\n",
       "\\begin{tabular}{l}\n",
       " mean(m)\\\\\n",
       " <dbl>\\\\\n",
       "\\hline\n",
       "\t 851.15\\\\\n",
       "\\end{tabular}\n"
      ],
      "text/markdown": [
       "\n",
       "A tibble: 1 × 1\n",
       "\n",
       "| mean(m) &lt;dbl&gt; |\n",
       "|---|\n",
       "| 851.15 |\n",
       "\n"
      ],
      "text/plain": [
       "  mean(m)\n",
       "1 851.15 "
      ]
     },
     "metadata": {},
     "output_type": "display_data"
    }
   ],
   "source": [
    "r4 <- cv_stack(bcp = select_bcp(bcp, c(1,2,4)), W = W, score = \"acc\")\n",
    "r4 |> group_by(rep) |> summarize(m = sum(correct2)) |> summarize(mean(m))"
   ]
  },
  {
   "cell_type": "markdown",
   "id": "abe1be14-f8d5-4d56-97ea-4a018d3c68b2",
   "metadata": {},
   "source": [
    "### Crossvalidation of best ensemble (1,3,4)"
   ]
  },
  {
   "cell_type": "code",
   "execution_count": 73,
   "id": "1195d886-4279-4fb4-b315-2df6179a4c8d",
   "metadata": {},
   "outputs": [
    {
     "name": "stdout",
     "output_type": "stream",
     "text": [
      "[1] 1000 1000\n"
     ]
    },
    {
     "data": {
      "text/html": [
       "<table class=\"dataframe\">\n",
       "<caption>A tibble: 1 × 1</caption>\n",
       "<thead>\n",
       "\t<tr><th scope=col>mean(m)</th></tr>\n",
       "\t<tr><th scope=col>&lt;dbl&gt;</th></tr>\n",
       "</thead>\n",
       "<tbody>\n",
       "\t<tr><td>845.45</td></tr>\n",
       "</tbody>\n",
       "</table>\n"
      ],
      "text/latex": [
       "A tibble: 1 × 1\n",
       "\\begin{tabular}{l}\n",
       " mean(m)\\\\\n",
       " <dbl>\\\\\n",
       "\\hline\n",
       "\t 845.45\\\\\n",
       "\\end{tabular}\n"
      ],
      "text/markdown": [
       "\n",
       "A tibble: 1 × 1\n",
       "\n",
       "| mean(m) &lt;dbl&gt; |\n",
       "|---|\n",
       "| 845.45 |\n",
       "\n"
      ],
      "text/plain": [
       "  mean(m)\n",
       "1 845.45 "
      ]
     },
     "metadata": {},
     "output_type": "display_data"
    }
   ],
   "source": [
    "r5 <- cv_stack(bcp = select_bcp(bcp, c(1,3,4)), W = W, score = \"acc\")\n",
    "r5 |> group_by(rep) |> summarize(m = sum(correct2)) |> summarize(mean(m))"
   ]
  },
  {
   "cell_type": "code",
   "execution_count": 74,
   "id": "4b0b25df-1518-4d25-9653-ad741dd8451b",
   "metadata": {},
   "outputs": [
    {
     "name": "stdout",
     "output_type": "stream",
     "text": [
      "[1] 1000 1000\n"
     ]
    },
    {
     "data": {
      "text/html": [
       "<table class=\"dataframe\">\n",
       "<caption>A tibble: 1 × 1</caption>\n",
       "<thead>\n",
       "\t<tr><th scope=col>mean(m)</th></tr>\n",
       "\t<tr><th scope=col>&lt;dbl&gt;</th></tr>\n",
       "</thead>\n",
       "<tbody>\n",
       "\t<tr><td>844.25</td></tr>\n",
       "</tbody>\n",
       "</table>\n"
      ],
      "text/latex": [
       "A tibble: 1 × 1\n",
       "\\begin{tabular}{l}\n",
       " mean(m)\\\\\n",
       " <dbl>\\\\\n",
       "\\hline\n",
       "\t 844.25\\\\\n",
       "\\end{tabular}\n"
      ],
      "text/markdown": [
       "\n",
       "A tibble: 1 × 1\n",
       "\n",
       "| mean(m) &lt;dbl&gt; |\n",
       "|---|\n",
       "| 844.25 |\n",
       "\n"
      ],
      "text/plain": [
       "  mean(m)\n",
       "1 844.25 "
      ]
     },
     "metadata": {},
     "output_type": "display_data"
    }
   ],
   "source": [
    "r6 <- cv_stack(bcp = select_bcp(bcp, c(1,3,4)), W = W, score = \"acc\")\n",
    "r6 |> group_by(rep) |> summarize(m = sum(correct2)) |> summarize(mean(m))"
   ]
  },
  {
   "cell_type": "markdown",
   "id": "905eea85-9d19-41f6-8e9d-6b0037c01b14",
   "metadata": {},
   "source": [
    "### Crossvalidation of best ensemble (2,3,4)"
   ]
  },
  {
   "cell_type": "code",
   "execution_count": 75,
   "id": "e2a4a906-4931-4091-a1ca-8fac4ba5d096",
   "metadata": {},
   "outputs": [
    {
     "name": "stdout",
     "output_type": "stream",
     "text": [
      "[1] 1000 1000\n"
     ]
    },
    {
     "data": {
      "text/html": [
       "<table class=\"dataframe\">\n",
       "<caption>A tibble: 1 × 1</caption>\n",
       "<thead>\n",
       "\t<tr><th scope=col>mean(m)</th></tr>\n",
       "\t<tr><th scope=col>&lt;dbl&gt;</th></tr>\n",
       "</thead>\n",
       "<tbody>\n",
       "\t<tr><td>848.4</td></tr>\n",
       "</tbody>\n",
       "</table>\n"
      ],
      "text/latex": [
       "A tibble: 1 × 1\n",
       "\\begin{tabular}{l}\n",
       " mean(m)\\\\\n",
       " <dbl>\\\\\n",
       "\\hline\n",
       "\t 848.4\\\\\n",
       "\\end{tabular}\n"
      ],
      "text/markdown": [
       "\n",
       "A tibble: 1 × 1\n",
       "\n",
       "| mean(m) &lt;dbl&gt; |\n",
       "|---|\n",
       "| 848.4 |\n",
       "\n"
      ],
      "text/plain": [
       "  mean(m)\n",
       "1 848.4  "
      ]
     },
     "metadata": {},
     "output_type": "display_data"
    }
   ],
   "source": [
    "r7 <- cv_stack(bcp = select_bcp(bcp, c(2,3,4)), W = W, score = \"acc\")\n",
    "r7 |> group_by(rep) |> summarize(m = sum(correct2)) |> summarize(mean(m))"
   ]
  },
  {
   "cell_type": "markdown",
   "id": "fa9a5d07-5927-47da-baa1-1c7b32b75941",
   "metadata": {},
   "source": [
    "### Crossvalidation of best ensemble (1,2)"
   ]
  },
  {
   "cell_type": "code",
   "execution_count": 76,
   "id": "536960fa-1e29-4d2f-881e-7e830006b0f0",
   "metadata": {},
   "outputs": [],
   "source": [
    "W1 <- matrix(seq(0,1, length.out = 51), ncol = 2, nrow = 51, byrow=F)\n",
    "W1[,2] = 1 - W1[,1]"
   ]
  },
  {
   "cell_type": "code",
   "execution_count": 77,
   "id": "70974fe2-8343-491d-bf8c-317294042954",
   "metadata": {},
   "outputs": [
    {
     "name": "stdout",
     "output_type": "stream",
     "text": [
      "[1] 1000   51\n"
     ]
    }
   ],
   "source": [
    "r8 <- cv_stack(bcp = select_bcp(bcp, 1:2), W = W1, score = \"acc\")"
   ]
  },
  {
   "cell_type": "code",
   "execution_count": 78,
   "id": "d3cb7b6a-bc36-4fad-93a1-4744784ba85f",
   "metadata": {},
   "outputs": [
    {
     "name": "stdout",
     "output_type": "stream",
     "text": [
      "\u001b[90m# A tibble: 20 × 2\u001b[39m\n",
      "  best_w     m\n",
      "   \u001b[3m\u001b[90m<int>\u001b[39m\u001b[23m \u001b[3m\u001b[90m<int>\u001b[39m\u001b[23m\n",
      "\u001b[90m1\u001b[39m      3    29\n",
      "\u001b[90m2\u001b[39m      5    13\n",
      "\u001b[90m3\u001b[39m     45    11\n",
      "\u001b[90m4\u001b[39m      1     7\n",
      "\u001b[90m5\u001b[39m      2     7\n",
      "\u001b[90m# ℹ 15 more rows\u001b[39m\n"
     ]
    }
   ],
   "source": [
    "r8 |> group_by(best_w) |> summarize(m=n()) |> arrange(desc(m)) |> print(n = 5)"
   ]
  },
  {
   "cell_type": "code",
   "execution_count": 79,
   "id": "f7986dfe-5004-4597-af12-1cd7ab6c7119",
   "metadata": {},
   "outputs": [
    {
     "name": "stdout",
     "output_type": "stream",
     "text": [
      "[1] 1000   51\n",
      "\u001b[90m# A tibble: 35 × 2\u001b[39m\n",
      "  best_w     m\n",
      "   \u001b[3m\u001b[90m<int>\u001b[39m\u001b[23m \u001b[3m\u001b[90m<int>\u001b[39m\u001b[23m\n",
      "\u001b[90m1\u001b[39m     13     8\n",
      "\u001b[90m2\u001b[39m     16     6\n",
      "\u001b[90m3\u001b[39m     18     6\n",
      "\u001b[90m4\u001b[39m      2     5\n",
      "\u001b[90m5\u001b[39m     22     5\n",
      "\u001b[90m# ℹ 30 more rows\u001b[39m\n"
     ]
    }
   ],
   "source": [
    "r9 <- cv_stack(bcp = select_bcp(bcp, 1:2), W = W1, score = \"brier\")\n",
    "r9 |> group_by(best_w) |> summarize(m=n()) |> arrange(desc(m)) |> print(n = 5)"
   ]
  },
  {
   "cell_type": "code",
   "execution_count": 80,
   "id": "5cd359c2-e527-4349-962f-a67051525bed",
   "metadata": {},
   "outputs": [
    {
     "name": "stdout",
     "output_type": "stream",
     "text": [
      "[1] 1000   51\n",
      "\u001b[90m# A tibble: 35 × 2\u001b[39m\n",
      "  best_w     m\n",
      "   \u001b[3m\u001b[90m<int>\u001b[39m\u001b[23m \u001b[3m\u001b[90m<int>\u001b[39m\u001b[23m\n",
      "\u001b[90m1\u001b[39m     12     9\n",
      "\u001b[90m2\u001b[39m      3     6\n",
      "\u001b[90m3\u001b[39m      8     5\n",
      "\u001b[90m4\u001b[39m     23     5\n",
      "\u001b[90m5\u001b[39m     29     5\n",
      "\u001b[90m# ℹ 30 more rows\u001b[39m\n"
     ]
    }
   ],
   "source": [
    "r10 <- cv_stack(bcp = select_bcp(bcp, 1:2), W = W1, score = \"log\")\n",
    "r10 |> group_by(best_w) |> summarize(m=n()) |> arrange(desc(m)) |> print(n = 5)"
   ]
  },
  {
   "cell_type": "code",
   "execution_count": 81,
   "id": "d9466b8c-5b3b-446d-a5b7-826fda114854",
   "metadata": {},
   "outputs": [],
   "source": [
    "ac1 <- apply(eval_scores(select_bcp(bcp, 1:2), W = W1, score = \"acc\")$scores, 2, mean)"
   ]
  },
  {
   "cell_type": "code",
   "execution_count": 82,
   "id": "98130078-990e-45d1-b93c-047ad845fa2d",
   "metadata": {},
   "outputs": [
    {
     "data": {
      "text/html": [
       "3"
      ],
      "text/latex": [
       "3"
      ],
      "text/markdown": [
       "3"
      ],
      "text/plain": [
       "[1] 3"
      ]
     },
     "metadata": {},
     "output_type": "display_data"
    },
    {
     "data": {
      "text/html": [
       "0.856"
      ],
      "text/latex": [
       "0.856"
      ],
      "text/markdown": [
       "0.856"
      ],
      "text/plain": [
       "[1] 0.856"
      ]
     },
     "metadata": {},
     "output_type": "display_data"
    },
    {
     "data": {
      "text/html": [
       "0.846"
      ],
      "text/latex": [
       "0.846"
      ],
      "text/markdown": [
       "0.846"
      ],
      "text/plain": [
       "[1] 0.846"
      ]
     },
     "metadata": {},
     "output_type": "display_data"
    },
    {
     "data": {
      "text/html": [
       "22"
      ],
      "text/latex": [
       "22"
      ],
      "text/markdown": [
       "22"
      ],
      "text/plain": [
       "[1] 22"
      ]
     },
     "metadata": {},
     "output_type": "display_data"
    },
    {
     "data": {
      "text/html": [
       "<style>\n",
       ".list-inline {list-style: none; margin:0; padding: 0}\n",
       ".list-inline>li {display: inline-block}\n",
       ".list-inline>li:not(:last-child)::after {content: \"\\00b7\"; padding: 0 .5ex}\n",
       "</style>\n",
       "<ol class=list-inline><li>0</li><li>1</li></ol>\n"
      ],
      "text/latex": [
       "\\begin{enumerate*}\n",
       "\\item 0\n",
       "\\item 1\n",
       "\\end{enumerate*}\n"
      ],
      "text/markdown": [
       "1. 0\n",
       "2. 1\n",
       "\n",
       "\n"
      ],
      "text/plain": [
       "[1] 0 1"
      ]
     },
     "metadata": {},
     "output_type": "display_data"
    }
   ],
   "source": [
    "which.max(ac1)\n",
    "max(ac1)\n",
    "min(ac1)\n",
    "which.min(ac1)\n",
    "W1[1,]"
   ]
  },
  {
   "cell_type": "code",
   "execution_count": 83,
   "id": "533752f7-34bd-44da-9499-f54a6c5f0a92",
   "metadata": {},
   "outputs": [
    {
     "data": {
      "text/html": [
       "<style>\n",
       ".list-inline {list-style: none; margin:0; padding: 0}\n",
       ".list-inline>li {display: inline-block}\n",
       ".list-inline>li:not(:last-child)::after {content: \"\\00b7\"; padding: 0 .5ex}\n",
       "</style>\n",
       "<ol class=list-inline><li>0.852</li><li>0.852</li><li>0.848</li><li>0.85</li><li>0.85</li></ol>\n"
      ],
      "text/latex": [
       "\\begin{enumerate*}\n",
       "\\item 0.852\n",
       "\\item 0.852\n",
       "\\item 0.848\n",
       "\\item 0.85\n",
       "\\item 0.85\n",
       "\\end{enumerate*}\n"
      ],
      "text/markdown": [
       "1. 0.852\n",
       "2. 0.852\n",
       "3. 0.848\n",
       "4. 0.85\n",
       "5. 0.85\n",
       "\n",
       "\n"
      ],
      "text/plain": [
       "[1] 0.852 0.852 0.848 0.850 0.850"
      ]
     },
     "metadata": {},
     "output_type": "display_data"
    }
   ],
   "source": [
    "ac1[c(13,46,19,27,33)]"
   ]
  },
  {
   "cell_type": "code",
   "execution_count": 84,
   "id": "41269f33-272c-481c-933a-72b7ede7a6a1",
   "metadata": {},
   "outputs": [
    {
     "data": {
      "text/html": [
       "<table class=\"dataframe\">\n",
       "<caption>A matrix: 3 × 2 of type dbl</caption>\n",
       "<tbody>\n",
       "\t<tr><td>0.42</td><td>0.58</td></tr>\n",
       "\t<tr><td>0.46</td><td>0.54</td></tr>\n",
       "\t<tr><td>0.60</td><td>0.40</td></tr>\n",
       "</tbody>\n",
       "</table>\n"
      ],
      "text/latex": [
       "A matrix: 3 × 2 of type dbl\n",
       "\\begin{tabular}{ll}\n",
       "\t 0.42 & 0.58\\\\\n",
       "\t 0.46 & 0.54\\\\\n",
       "\t 0.60 & 0.40\\\\\n",
       "\\end{tabular}\n"
      ],
      "text/markdown": [
       "\n",
       "A matrix: 3 × 2 of type dbl\n",
       "\n",
       "| 0.42 | 0.58 |\n",
       "| 0.46 | 0.54 |\n",
       "| 0.60 | 0.40 |\n",
       "\n"
      ],
      "text/plain": [
       "     [,1] [,2]\n",
       "[1,] 0.42 0.58\n",
       "[2,] 0.46 0.54\n",
       "[3,] 0.60 0.40"
      ]
     },
     "metadata": {},
     "output_type": "display_data"
    }
   ],
   "source": [
    "W1[c(22,24,31),]"
   ]
  },
  {
   "cell_type": "code",
   "execution_count": 85,
   "id": "d92e7664-6f88-426c-bb40-577a4bb78875",
   "metadata": {},
   "outputs": [
    {
     "data": {
      "image/png": "[encoded data removed]",
      "text/plain": [
       "plot without title"
      ]
     },
     "metadata": {
      "image/png": {
       "height": 420,
       "width": 420
      }
     },
     "output_type": "display_data"
    }
   ],
   "source": [
    "plot(W1[,1], ac1, type = \"l\")"
   ]
  },
  {
   "cell_type": "code",
   "execution_count": 86,
   "id": "7479a882-d7b3-4245-94cf-594b19d7c76e",
   "metadata": {},
   "outputs": [
    {
     "data": {
      "image/png": "[encoded data removed]",
      "text/plain": [
       "plot without title"
      ]
     },
     "metadata": {
      "image/png": {
       "height": 420,
       "width": 420
      }
     },
     "output_type": "display_data"
    }
   ],
   "source": [
    "ac2 <- apply(eval_scores(select_bcp(bcp, 1:2), W = W1, score = \"brier\")$scores, 2, mean)\n",
    "plot(W1[,1], ac2, type = \"l\")"
   ]
  },
  {
   "cell_type": "code",
   "execution_count": 87,
   "id": "4e5a7e33-bf85-4e57-b140-8b21acaadc9f",
   "metadata": {},
   "outputs": [
    {
     "data": {
      "image/png": "[encoded data removed]",
      "text/plain": [
       "plot without title"
      ]
     },
     "metadata": {
      "image/png": {
       "height": 420,
       "width": 420
      }
     },
     "output_type": "display_data"
    }
   ],
   "source": [
    "ac3 <- apply(eval_scores(select_bcp(bcp, 1:2), W = W1, score = \"log\")$scores, 2, mean)\n",
    "plot(W1[,1], ac3, type = \"l\")"
   ]
  },
  {
   "cell_type": "code",
   "execution_count": 88,
   "id": "da544255-17a0-4fed-90ad-5775f0c21ac5",
   "metadata": {},
   "outputs": [
    {
     "data": {
      "text/html": [
       "<table class=\"dataframe\">\n",
       "<caption>A tibble: 1 × 1</caption>\n",
       "<thead>\n",
       "\t<tr><th scope=col>mean(m)</th></tr>\n",
       "\t<tr><th scope=col>&lt;dbl&gt;</th></tr>\n",
       "</thead>\n",
       "<tbody>\n",
       "\t<tr><td>849.4</td></tr>\n",
       "</tbody>\n",
       "</table>\n"
      ],
      "text/latex": [
       "A tibble: 1 × 1\n",
       "\\begin{tabular}{l}\n",
       " mean(m)\\\\\n",
       " <dbl>\\\\\n",
       "\\hline\n",
       "\t 849.4\\\\\n",
       "\\end{tabular}\n"
      ],
      "text/markdown": [
       "\n",
       "A tibble: 1 × 1\n",
       "\n",
       "| mean(m) &lt;dbl&gt; |\n",
       "|---|\n",
       "| 849.4 |\n",
       "\n"
      ],
      "text/plain": [
       "  mean(m)\n",
       "1 849.4  "
      ]
     },
     "metadata": {},
     "output_type": "display_data"
    }
   ],
   "source": [
    "r8 |> group_by(rep) |> summarize(m = sum(correct2)) |> summarize(mean(m))"
   ]
  },
  {
   "cell_type": "code",
   "execution_count": 89,
   "id": "6c79ecaa-274b-4c9c-82cc-506056b8d601",
   "metadata": {},
   "outputs": [
    {
     "data": {
      "text/html": [
       "<table class=\"dataframe\">\n",
       "<caption>A tibble: 1 × 1</caption>\n",
       "<thead>\n",
       "\t<tr><th scope=col>mean(m)</th></tr>\n",
       "\t<tr><th scope=col>&lt;dbl&gt;</th></tr>\n",
       "</thead>\n",
       "<tbody>\n",
       "\t<tr><td>850.15</td></tr>\n",
       "</tbody>\n",
       "</table>\n"
      ],
      "text/latex": [
       "A tibble: 1 × 1\n",
       "\\begin{tabular}{l}\n",
       " mean(m)\\\\\n",
       " <dbl>\\\\\n",
       "\\hline\n",
       "\t 850.15\\\\\n",
       "\\end{tabular}\n"
      ],
      "text/markdown": [
       "\n",
       "A tibble: 1 × 1\n",
       "\n",
       "| mean(m) &lt;dbl&gt; |\n",
       "|---|\n",
       "| 850.15 |\n",
       "\n"
      ],
      "text/plain": [
       "  mean(m)\n",
       "1 850.15 "
      ]
     },
     "metadata": {},
     "output_type": "display_data"
    }
   ],
   "source": [
    "r9 |> group_by(rep) |> summarize(m = sum(correct2)) |> summarize(mean(m))"
   ]
  },
  {
   "cell_type": "code",
   "execution_count": null,
   "id": "a56c8fe1-7dd6-4216-ae09-657cfe63f1eb",
   "metadata": {},
   "outputs": [],
   "source": []
  },
  {
   "cell_type": "code",
   "execution_count": 90,
   "id": "07c01423-5a92-4f2c-9e6f-5829cc31fffa",
   "metadata": {},
   "outputs": [
    {
     "data": {
      "text/html": [
       "<table class=\"dataframe\">\n",
       "<caption>A tibble: 1 × 1</caption>\n",
       "<thead>\n",
       "\t<tr><th scope=col>mean(m)</th></tr>\n",
       "\t<tr><th scope=col>&lt;dbl&gt;</th></tr>\n",
       "</thead>\n",
       "<tbody>\n",
       "\t<tr><td>851.95</td></tr>\n",
       "</tbody>\n",
       "</table>\n"
      ],
      "text/latex": [
       "A tibble: 1 × 1\n",
       "\\begin{tabular}{l}\n",
       " mean(m)\\\\\n",
       " <dbl>\\\\\n",
       "\\hline\n",
       "\t 851.95\\\\\n",
       "\\end{tabular}\n"
      ],
      "text/markdown": [
       "\n",
       "A tibble: 1 × 1\n",
       "\n",
       "| mean(m) &lt;dbl&gt; |\n",
       "|---|\n",
       "| 851.95 |\n",
       "\n"
      ],
      "text/plain": [
       "  mean(m)\n",
       "1 851.95 "
      ]
     },
     "metadata": {},
     "output_type": "display_data"
    }
   ],
   "source": [
    "r10 |> group_by(rep) |> summarize(m = sum(correct2)) |> summarize(mean(m))"
   ]
  },
  {
   "cell_type": "code",
   "execution_count": null,
   "id": "4f8ab288-dc33-48d4-a1ea-2b7177d72c21",
   "metadata": {},
   "outputs": [],
   "source": []
  }
 ],
 "metadata": {
  "kernelspec": {
   "display_name": "R",
   "language": "R",
   "name": "ir"
  },
  "language_info": {
   "codemirror_mode": "r",
   "file_extension": ".r",
   "mimetype": "text/x-r-source",
   "name": "R",
   "pygments_lexer": "r",
   "version": "4.4.2"
  }
 },
 "nbformat": 4,
 "nbformat_minor": 5
}
